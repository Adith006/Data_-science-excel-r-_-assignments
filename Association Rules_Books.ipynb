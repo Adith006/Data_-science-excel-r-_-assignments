{
 "cells": [
  {
   "cell_type": "markdown",
   "id": "40bab29f",
   "metadata": {},
   "source": [
    "## Association Rules for Books"
   ]
  },
  {
   "cell_type": "code",
   "execution_count": 89,
   "id": "79efc531",
   "metadata": {},
   "outputs": [],
   "source": [
    "import pandas as pd \n",
    "import numpy as np \n",
    "import matplotlib.pyplot as plt \n",
    "import seaborn as sn \n",
    "import plotly\n",
    "from chart_studio import plotly\n",
    "import plotly.graph_objs as go\n",
    "from plotly.offline import download_plotlyjs, init_notebook_mode, plot, iplot\n",
    "import plotly.express as px\n",
    "from plotly.subplots import make_subplots\n",
    "import plotly.figure_factory as ff\n",
    "from mlxtend.frequent_patterns import apriori,association_rules\n",
    "from mlxtend.preprocessing import TransactionEncoder\n",
    "from wordcloud import WordCloud\n",
    "from sklearn.datasets import make_blobs\n",
    "from sklearn.metrics import silhouette_score\n",
    "from sklearn.cluster import KMeans,AgglomerativeClustering,DBSCAN\n",
    "from scipy.cluster import hierarchy as sch\n",
    "%matplotlib inline\n",
    "import warnings\n",
    "warnings.filterwarnings('ignore')"
   ]
  },
  {
   "cell_type": "code",
   "execution_count": 40,
   "id": "dd28e30f",
   "metadata": {},
   "outputs": [],
   "source": [
    "df = pd.read_csv(r\"C:\\Users\\Adith\\Desktop\\Data Science_Excel R\\home assignments\\Association rules\\book.csv\")"
   ]
  },
  {
   "cell_type": "markdown",
   "id": "4b3ee4ee",
   "metadata": {},
   "source": [
    "## Data exploration"
   ]
  },
  {
   "cell_type": "code",
   "execution_count": 41,
   "id": "a1817849",
   "metadata": {
    "scrolled": true
   },
   "outputs": [
    {
     "data": {
      "text/html": [
       "<div>\n",
       "<style scoped>\n",
       "    .dataframe tbody tr th:only-of-type {\n",
       "        vertical-align: middle;\n",
       "    }\n",
       "\n",
       "    .dataframe tbody tr th {\n",
       "        vertical-align: top;\n",
       "    }\n",
       "\n",
       "    .dataframe thead th {\n",
       "        text-align: right;\n",
       "    }\n",
       "</style>\n",
       "<table border=\"1\" class=\"dataframe\">\n",
       "  <thead>\n",
       "    <tr style=\"text-align: right;\">\n",
       "      <th></th>\n",
       "      <th>ChildBks</th>\n",
       "      <th>YouthBks</th>\n",
       "      <th>CookBks</th>\n",
       "      <th>DoItYBks</th>\n",
       "      <th>RefBks</th>\n",
       "      <th>ArtBks</th>\n",
       "      <th>GeogBks</th>\n",
       "      <th>ItalCook</th>\n",
       "      <th>ItalAtlas</th>\n",
       "      <th>ItalArt</th>\n",
       "      <th>Florence</th>\n",
       "    </tr>\n",
       "  </thead>\n",
       "  <tbody>\n",
       "    <tr>\n",
       "      <th>0</th>\n",
       "      <td>0</td>\n",
       "      <td>1</td>\n",
       "      <td>0</td>\n",
       "      <td>1</td>\n",
       "      <td>0</td>\n",
       "      <td>0</td>\n",
       "      <td>1</td>\n",
       "      <td>0</td>\n",
       "      <td>0</td>\n",
       "      <td>0</td>\n",
       "      <td>0</td>\n",
       "    </tr>\n",
       "    <tr>\n",
       "      <th>1</th>\n",
       "      <td>1</td>\n",
       "      <td>0</td>\n",
       "      <td>0</td>\n",
       "      <td>0</td>\n",
       "      <td>0</td>\n",
       "      <td>0</td>\n",
       "      <td>0</td>\n",
       "      <td>0</td>\n",
       "      <td>0</td>\n",
       "      <td>0</td>\n",
       "      <td>0</td>\n",
       "    </tr>\n",
       "    <tr>\n",
       "      <th>2</th>\n",
       "      <td>0</td>\n",
       "      <td>0</td>\n",
       "      <td>0</td>\n",
       "      <td>0</td>\n",
       "      <td>0</td>\n",
       "      <td>0</td>\n",
       "      <td>0</td>\n",
       "      <td>0</td>\n",
       "      <td>0</td>\n",
       "      <td>0</td>\n",
       "      <td>0</td>\n",
       "    </tr>\n",
       "    <tr>\n",
       "      <th>3</th>\n",
       "      <td>1</td>\n",
       "      <td>1</td>\n",
       "      <td>1</td>\n",
       "      <td>0</td>\n",
       "      <td>1</td>\n",
       "      <td>0</td>\n",
       "      <td>1</td>\n",
       "      <td>0</td>\n",
       "      <td>0</td>\n",
       "      <td>0</td>\n",
       "      <td>0</td>\n",
       "    </tr>\n",
       "    <tr>\n",
       "      <th>4</th>\n",
       "      <td>0</td>\n",
       "      <td>0</td>\n",
       "      <td>1</td>\n",
       "      <td>0</td>\n",
       "      <td>0</td>\n",
       "      <td>0</td>\n",
       "      <td>1</td>\n",
       "      <td>0</td>\n",
       "      <td>0</td>\n",
       "      <td>0</td>\n",
       "      <td>0</td>\n",
       "    </tr>\n",
       "  </tbody>\n",
       "</table>\n",
       "</div>"
      ],
      "text/plain": [
       "   ChildBks  YouthBks  CookBks  DoItYBks  RefBks  ArtBks  GeogBks  ItalCook  \\\n",
       "0         0         1        0         1       0       0        1         0   \n",
       "1         1         0        0         0       0       0        0         0   \n",
       "2         0         0        0         0       0       0        0         0   \n",
       "3         1         1        1         0       1       0        1         0   \n",
       "4         0         0        1         0       0       0        1         0   \n",
       "\n",
       "   ItalAtlas  ItalArt  Florence  \n",
       "0          0        0         0  \n",
       "1          0        0         0  \n",
       "2          0        0         0  \n",
       "3          0        0         0  \n",
       "4          0        0         0  "
      ]
     },
     "execution_count": 41,
     "metadata": {},
     "output_type": "execute_result"
    }
   ],
   "source": [
    "df.head()"
   ]
  },
  {
   "cell_type": "code",
   "execution_count": 42,
   "id": "1e7ef813",
   "metadata": {},
   "outputs": [
    {
     "name": "stdout",
     "output_type": "stream",
     "text": [
      "<class 'pandas.core.frame.DataFrame'>\n",
      "RangeIndex: 2000 entries, 0 to 1999\n",
      "Data columns (total 11 columns):\n",
      " #   Column     Non-Null Count  Dtype\n",
      "---  ------     --------------  -----\n",
      " 0   ChildBks   2000 non-null   int64\n",
      " 1   YouthBks   2000 non-null   int64\n",
      " 2   CookBks    2000 non-null   int64\n",
      " 3   DoItYBks   2000 non-null   int64\n",
      " 4   RefBks     2000 non-null   int64\n",
      " 5   ArtBks     2000 non-null   int64\n",
      " 6   GeogBks    2000 non-null   int64\n",
      " 7   ItalCook   2000 non-null   int64\n",
      " 8   ItalAtlas  2000 non-null   int64\n",
      " 9   ItalArt    2000 non-null   int64\n",
      " 10  Florence   2000 non-null   int64\n",
      "dtypes: int64(11)\n",
      "memory usage: 172.0 KB\n"
     ]
    }
   ],
   "source": [
    "#checking information of data\n",
    "df.info()"
   ]
  },
  {
   "cell_type": "code",
   "execution_count": 43,
   "id": "2a617b6c",
   "metadata": {
    "scrolled": true
   },
   "outputs": [
    {
     "data": {
      "text/plain": [
       "ChildBks     846\n",
       "YouthBks     495\n",
       "CookBks      862\n",
       "DoItYBks     564\n",
       "RefBks       429\n",
       "ArtBks       482\n",
       "GeogBks      552\n",
       "ItalCook     227\n",
       "ItalAtlas     74\n",
       "ItalArt       97\n",
       "Florence     217\n",
       "dtype: int64"
      ]
     },
     "execution_count": 43,
     "metadata": {},
     "output_type": "execute_result"
    }
   ],
   "source": [
    "# most popular items\n",
    "count = df.iloc[:,:].sum()\n",
    "count"
   ]
  },
  {
   "cell_type": "code",
   "execution_count": 44,
   "id": "07533e7d",
   "metadata": {},
   "outputs": [
    {
     "name": "stdout",
     "output_type": "stream",
     "text": [
      "ChildBks\n",
      "0    1154\n",
      "1     846\n",
      "Name: ChildBks, dtype: int64\n",
      "\n",
      "YouthBks\n",
      "0    1505\n",
      "1     495\n",
      "Name: YouthBks, dtype: int64\n",
      "\n",
      "CookBks\n",
      "0    1138\n",
      "1     862\n",
      "Name: CookBks, dtype: int64\n",
      "\n",
      "DoItYBks\n",
      "0    1436\n",
      "1     564\n",
      "Name: DoItYBks, dtype: int64\n",
      "\n",
      "RefBks\n",
      "0    1571\n",
      "1     429\n",
      "Name: RefBks, dtype: int64\n",
      "\n",
      "ArtBks\n",
      "0    1518\n",
      "1     482\n",
      "Name: ArtBks, dtype: int64\n",
      "\n",
      "GeogBks\n",
      "0    1448\n",
      "1     552\n",
      "Name: GeogBks, dtype: int64\n",
      "\n",
      "ItalCook\n",
      "0    1773\n",
      "1     227\n",
      "Name: ItalCook, dtype: int64\n",
      "\n",
      "ItalAtlas\n",
      "0    1926\n",
      "1      74\n",
      "Name: ItalAtlas, dtype: int64\n",
      "\n",
      "ItalArt\n",
      "0    1903\n",
      "1      97\n",
      "Name: ItalArt, dtype: int64\n",
      "\n",
      "Florence\n",
      "0    1783\n",
      "1     217\n",
      "Name: Florence, dtype: int64\n",
      "\n"
     ]
    }
   ],
   "source": [
    "#checking for values of each book \n",
    "for i in df.columns:\n",
    "    print(i)\n",
    "    print(df[i].value_counts())\n",
    "    print()"
   ]
  },
  {
   "cell_type": "code",
   "execution_count": 45,
   "id": "57c4c50c",
   "metadata": {
    "scrolled": true
   },
   "outputs": [
    {
     "name": "stdout",
     "output_type": "stream",
     "text": [
      "the most purchased books are Index(['ChildBks', 'YouthBks', 'CookBks', 'DoItYBks', 'RefBks', 'ArtBks',\n",
      "       'GeogBks', 'ItalCook', 'ItalAtlas', 'ItalArt', 'Florence'],\n",
      "      dtype='object')\n",
      "the count of purchased books are 11\n"
     ]
    }
   ],
   "source": [
    "print('the most purchased books are {}'.format(df.columns))\n",
    "print('the count of purchased books are {}'.format(df.columns.size))"
   ]
  },
  {
   "cell_type": "code",
   "execution_count": 91,
   "id": "4f27d917",
   "metadata": {},
   "outputs": [],
   "source": [
    "df1 = df.iloc[:,0:11]"
   ]
  },
  {
   "cell_type": "markdown",
   "id": "073ee3e7",
   "metadata": {},
   "source": [
    "## Visualization"
   ]
  },
  {
   "cell_type": "code",
   "execution_count": 95,
   "id": "6eb7c51d",
   "metadata": {
    "scrolled": true
   },
   "outputs": [
    {
     "data": {
      "application/vnd.plotly.v1+json": {
       "config": {
        "plotlyServerURL": "https://plot.ly"
       },
       "data": [
        {
         "domain": {
          "x": [
           0,
           1
          ],
          "y": [
           0,
           1
          ]
         },
         "hole": 0.5,
         "hovertemplate": "<b>%{hovertext}</b><br><br>label=%{label}<br>value=%{value}<extra></extra>",
         "hovertext": [
          "ChildBks",
          "YouthBks",
          "CookBks",
          "DoItYBks",
          "RefBks",
          "ArtBks",
          "GeogBks",
          "ItalCook",
          "ItalAtlas",
          "ItalArt",
          "Florence"
         ],
         "labels": [
          "ChildBks",
          "YouthBks",
          "CookBks",
          "DoItYBks",
          "RefBks",
          "ArtBks",
          "GeogBks",
          "ItalCook",
          "ItalAtlas",
          "ItalArt",
          "Florence"
         ],
         "legendgroup": "",
         "name": "",
         "showlegend": true,
         "type": "pie",
         "values": [
          846,
          495,
          862,
          564,
          429,
          482,
          552,
          227,
          74,
          97,
          217
         ]
        }
       ],
       "layout": {
        "legend": {
         "tracegroupgap": 0
        },
        "piecolorway": [
         "rgb(5,48,97)",
         "rgb(33,102,172)",
         "rgb(67,147,195)",
         "rgb(146,197,222)",
         "rgb(209,229,240)",
         "rgb(247,247,247)",
         "rgb(253,219,199)",
         "rgb(244,165,130)",
         "rgb(214,96,77)",
         "rgb(178,24,43)",
         "rgb(103,0,31)"
        ],
        "template": {
         "data": {
          "bar": [
           {
            "error_x": {
             "color": "#2a3f5f"
            },
            "error_y": {
             "color": "#2a3f5f"
            },
            "marker": {
             "line": {
              "color": "#E5ECF6",
              "width": 0.5
             },
             "pattern": {
              "fillmode": "overlay",
              "size": 10,
              "solidity": 0.2
             }
            },
            "type": "bar"
           }
          ],
          "barpolar": [
           {
            "marker": {
             "line": {
              "color": "#E5ECF6",
              "width": 0.5
             },
             "pattern": {
              "fillmode": "overlay",
              "size": 10,
              "solidity": 0.2
             }
            },
            "type": "barpolar"
           }
          ],
          "carpet": [
           {
            "aaxis": {
             "endlinecolor": "#2a3f5f",
             "gridcolor": "white",
             "linecolor": "white",
             "minorgridcolor": "white",
             "startlinecolor": "#2a3f5f"
            },
            "baxis": {
             "endlinecolor": "#2a3f5f",
             "gridcolor": "white",
             "linecolor": "white",
             "minorgridcolor": "white",
             "startlinecolor": "#2a3f5f"
            },
            "type": "carpet"
           }
          ],
          "choropleth": [
           {
            "colorbar": {
             "outlinewidth": 0,
             "ticks": ""
            },
            "type": "choropleth"
           }
          ],
          "contour": [
           {
            "colorbar": {
             "outlinewidth": 0,
             "ticks": ""
            },
            "colorscale": [
             [
              0,
              "#0d0887"
             ],
             [
              0.1111111111111111,
              "#46039f"
             ],
             [
              0.2222222222222222,
              "#7201a8"
             ],
             [
              0.3333333333333333,
              "#9c179e"
             ],
             [
              0.4444444444444444,
              "#bd3786"
             ],
             [
              0.5555555555555556,
              "#d8576b"
             ],
             [
              0.6666666666666666,
              "#ed7953"
             ],
             [
              0.7777777777777778,
              "#fb9f3a"
             ],
             [
              0.8888888888888888,
              "#fdca26"
             ],
             [
              1,
              "#f0f921"
             ]
            ],
            "type": "contour"
           }
          ],
          "contourcarpet": [
           {
            "colorbar": {
             "outlinewidth": 0,
             "ticks": ""
            },
            "type": "contourcarpet"
           }
          ],
          "heatmap": [
           {
            "colorbar": {
             "outlinewidth": 0,
             "ticks": ""
            },
            "colorscale": [
             [
              0,
              "#0d0887"
             ],
             [
              0.1111111111111111,
              "#46039f"
             ],
             [
              0.2222222222222222,
              "#7201a8"
             ],
             [
              0.3333333333333333,
              "#9c179e"
             ],
             [
              0.4444444444444444,
              "#bd3786"
             ],
             [
              0.5555555555555556,
              "#d8576b"
             ],
             [
              0.6666666666666666,
              "#ed7953"
             ],
             [
              0.7777777777777778,
              "#fb9f3a"
             ],
             [
              0.8888888888888888,
              "#fdca26"
             ],
             [
              1,
              "#f0f921"
             ]
            ],
            "type": "heatmap"
           }
          ],
          "heatmapgl": [
           {
            "colorbar": {
             "outlinewidth": 0,
             "ticks": ""
            },
            "colorscale": [
             [
              0,
              "#0d0887"
             ],
             [
              0.1111111111111111,
              "#46039f"
             ],
             [
              0.2222222222222222,
              "#7201a8"
             ],
             [
              0.3333333333333333,
              "#9c179e"
             ],
             [
              0.4444444444444444,
              "#bd3786"
             ],
             [
              0.5555555555555556,
              "#d8576b"
             ],
             [
              0.6666666666666666,
              "#ed7953"
             ],
             [
              0.7777777777777778,
              "#fb9f3a"
             ],
             [
              0.8888888888888888,
              "#fdca26"
             ],
             [
              1,
              "#f0f921"
             ]
            ],
            "type": "heatmapgl"
           }
          ],
          "histogram": [
           {
            "marker": {
             "pattern": {
              "fillmode": "overlay",
              "size": 10,
              "solidity": 0.2
             }
            },
            "type": "histogram"
           }
          ],
          "histogram2d": [
           {
            "colorbar": {
             "outlinewidth": 0,
             "ticks": ""
            },
            "colorscale": [
             [
              0,
              "#0d0887"
             ],
             [
              0.1111111111111111,
              "#46039f"
             ],
             [
              0.2222222222222222,
              "#7201a8"
             ],
             [
              0.3333333333333333,
              "#9c179e"
             ],
             [
              0.4444444444444444,
              "#bd3786"
             ],
             [
              0.5555555555555556,
              "#d8576b"
             ],
             [
              0.6666666666666666,
              "#ed7953"
             ],
             [
              0.7777777777777778,
              "#fb9f3a"
             ],
             [
              0.8888888888888888,
              "#fdca26"
             ],
             [
              1,
              "#f0f921"
             ]
            ],
            "type": "histogram2d"
           }
          ],
          "histogram2dcontour": [
           {
            "colorbar": {
             "outlinewidth": 0,
             "ticks": ""
            },
            "colorscale": [
             [
              0,
              "#0d0887"
             ],
             [
              0.1111111111111111,
              "#46039f"
             ],
             [
              0.2222222222222222,
              "#7201a8"
             ],
             [
              0.3333333333333333,
              "#9c179e"
             ],
             [
              0.4444444444444444,
              "#bd3786"
             ],
             [
              0.5555555555555556,
              "#d8576b"
             ],
             [
              0.6666666666666666,
              "#ed7953"
             ],
             [
              0.7777777777777778,
              "#fb9f3a"
             ],
             [
              0.8888888888888888,
              "#fdca26"
             ],
             [
              1,
              "#f0f921"
             ]
            ],
            "type": "histogram2dcontour"
           }
          ],
          "mesh3d": [
           {
            "colorbar": {
             "outlinewidth": 0,
             "ticks": ""
            },
            "type": "mesh3d"
           }
          ],
          "parcoords": [
           {
            "line": {
             "colorbar": {
              "outlinewidth": 0,
              "ticks": ""
             }
            },
            "type": "parcoords"
           }
          ],
          "pie": [
           {
            "automargin": true,
            "type": "pie"
           }
          ],
          "scatter": [
           {
            "fillpattern": {
             "fillmode": "overlay",
             "size": 10,
             "solidity": 0.2
            },
            "type": "scatter"
           }
          ],
          "scatter3d": [
           {
            "line": {
             "colorbar": {
              "outlinewidth": 0,
              "ticks": ""
             }
            },
            "marker": {
             "colorbar": {
              "outlinewidth": 0,
              "ticks": ""
             }
            },
            "type": "scatter3d"
           }
          ],
          "scattercarpet": [
           {
            "marker": {
             "colorbar": {
              "outlinewidth": 0,
              "ticks": ""
             }
            },
            "type": "scattercarpet"
           }
          ],
          "scattergeo": [
           {
            "marker": {
             "colorbar": {
              "outlinewidth": 0,
              "ticks": ""
             }
            },
            "type": "scattergeo"
           }
          ],
          "scattergl": [
           {
            "marker": {
             "colorbar": {
              "outlinewidth": 0,
              "ticks": ""
             }
            },
            "type": "scattergl"
           }
          ],
          "scattermapbox": [
           {
            "marker": {
             "colorbar": {
              "outlinewidth": 0,
              "ticks": ""
             }
            },
            "type": "scattermapbox"
           }
          ],
          "scatterpolar": [
           {
            "marker": {
             "colorbar": {
              "outlinewidth": 0,
              "ticks": ""
             }
            },
            "type": "scatterpolar"
           }
          ],
          "scatterpolargl": [
           {
            "marker": {
             "colorbar": {
              "outlinewidth": 0,
              "ticks": ""
             }
            },
            "type": "scatterpolargl"
           }
          ],
          "scatterternary": [
           {
            "marker": {
             "colorbar": {
              "outlinewidth": 0,
              "ticks": ""
             }
            },
            "type": "scatterternary"
           }
          ],
          "surface": [
           {
            "colorbar": {
             "outlinewidth": 0,
             "ticks": ""
            },
            "colorscale": [
             [
              0,
              "#0d0887"
             ],
             [
              0.1111111111111111,
              "#46039f"
             ],
             [
              0.2222222222222222,
              "#7201a8"
             ],
             [
              0.3333333333333333,
              "#9c179e"
             ],
             [
              0.4444444444444444,
              "#bd3786"
             ],
             [
              0.5555555555555556,
              "#d8576b"
             ],
             [
              0.6666666666666666,
              "#ed7953"
             ],
             [
              0.7777777777777778,
              "#fb9f3a"
             ],
             [
              0.8888888888888888,
              "#fdca26"
             ],
             [
              1,
              "#f0f921"
             ]
            ],
            "type": "surface"
           }
          ],
          "table": [
           {
            "cells": {
             "fill": {
              "color": "#EBF0F8"
             },
             "line": {
              "color": "white"
             }
            },
            "header": {
             "fill": {
              "color": "#C8D4E3"
             },
             "line": {
              "color": "white"
             }
            },
            "type": "table"
           }
          ]
         },
         "layout": {
          "annotationdefaults": {
           "arrowcolor": "#2a3f5f",
           "arrowhead": 0,
           "arrowwidth": 1
          },
          "autotypenumbers": "strict",
          "coloraxis": {
           "colorbar": {
            "outlinewidth": 0,
            "ticks": ""
           }
          },
          "colorscale": {
           "diverging": [
            [
             0,
             "#8e0152"
            ],
            [
             0.1,
             "#c51b7d"
            ],
            [
             0.2,
             "#de77ae"
            ],
            [
             0.3,
             "#f1b6da"
            ],
            [
             0.4,
             "#fde0ef"
            ],
            [
             0.5,
             "#f7f7f7"
            ],
            [
             0.6,
             "#e6f5d0"
            ],
            [
             0.7,
             "#b8e186"
            ],
            [
             0.8,
             "#7fbc41"
            ],
            [
             0.9,
             "#4d9221"
            ],
            [
             1,
             "#276419"
            ]
           ],
           "sequential": [
            [
             0,
             "#0d0887"
            ],
            [
             0.1111111111111111,
             "#46039f"
            ],
            [
             0.2222222222222222,
             "#7201a8"
            ],
            [
             0.3333333333333333,
             "#9c179e"
            ],
            [
             0.4444444444444444,
             "#bd3786"
            ],
            [
             0.5555555555555556,
             "#d8576b"
            ],
            [
             0.6666666666666666,
             "#ed7953"
            ],
            [
             0.7777777777777778,
             "#fb9f3a"
            ],
            [
             0.8888888888888888,
             "#fdca26"
            ],
            [
             1,
             "#f0f921"
            ]
           ],
           "sequentialminus": [
            [
             0,
             "#0d0887"
            ],
            [
             0.1111111111111111,
             "#46039f"
            ],
            [
             0.2222222222222222,
             "#7201a8"
            ],
            [
             0.3333333333333333,
             "#9c179e"
            ],
            [
             0.4444444444444444,
             "#bd3786"
            ],
            [
             0.5555555555555556,
             "#d8576b"
            ],
            [
             0.6666666666666666,
             "#ed7953"
            ],
            [
             0.7777777777777778,
             "#fb9f3a"
            ],
            [
             0.8888888888888888,
             "#fdca26"
            ],
            [
             1,
             "#f0f921"
            ]
           ]
          },
          "colorway": [
           "#636efa",
           "#EF553B",
           "#00cc96",
           "#ab63fa",
           "#FFA15A",
           "#19d3f3",
           "#FF6692",
           "#B6E880",
           "#FF97FF",
           "#FECB52"
          ],
          "font": {
           "color": "#2a3f5f"
          },
          "geo": {
           "bgcolor": "white",
           "lakecolor": "white",
           "landcolor": "#E5ECF6",
           "showlakes": true,
           "showland": true,
           "subunitcolor": "white"
          },
          "hoverlabel": {
           "align": "left"
          },
          "hovermode": "closest",
          "mapbox": {
           "style": "light"
          },
          "paper_bgcolor": "white",
          "plot_bgcolor": "#E5ECF6",
          "polar": {
           "angularaxis": {
            "gridcolor": "white",
            "linecolor": "white",
            "ticks": ""
           },
           "bgcolor": "#E5ECF6",
           "radialaxis": {
            "gridcolor": "white",
            "linecolor": "white",
            "ticks": ""
           }
          },
          "scene": {
           "xaxis": {
            "backgroundcolor": "#E5ECF6",
            "gridcolor": "white",
            "gridwidth": 2,
            "linecolor": "white",
            "showbackground": true,
            "ticks": "",
            "zerolinecolor": "white"
           },
           "yaxis": {
            "backgroundcolor": "#E5ECF6",
            "gridcolor": "white",
            "gridwidth": 2,
            "linecolor": "white",
            "showbackground": true,
            "ticks": "",
            "zerolinecolor": "white"
           },
           "zaxis": {
            "backgroundcolor": "#E5ECF6",
            "gridcolor": "white",
            "gridwidth": 2,
            "linecolor": "white",
            "showbackground": true,
            "ticks": "",
            "zerolinecolor": "white"
           }
          },
          "shapedefaults": {
           "line": {
            "color": "#2a3f5f"
           }
          },
          "ternary": {
           "aaxis": {
            "gridcolor": "white",
            "linecolor": "white",
            "ticks": ""
           },
           "baxis": {
            "gridcolor": "white",
            "linecolor": "white",
            "ticks": ""
           },
           "bgcolor": "#E5ECF6",
           "caxis": {
            "gridcolor": "white",
            "linecolor": "white",
            "ticks": ""
           }
          },
          "title": {
           "x": 0.05
          },
          "xaxis": {
           "automargin": true,
           "gridcolor": "white",
           "linecolor": "white",
           "ticks": "",
           "title": {
            "standoff": 15
           },
           "zerolinecolor": "white",
           "zerolinewidth": 2
          },
          "yaxis": {
           "automargin": true,
           "gridcolor": "white",
           "linecolor": "white",
           "ticks": "",
           "title": {
            "standoff": 15
           },
           "zerolinecolor": "white",
           "zerolinewidth": 2
          }
         }
        },
        "title": {
         "text": "Purchase Rate of books"
        }
       }
      },
      "text/html": [
       "<div>                            <div id=\"56a882bd-509b-4f19-bd87-54e8a25a0c42\" class=\"plotly-graph-div\" style=\"height:525px; width:100%;\"></div>            <script type=\"text/javascript\">                require([\"plotly\"], function(Plotly) {                    window.PLOTLYENV=window.PLOTLYENV || {};                                    if (document.getElementById(\"56a882bd-509b-4f19-bd87-54e8a25a0c42\")) {                    Plotly.newPlot(                        \"56a882bd-509b-4f19-bd87-54e8a25a0c42\",                        [{\"domain\":{\"x\":[0.0,1.0],\"y\":[0.0,1.0]},\"hole\":0.5,\"hovertemplate\":\"<b>%{hovertext}</b><br><br>label=%{label}<br>value=%{value}<extra></extra>\",\"hovertext\":[\"ChildBks\",\"YouthBks\",\"CookBks\",\"DoItYBks\",\"RefBks\",\"ArtBks\",\"GeogBks\",\"ItalCook\",\"ItalAtlas\",\"ItalArt\",\"Florence\"],\"labels\":[\"ChildBks\",\"YouthBks\",\"CookBks\",\"DoItYBks\",\"RefBks\",\"ArtBks\",\"GeogBks\",\"ItalCook\",\"ItalAtlas\",\"ItalArt\",\"Florence\"],\"legendgroup\":\"\",\"name\":\"\",\"showlegend\":true,\"values\":[846,495,862,564,429,482,552,227,74,97,217],\"type\":\"pie\"}],                        {\"template\":{\"data\":{\"histogram2dcontour\":[{\"type\":\"histogram2dcontour\",\"colorbar\":{\"outlinewidth\":0,\"ticks\":\"\"},\"colorscale\":[[0.0,\"#0d0887\"],[0.1111111111111111,\"#46039f\"],[0.2222222222222222,\"#7201a8\"],[0.3333333333333333,\"#9c179e\"],[0.4444444444444444,\"#bd3786\"],[0.5555555555555556,\"#d8576b\"],[0.6666666666666666,\"#ed7953\"],[0.7777777777777778,\"#fb9f3a\"],[0.8888888888888888,\"#fdca26\"],[1.0,\"#f0f921\"]]}],\"choropleth\":[{\"type\":\"choropleth\",\"colorbar\":{\"outlinewidth\":0,\"ticks\":\"\"}}],\"histogram2d\":[{\"type\":\"histogram2d\",\"colorbar\":{\"outlinewidth\":0,\"ticks\":\"\"},\"colorscale\":[[0.0,\"#0d0887\"],[0.1111111111111111,\"#46039f\"],[0.2222222222222222,\"#7201a8\"],[0.3333333333333333,\"#9c179e\"],[0.4444444444444444,\"#bd3786\"],[0.5555555555555556,\"#d8576b\"],[0.6666666666666666,\"#ed7953\"],[0.7777777777777778,\"#fb9f3a\"],[0.8888888888888888,\"#fdca26\"],[1.0,\"#f0f921\"]]}],\"heatmap\":[{\"type\":\"heatmap\",\"colorbar\":{\"outlinewidth\":0,\"ticks\":\"\"},\"colorscale\":[[0.0,\"#0d0887\"],[0.1111111111111111,\"#46039f\"],[0.2222222222222222,\"#7201a8\"],[0.3333333333333333,\"#9c179e\"],[0.4444444444444444,\"#bd3786\"],[0.5555555555555556,\"#d8576b\"],[0.6666666666666666,\"#ed7953\"],[0.7777777777777778,\"#fb9f3a\"],[0.8888888888888888,\"#fdca26\"],[1.0,\"#f0f921\"]]}],\"heatmapgl\":[{\"type\":\"heatmapgl\",\"colorbar\":{\"outlinewidth\":0,\"ticks\":\"\"},\"colorscale\":[[0.0,\"#0d0887\"],[0.1111111111111111,\"#46039f\"],[0.2222222222222222,\"#7201a8\"],[0.3333333333333333,\"#9c179e\"],[0.4444444444444444,\"#bd3786\"],[0.5555555555555556,\"#d8576b\"],[0.6666666666666666,\"#ed7953\"],[0.7777777777777778,\"#fb9f3a\"],[0.8888888888888888,\"#fdca26\"],[1.0,\"#f0f921\"]]}],\"contourcarpet\":[{\"type\":\"contourcarpet\",\"colorbar\":{\"outlinewidth\":0,\"ticks\":\"\"}}],\"contour\":[{\"type\":\"contour\",\"colorbar\":{\"outlinewidth\":0,\"ticks\":\"\"},\"colorscale\":[[0.0,\"#0d0887\"],[0.1111111111111111,\"#46039f\"],[0.2222222222222222,\"#7201a8\"],[0.3333333333333333,\"#9c179e\"],[0.4444444444444444,\"#bd3786\"],[0.5555555555555556,\"#d8576b\"],[0.6666666666666666,\"#ed7953\"],[0.7777777777777778,\"#fb9f3a\"],[0.8888888888888888,\"#fdca26\"],[1.0,\"#f0f921\"]]}],\"surface\":[{\"type\":\"surface\",\"colorbar\":{\"outlinewidth\":0,\"ticks\":\"\"},\"colorscale\":[[0.0,\"#0d0887\"],[0.1111111111111111,\"#46039f\"],[0.2222222222222222,\"#7201a8\"],[0.3333333333333333,\"#9c179e\"],[0.4444444444444444,\"#bd3786\"],[0.5555555555555556,\"#d8576b\"],[0.6666666666666666,\"#ed7953\"],[0.7777777777777778,\"#fb9f3a\"],[0.8888888888888888,\"#fdca26\"],[1.0,\"#f0f921\"]]}],\"mesh3d\":[{\"type\":\"mesh3d\",\"colorbar\":{\"outlinewidth\":0,\"ticks\":\"\"}}],\"scatter\":[{\"fillpattern\":{\"fillmode\":\"overlay\",\"size\":10,\"solidity\":0.2},\"type\":\"scatter\"}],\"parcoords\":[{\"type\":\"parcoords\",\"line\":{\"colorbar\":{\"outlinewidth\":0,\"ticks\":\"\"}}}],\"scatterpolargl\":[{\"type\":\"scatterpolargl\",\"marker\":{\"colorbar\":{\"outlinewidth\":0,\"ticks\":\"\"}}}],\"bar\":[{\"error_x\":{\"color\":\"#2a3f5f\"},\"error_y\":{\"color\":\"#2a3f5f\"},\"marker\":{\"line\":{\"color\":\"#E5ECF6\",\"width\":0.5},\"pattern\":{\"fillmode\":\"overlay\",\"size\":10,\"solidity\":0.2}},\"type\":\"bar\"}],\"scattergeo\":[{\"type\":\"scattergeo\",\"marker\":{\"colorbar\":{\"outlinewidth\":0,\"ticks\":\"\"}}}],\"scatterpolar\":[{\"type\":\"scatterpolar\",\"marker\":{\"colorbar\":{\"outlinewidth\":0,\"ticks\":\"\"}}}],\"histogram\":[{\"marker\":{\"pattern\":{\"fillmode\":\"overlay\",\"size\":10,\"solidity\":0.2}},\"type\":\"histogram\"}],\"scattergl\":[{\"type\":\"scattergl\",\"marker\":{\"colorbar\":{\"outlinewidth\":0,\"ticks\":\"\"}}}],\"scatter3d\":[{\"type\":\"scatter3d\",\"line\":{\"colorbar\":{\"outlinewidth\":0,\"ticks\":\"\"}},\"marker\":{\"colorbar\":{\"outlinewidth\":0,\"ticks\":\"\"}}}],\"scattermapbox\":[{\"type\":\"scattermapbox\",\"marker\":{\"colorbar\":{\"outlinewidth\":0,\"ticks\":\"\"}}}],\"scatterternary\":[{\"type\":\"scatterternary\",\"marker\":{\"colorbar\":{\"outlinewidth\":0,\"ticks\":\"\"}}}],\"scattercarpet\":[{\"type\":\"scattercarpet\",\"marker\":{\"colorbar\":{\"outlinewidth\":0,\"ticks\":\"\"}}}],\"carpet\":[{\"aaxis\":{\"endlinecolor\":\"#2a3f5f\",\"gridcolor\":\"white\",\"linecolor\":\"white\",\"minorgridcolor\":\"white\",\"startlinecolor\":\"#2a3f5f\"},\"baxis\":{\"endlinecolor\":\"#2a3f5f\",\"gridcolor\":\"white\",\"linecolor\":\"white\",\"minorgridcolor\":\"white\",\"startlinecolor\":\"#2a3f5f\"},\"type\":\"carpet\"}],\"table\":[{\"cells\":{\"fill\":{\"color\":\"#EBF0F8\"},\"line\":{\"color\":\"white\"}},\"header\":{\"fill\":{\"color\":\"#C8D4E3\"},\"line\":{\"color\":\"white\"}},\"type\":\"table\"}],\"barpolar\":[{\"marker\":{\"line\":{\"color\":\"#E5ECF6\",\"width\":0.5},\"pattern\":{\"fillmode\":\"overlay\",\"size\":10,\"solidity\":0.2}},\"type\":\"barpolar\"}],\"pie\":[{\"automargin\":true,\"type\":\"pie\"}]},\"layout\":{\"autotypenumbers\":\"strict\",\"colorway\":[\"#636efa\",\"#EF553B\",\"#00cc96\",\"#ab63fa\",\"#FFA15A\",\"#19d3f3\",\"#FF6692\",\"#B6E880\",\"#FF97FF\",\"#FECB52\"],\"font\":{\"color\":\"#2a3f5f\"},\"hovermode\":\"closest\",\"hoverlabel\":{\"align\":\"left\"},\"paper_bgcolor\":\"white\",\"plot_bgcolor\":\"#E5ECF6\",\"polar\":{\"bgcolor\":\"#E5ECF6\",\"angularaxis\":{\"gridcolor\":\"white\",\"linecolor\":\"white\",\"ticks\":\"\"},\"radialaxis\":{\"gridcolor\":\"white\",\"linecolor\":\"white\",\"ticks\":\"\"}},\"ternary\":{\"bgcolor\":\"#E5ECF6\",\"aaxis\":{\"gridcolor\":\"white\",\"linecolor\":\"white\",\"ticks\":\"\"},\"baxis\":{\"gridcolor\":\"white\",\"linecolor\":\"white\",\"ticks\":\"\"},\"caxis\":{\"gridcolor\":\"white\",\"linecolor\":\"white\",\"ticks\":\"\"}},\"coloraxis\":{\"colorbar\":{\"outlinewidth\":0,\"ticks\":\"\"}},\"colorscale\":{\"sequential\":[[0.0,\"#0d0887\"],[0.1111111111111111,\"#46039f\"],[0.2222222222222222,\"#7201a8\"],[0.3333333333333333,\"#9c179e\"],[0.4444444444444444,\"#bd3786\"],[0.5555555555555556,\"#d8576b\"],[0.6666666666666666,\"#ed7953\"],[0.7777777777777778,\"#fb9f3a\"],[0.8888888888888888,\"#fdca26\"],[1.0,\"#f0f921\"]],\"sequentialminus\":[[0.0,\"#0d0887\"],[0.1111111111111111,\"#46039f\"],[0.2222222222222222,\"#7201a8\"],[0.3333333333333333,\"#9c179e\"],[0.4444444444444444,\"#bd3786\"],[0.5555555555555556,\"#d8576b\"],[0.6666666666666666,\"#ed7953\"],[0.7777777777777778,\"#fb9f3a\"],[0.8888888888888888,\"#fdca26\"],[1.0,\"#f0f921\"]],\"diverging\":[[0,\"#8e0152\"],[0.1,\"#c51b7d\"],[0.2,\"#de77ae\"],[0.3,\"#f1b6da\"],[0.4,\"#fde0ef\"],[0.5,\"#f7f7f7\"],[0.6,\"#e6f5d0\"],[0.7,\"#b8e186\"],[0.8,\"#7fbc41\"],[0.9,\"#4d9221\"],[1,\"#276419\"]]},\"xaxis\":{\"gridcolor\":\"white\",\"linecolor\":\"white\",\"ticks\":\"\",\"title\":{\"standoff\":15},\"zerolinecolor\":\"white\",\"automargin\":true,\"zerolinewidth\":2},\"yaxis\":{\"gridcolor\":\"white\",\"linecolor\":\"white\",\"ticks\":\"\",\"title\":{\"standoff\":15},\"zerolinecolor\":\"white\",\"automargin\":true,\"zerolinewidth\":2},\"scene\":{\"xaxis\":{\"backgroundcolor\":\"#E5ECF6\",\"gridcolor\":\"white\",\"linecolor\":\"white\",\"showbackground\":true,\"ticks\":\"\",\"zerolinecolor\":\"white\",\"gridwidth\":2},\"yaxis\":{\"backgroundcolor\":\"#E5ECF6\",\"gridcolor\":\"white\",\"linecolor\":\"white\",\"showbackground\":true,\"ticks\":\"\",\"zerolinecolor\":\"white\",\"gridwidth\":2},\"zaxis\":{\"backgroundcolor\":\"#E5ECF6\",\"gridcolor\":\"white\",\"linecolor\":\"white\",\"showbackground\":true,\"ticks\":\"\",\"zerolinecolor\":\"white\",\"gridwidth\":2}},\"shapedefaults\":{\"line\":{\"color\":\"#2a3f5f\"}},\"annotationdefaults\":{\"arrowcolor\":\"#2a3f5f\",\"arrowhead\":0,\"arrowwidth\":1},\"geo\":{\"bgcolor\":\"white\",\"landcolor\":\"#E5ECF6\",\"subunitcolor\":\"white\",\"showland\":true,\"showlakes\":true,\"lakecolor\":\"white\"},\"title\":{\"x\":0.05},\"mapbox\":{\"style\":\"light\"}}},\"legend\":{\"tracegroupgap\":0},\"title\":{\"text\":\"Purchase Rate of books\"},\"piecolorway\":[\"rgb(5,48,97)\",\"rgb(33,102,172)\",\"rgb(67,147,195)\",\"rgb(146,197,222)\",\"rgb(209,229,240)\",\"rgb(247,247,247)\",\"rgb(253,219,199)\",\"rgb(244,165,130)\",\"rgb(214,96,77)\",\"rgb(178,24,43)\",\"rgb(103,0,31)\"]},                        {\"responsive\": true}                    ).then(function(){\n",
       "                            \n",
       "var gd = document.getElementById('56a882bd-509b-4f19-bd87-54e8a25a0c42');\n",
       "var x = new MutationObserver(function (mutations, observer) {{\n",
       "        var display = window.getComputedStyle(gd).display;\n",
       "        if (!display || display === 'none') {{\n",
       "            console.log([gd, 'removed!']);\n",
       "            Plotly.purge(gd);\n",
       "            observer.disconnect();\n",
       "        }}\n",
       "}});\n",
       "\n",
       "// Listen for the removal of the full notebook cells\n",
       "var notebookContainer = gd.closest('#notebook-container');\n",
       "if (notebookContainer) {{\n",
       "    x.observe(notebookContainer, {childList: true});\n",
       "}}\n",
       "\n",
       "// Listen for the clearing of the current output cell\n",
       "var outputEl = gd.closest('.output');\n",
       "if (outputEl) {{\n",
       "    x.observe(outputEl, {childList: true});\n",
       "}}\n",
       "\n",
       "                        })                };                });            </script>        </div>"
      ]
     },
     "metadata": {},
     "output_type": "display_data"
    }
   ],
   "source": [
    "#visualization the percent of sales of books \n",
    "\n",
    "px.pie(df1,values=df1.sum(),names=df1.columns\n",
    "      ,title='Purchase Rate of books',\n",
    "      color_discrete_sequence=px.colors.sequential.RdBu_r,\n",
    "      hover_name=df1.columns,hole=0.5)\n",
    "\n"
   ]
  },
  {
   "cell_type": "code",
   "execution_count": 100,
   "id": "92764079",
   "metadata": {},
   "outputs": [
    {
     "data": {
      "image/png": "[encoded data removed]",
      "text/plain": [
       "<Figure size 1200x800 with 1 Axes>"
      ]
     },
     "metadata": {},
     "output_type": "display_data"
    }
   ],
   "source": [
    "plt.figure(figsize = (12,8))\n",
    "plt.pie(df1.sum(),\n",
    "       labels=df1.columns,\n",
    "       explode = [0.0,0.0,0.0,0.0,0.0,0.0,0.0,0.0,0.0,0.0,0.0],\n",
    "       autopct= '%.2f%%',\n",
    "       shadow= True,\n",
    "       startangle= 190,\n",
    "       textprops = {'size':'large',\n",
    "                   'fontweight':'bold',\n",
    "                    'rotation':'0',\n",
    "                   'color':'black'})\n",
    "#plt.legend(loc= 'best')\n",
    "plt.title(\"Purchase Rate of books\", fontsize = 18, fontweight = 'bold')\n",
    "plt.show()\n"
   ]
  },
  {
   "cell_type": "markdown",
   "id": "b9986ee9",
   "metadata": {},
   "source": [
    "From the above plot we observe that most of people have purchased child books and cook books,trailing to it we also have with marginal difference doltybooks and geography books, the least purchased are italArt and italAtlas with a very minimal percent of sales "
   ]
  },
  {
   "cell_type": "code",
   "execution_count": 103,
   "id": "153f7c49",
   "metadata": {},
   "outputs": [
    {
     "data": {
      "text/html": [
       "<div>\n",
       "<style scoped>\n",
       "    .dataframe tbody tr th:only-of-type {\n",
       "        vertical-align: middle;\n",
       "    }\n",
       "\n",
       "    .dataframe tbody tr th {\n",
       "        vertical-align: top;\n",
       "    }\n",
       "\n",
       "    .dataframe thead th {\n",
       "        text-align: right;\n",
       "    }\n",
       "</style>\n",
       "<table border=\"1\" class=\"dataframe\">\n",
       "  <thead>\n",
       "    <tr style=\"text-align: right;\">\n",
       "      <th></th>\n",
       "      <th>items</th>\n",
       "      <th>count</th>\n",
       "    </tr>\n",
       "  </thead>\n",
       "  <tbody>\n",
       "    <tr>\n",
       "      <th>0</th>\n",
       "      <td>CookBks</td>\n",
       "      <td>862</td>\n",
       "    </tr>\n",
       "    <tr>\n",
       "      <th>1</th>\n",
       "      <td>ChildBks</td>\n",
       "      <td>846</td>\n",
       "    </tr>\n",
       "    <tr>\n",
       "      <th>2</th>\n",
       "      <td>DoItYBks</td>\n",
       "      <td>564</td>\n",
       "    </tr>\n",
       "    <tr>\n",
       "      <th>3</th>\n",
       "      <td>GeogBks</td>\n",
       "      <td>552</td>\n",
       "    </tr>\n",
       "    <tr>\n",
       "      <th>4</th>\n",
       "      <td>YouthBks</td>\n",
       "      <td>495</td>\n",
       "    </tr>\n",
       "    <tr>\n",
       "      <th>5</th>\n",
       "      <td>ArtBks</td>\n",
       "      <td>482</td>\n",
       "    </tr>\n",
       "    <tr>\n",
       "      <th>6</th>\n",
       "      <td>RefBks</td>\n",
       "      <td>429</td>\n",
       "    </tr>\n",
       "    <tr>\n",
       "      <th>7</th>\n",
       "      <td>ItalCook</td>\n",
       "      <td>227</td>\n",
       "    </tr>\n",
       "    <tr>\n",
       "      <th>8</th>\n",
       "      <td>Florence</td>\n",
       "      <td>217</td>\n",
       "    </tr>\n",
       "    <tr>\n",
       "      <th>9</th>\n",
       "      <td>ItalArt</td>\n",
       "      <td>97</td>\n",
       "    </tr>\n",
       "    <tr>\n",
       "      <th>10</th>\n",
       "      <td>ItalAtlas</td>\n",
       "      <td>74</td>\n",
       "    </tr>\n",
       "  </tbody>\n",
       "</table>\n",
       "</div>"
      ],
      "text/plain": [
       "        items  count\n",
       "0     CookBks    862\n",
       "1    ChildBks    846\n",
       "2    DoItYBks    564\n",
       "3     GeogBks    552\n",
       "4    YouthBks    495\n",
       "5      ArtBks    482\n",
       "6      RefBks    429\n",
       "7    ItalCook    227\n",
       "8    Florence    217\n",
       "9     ItalArt     97\n",
       "10  ItalAtlas     74"
      ]
     },
     "execution_count": 103,
     "metadata": {},
     "output_type": "execute_result"
    }
   ],
   "source": [
    "# Top 10 Popular items\n",
    "count.sort_values(0, ascending = False, inplace=True)\n",
    "count = count.to_frame().reset_index()\n",
    "count = count.rename(columns = {'index': 'items',0: 'count'})\n",
    "count"
   ]
  },
  {
   "cell_type": "code",
   "execution_count": 102,
   "id": "cba87a4d",
   "metadata": {
    "scrolled": true
   },
   "outputs": [
    {
     "data": {
      "application/vnd.plotly.v1+json": {
       "config": {
        "plotlyServerURL": "https://plot.ly"
       },
       "data": [
        {
         "alignmentgroup": "True",
         "hovertemplate": "<b>%{hovertext}</b><br><br>x=%{x}<br>y=%{y}<br>text=%{text}<br>color=%{marker.color}<extra></extra>",
         "hovertext": [
          "ChildBks",
          "YouthBks",
          "CookBks",
          "DoItYBks",
          "RefBks",
          "ArtBks",
          "GeogBks",
          "ItalCook",
          "ItalAtlas",
          "ItalArt",
          "Florence"
         ],
         "legendgroup": "",
         "marker": {
          "color": [
           846,
           495,
           862,
           564,
           429,
           482,
           552,
           227,
           74,
           97,
           217
          ],
          "coloraxis": "coloraxis",
          "pattern": {
           "shape": ""
          }
         },
         "name": "",
         "offsetgroup": "",
         "orientation": "v",
         "showlegend": false,
         "text": [
          846,
          495,
          862,
          564,
          429,
          482,
          552,
          227,
          74,
          97,
          217
         ],
         "textposition": "auto",
         "type": "bar",
         "x": [
          "ChildBks",
          "YouthBks",
          "CookBks",
          "DoItYBks",
          "RefBks",
          "ArtBks",
          "GeogBks",
          "ItalCook",
          "ItalAtlas",
          "ItalArt",
          "Florence"
         ],
         "xaxis": "x",
         "y": [
          846,
          495,
          862,
          564,
          429,
          482,
          552,
          227,
          74,
          97,
          217
         ],
         "yaxis": "y"
        }
       ],
       "layout": {
        "barmode": "relative",
        "coloraxis": {
         "colorbar": {
          "title": {
           "text": "color"
          }
         },
         "colorscale": [
          [
           0,
           "#440154"
          ],
          [
           0.1111111111111111,
           "#482878"
          ],
          [
           0.2222222222222222,
           "#3e4989"
          ],
          [
           0.3333333333333333,
           "#31688e"
          ],
          [
           0.4444444444444444,
           "#26828e"
          ],
          [
           0.5555555555555556,
           "#1f9e89"
          ],
          [
           0.6666666666666666,
           "#35b779"
          ],
          [
           0.7777777777777778,
           "#6ece58"
          ],
          [
           0.8888888888888888,
           "#b5de2b"
          ],
          [
           1,
           "#fde725"
          ]
         ]
        },
        "legend": {
         "tracegroupgap": 0
        },
        "template": {
         "data": {
          "bar": [
           {
            "error_x": {
             "color": "#2a3f5f"
            },
            "error_y": {
             "color": "#2a3f5f"
            },
            "marker": {
             "line": {
              "color": "#E5ECF6",
              "width": 0.5
             },
             "pattern": {
              "fillmode": "overlay",
              "size": 10,
              "solidity": 0.2
             }
            },
            "type": "bar"
           }
          ],
          "barpolar": [
           {
            "marker": {
             "line": {
              "color": "#E5ECF6",
              "width": 0.5
             },
             "pattern": {
              "fillmode": "overlay",
              "size": 10,
              "solidity": 0.2
             }
            },
            "type": "barpolar"
           }
          ],
          "carpet": [
           {
            "aaxis": {
             "endlinecolor": "#2a3f5f",
             "gridcolor": "white",
             "linecolor": "white",
             "minorgridcolor": "white",
             "startlinecolor": "#2a3f5f"
            },
            "baxis": {
             "endlinecolor": "#2a3f5f",
             "gridcolor": "white",
             "linecolor": "white",
             "minorgridcolor": "white",
             "startlinecolor": "#2a3f5f"
            },
            "type": "carpet"
           }
          ],
          "choropleth": [
           {
            "colorbar": {
             "outlinewidth": 0,
             "ticks": ""
            },
            "type": "choropleth"
           }
          ],
          "contour": [
           {
            "colorbar": {
             "outlinewidth": 0,
             "ticks": ""
            },
            "colorscale": [
             [
              0,
              "#0d0887"
             ],
             [
              0.1111111111111111,
              "#46039f"
             ],
             [
              0.2222222222222222,
              "#7201a8"
             ],
             [
              0.3333333333333333,
              "#9c179e"
             ],
             [
              0.4444444444444444,
              "#bd3786"
             ],
             [
              0.5555555555555556,
              "#d8576b"
             ],
             [
              0.6666666666666666,
              "#ed7953"
             ],
             [
              0.7777777777777778,
              "#fb9f3a"
             ],
             [
              0.8888888888888888,
              "#fdca26"
             ],
             [
              1,
              "#f0f921"
             ]
            ],
            "type": "contour"
           }
          ],
          "contourcarpet": [
           {
            "colorbar": {
             "outlinewidth": 0,
             "ticks": ""
            },
            "type": "contourcarpet"
           }
          ],
          "heatmap": [
           {
            "colorbar": {
             "outlinewidth": 0,
             "ticks": ""
            },
            "colorscale": [
             [
              0,
              "#0d0887"
             ],
             [
              0.1111111111111111,
              "#46039f"
             ],
             [
              0.2222222222222222,
              "#7201a8"
             ],
             [
              0.3333333333333333,
              "#9c179e"
             ],
             [
              0.4444444444444444,
              "#bd3786"
             ],
             [
              0.5555555555555556,
              "#d8576b"
             ],
             [
              0.6666666666666666,
              "#ed7953"
             ],
             [
              0.7777777777777778,
              "#fb9f3a"
             ],
             [
              0.8888888888888888,
              "#fdca26"
             ],
             [
              1,
              "#f0f921"
             ]
            ],
            "type": "heatmap"
           }
          ],
          "heatmapgl": [
           {
            "colorbar": {
             "outlinewidth": 0,
             "ticks": ""
            },
            "colorscale": [
             [
              0,
              "#0d0887"
             ],
             [
              0.1111111111111111,
              "#46039f"
             ],
             [
              0.2222222222222222,
              "#7201a8"
             ],
             [
              0.3333333333333333,
              "#9c179e"
             ],
             [
              0.4444444444444444,
              "#bd3786"
             ],
             [
              0.5555555555555556,
              "#d8576b"
             ],
             [
              0.6666666666666666,
              "#ed7953"
             ],
             [
              0.7777777777777778,
              "#fb9f3a"
             ],
             [
              0.8888888888888888,
              "#fdca26"
             ],
             [
              1,
              "#f0f921"
             ]
            ],
            "type": "heatmapgl"
           }
          ],
          "histogram": [
           {
            "marker": {
             "pattern": {
              "fillmode": "overlay",
              "size": 10,
              "solidity": 0.2
             }
            },
            "type": "histogram"
           }
          ],
          "histogram2d": [
           {
            "colorbar": {
             "outlinewidth": 0,
             "ticks": ""
            },
            "colorscale": [
             [
              0,
              "#0d0887"
             ],
             [
              0.1111111111111111,
              "#46039f"
             ],
             [
              0.2222222222222222,
              "#7201a8"
             ],
             [
              0.3333333333333333,
              "#9c179e"
             ],
             [
              0.4444444444444444,
              "#bd3786"
             ],
             [
              0.5555555555555556,
              "#d8576b"
             ],
             [
              0.6666666666666666,
              "#ed7953"
             ],
             [
              0.7777777777777778,
              "#fb9f3a"
             ],
             [
              0.8888888888888888,
              "#fdca26"
             ],
             [
              1,
              "#f0f921"
             ]
            ],
            "type": "histogram2d"
           }
          ],
          "histogram2dcontour": [
           {
            "colorbar": {
             "outlinewidth": 0,
             "ticks": ""
            },
            "colorscale": [
             [
              0,
              "#0d0887"
             ],
             [
              0.1111111111111111,
              "#46039f"
             ],
             [
              0.2222222222222222,
              "#7201a8"
             ],
             [
              0.3333333333333333,
              "#9c179e"
             ],
             [
              0.4444444444444444,
              "#bd3786"
             ],
             [
              0.5555555555555556,
              "#d8576b"
             ],
             [
              0.6666666666666666,
              "#ed7953"
             ],
             [
              0.7777777777777778,
              "#fb9f3a"
             ],
             [
              0.8888888888888888,
              "#fdca26"
             ],
             [
              1,
              "#f0f921"
             ]
            ],
            "type": "histogram2dcontour"
           }
          ],
          "mesh3d": [
           {
            "colorbar": {
             "outlinewidth": 0,
             "ticks": ""
            },
            "type": "mesh3d"
           }
          ],
          "parcoords": [
           {
            "line": {
             "colorbar": {
              "outlinewidth": 0,
              "ticks": ""
             }
            },
            "type": "parcoords"
           }
          ],
          "pie": [
           {
            "automargin": true,
            "type": "pie"
           }
          ],
          "scatter": [
           {
            "fillpattern": {
             "fillmode": "overlay",
             "size": 10,
             "solidity": 0.2
            },
            "type": "scatter"
           }
          ],
          "scatter3d": [
           {
            "line": {
             "colorbar": {
              "outlinewidth": 0,
              "ticks": ""
             }
            },
            "marker": {
             "colorbar": {
              "outlinewidth": 0,
              "ticks": ""
             }
            },
            "type": "scatter3d"
           }
          ],
          "scattercarpet": [
           {
            "marker": {
             "colorbar": {
              "outlinewidth": 0,
              "ticks": ""
             }
            },
            "type": "scattercarpet"
           }
          ],
          "scattergeo": [
           {
            "marker": {
             "colorbar": {
              "outlinewidth": 0,
              "ticks": ""
             }
            },
            "type": "scattergeo"
           }
          ],
          "scattergl": [
           {
            "marker": {
             "colorbar": {
              "outlinewidth": 0,
              "ticks": ""
             }
            },
            "type": "scattergl"
           }
          ],
          "scattermapbox": [
           {
            "marker": {
             "colorbar": {
              "outlinewidth": 0,
              "ticks": ""
             }
            },
            "type": "scattermapbox"
           }
          ],
          "scatterpolar": [
           {
            "marker": {
             "colorbar": {
              "outlinewidth": 0,
              "ticks": ""
             }
            },
            "type": "scatterpolar"
           }
          ],
          "scatterpolargl": [
           {
            "marker": {
             "colorbar": {
              "outlinewidth": 0,
              "ticks": ""
             }
            },
            "type": "scatterpolargl"
           }
          ],
          "scatterternary": [
           {
            "marker": {
             "colorbar": {
              "outlinewidth": 0,
              "ticks": ""
             }
            },
            "type": "scatterternary"
           }
          ],
          "surface": [
           {
            "colorbar": {
             "outlinewidth": 0,
             "ticks": ""
            },
            "colorscale": [
             [
              0,
              "#0d0887"
             ],
             [
              0.1111111111111111,
              "#46039f"
             ],
             [
              0.2222222222222222,
              "#7201a8"
             ],
             [
              0.3333333333333333,
              "#9c179e"
             ],
             [
              0.4444444444444444,
              "#bd3786"
             ],
             [
              0.5555555555555556,
              "#d8576b"
             ],
             [
              0.6666666666666666,
              "#ed7953"
             ],
             [
              0.7777777777777778,
              "#fb9f3a"
             ],
             [
              0.8888888888888888,
              "#fdca26"
             ],
             [
              1,
              "#f0f921"
             ]
            ],
            "type": "surface"
           }
          ],
          "table": [
           {
            "cells": {
             "fill": {
              "color": "#EBF0F8"
             },
             "line": {
              "color": "white"
             }
            },
            "header": {
             "fill": {
              "color": "#C8D4E3"
             },
             "line": {
              "color": "white"
             }
            },
            "type": "table"
           }
          ]
         },
         "layout": {
          "annotationdefaults": {
           "arrowcolor": "#2a3f5f",
           "arrowhead": 0,
           "arrowwidth": 1
          },
          "autotypenumbers": "strict",
          "coloraxis": {
           "colorbar": {
            "outlinewidth": 0,
            "ticks": ""
           }
          },
          "colorscale": {
           "diverging": [
            [
             0,
             "#8e0152"
            ],
            [
             0.1,
             "#c51b7d"
            ],
            [
             0.2,
             "#de77ae"
            ],
            [
             0.3,
             "#f1b6da"
            ],
            [
             0.4,
             "#fde0ef"
            ],
            [
             0.5,
             "#f7f7f7"
            ],
            [
             0.6,
             "#e6f5d0"
            ],
            [
             0.7,
             "#b8e186"
            ],
            [
             0.8,
             "#7fbc41"
            ],
            [
             0.9,
             "#4d9221"
            ],
            [
             1,
             "#276419"
            ]
           ],
           "sequential": [
            [
             0,
             "#0d0887"
            ],
            [
             0.1111111111111111,
             "#46039f"
            ],
            [
             0.2222222222222222,
             "#7201a8"
            ],
            [
             0.3333333333333333,
             "#9c179e"
            ],
            [
             0.4444444444444444,
             "#bd3786"
            ],
            [
             0.5555555555555556,
             "#d8576b"
            ],
            [
             0.6666666666666666,
             "#ed7953"
            ],
            [
             0.7777777777777778,
             "#fb9f3a"
            ],
            [
             0.8888888888888888,
             "#fdca26"
            ],
            [
             1,
             "#f0f921"
            ]
           ],
           "sequentialminus": [
            [
             0,
             "#0d0887"
            ],
            [
             0.1111111111111111,
             "#46039f"
            ],
            [
             0.2222222222222222,
             "#7201a8"
            ],
            [
             0.3333333333333333,
             "#9c179e"
            ],
            [
             0.4444444444444444,
             "#bd3786"
            ],
            [
             0.5555555555555556,
             "#d8576b"
            ],
            [
             0.6666666666666666,
             "#ed7953"
            ],
            [
             0.7777777777777778,
             "#fb9f3a"
            ],
            [
             0.8888888888888888,
             "#fdca26"
            ],
            [
             1,
             "#f0f921"
            ]
           ]
          },
          "colorway": [
           "#636efa",
           "#EF553B",
           "#00cc96",
           "#ab63fa",
           "#FFA15A",
           "#19d3f3",
           "#FF6692",
           "#B6E880",
           "#FF97FF",
           "#FECB52"
          ],
          "font": {
           "color": "#2a3f5f"
          },
          "geo": {
           "bgcolor": "white",
           "lakecolor": "white",
           "landcolor": "#E5ECF6",
           "showlakes": true,
           "showland": true,
           "subunitcolor": "white"
          },
          "hoverlabel": {
           "align": "left"
          },
          "hovermode": "closest",
          "mapbox": {
           "style": "light"
          },
          "paper_bgcolor": "white",
          "plot_bgcolor": "#E5ECF6",
          "polar": {
           "angularaxis": {
            "gridcolor": "white",
            "linecolor": "white",
            "ticks": ""
           },
           "bgcolor": "#E5ECF6",
           "radialaxis": {
            "gridcolor": "white",
            "linecolor": "white",
            "ticks": ""
           }
          },
          "scene": {
           "xaxis": {
            "backgroundcolor": "#E5ECF6",
            "gridcolor": "white",
            "gridwidth": 2,
            "linecolor": "white",
            "showbackground": true,
            "ticks": "",
            "zerolinecolor": "white"
           },
           "yaxis": {
            "backgroundcolor": "#E5ECF6",
            "gridcolor": "white",
            "gridwidth": 2,
            "linecolor": "white",
            "showbackground": true,
            "ticks": "",
            "zerolinecolor": "white"
           },
           "zaxis": {
            "backgroundcolor": "#E5ECF6",
            "gridcolor": "white",
            "gridwidth": 2,
            "linecolor": "white",
            "showbackground": true,
            "ticks": "",
            "zerolinecolor": "white"
           }
          },
          "shapedefaults": {
           "line": {
            "color": "#2a3f5f"
           }
          },
          "ternary": {
           "aaxis": {
            "gridcolor": "white",
            "linecolor": "white",
            "ticks": ""
           },
           "baxis": {
            "gridcolor": "white",
            "linecolor": "white",
            "ticks": ""
           },
           "bgcolor": "#E5ECF6",
           "caxis": {
            "gridcolor": "white",
            "linecolor": "white",
            "ticks": ""
           }
          },
          "title": {
           "x": 0.05
          },
          "xaxis": {
           "automargin": true,
           "gridcolor": "white",
           "linecolor": "white",
           "ticks": "",
           "title": {
            "standoff": 15
           },
           "zerolinecolor": "white",
           "zerolinewidth": 2
          },
          "yaxis": {
           "automargin": true,
           "gridcolor": "white",
           "linecolor": "white",
           "ticks": "",
           "title": {
            "standoff": 15
           },
           "zerolinecolor": "white",
           "zerolinewidth": 2
          }
         }
        },
        "title": {
         "text": "sales rate of books"
        },
        "xaxis": {
         "anchor": "y",
         "domain": [
          0,
          1
         ],
         "title": {
          "text": "x"
         }
        },
        "yaxis": {
         "anchor": "x",
         "domain": [
          0,
          1
         ],
         "title": {
          "text": "y"
         }
        }
       }
      },
      "text/html": [
       "<div>                            <div id=\"0d551fcb-1edd-482d-8a1a-8d378564cd45\" class=\"plotly-graph-div\" style=\"height:525px; width:100%;\"></div>            <script type=\"text/javascript\">                require([\"plotly\"], function(Plotly) {                    window.PLOTLYENV=window.PLOTLYENV || {};                                    if (document.getElementById(\"0d551fcb-1edd-482d-8a1a-8d378564cd45\")) {                    Plotly.newPlot(                        \"0d551fcb-1edd-482d-8a1a-8d378564cd45\",                        [{\"alignmentgroup\":\"True\",\"hovertemplate\":\"<b>%{hovertext}</b><br><br>x=%{x}<br>y=%{y}<br>text=%{text}<br>color=%{marker.color}<extra></extra>\",\"hovertext\":[\"ChildBks\",\"YouthBks\",\"CookBks\",\"DoItYBks\",\"RefBks\",\"ArtBks\",\"GeogBks\",\"ItalCook\",\"ItalAtlas\",\"ItalArt\",\"Florence\"],\"legendgroup\":\"\",\"marker\":{\"color\":[846,495,862,564,429,482,552,227,74,97,217],\"coloraxis\":\"coloraxis\",\"pattern\":{\"shape\":\"\"}},\"name\":\"\",\"offsetgroup\":\"\",\"orientation\":\"v\",\"showlegend\":false,\"text\":[846.0,495.0,862.0,564.0,429.0,482.0,552.0,227.0,74.0,97.0,217.0],\"textposition\":\"auto\",\"x\":[\"ChildBks\",\"YouthBks\",\"CookBks\",\"DoItYBks\",\"RefBks\",\"ArtBks\",\"GeogBks\",\"ItalCook\",\"ItalAtlas\",\"ItalArt\",\"Florence\"],\"xaxis\":\"x\",\"y\":[846,495,862,564,429,482,552,227,74,97,217],\"yaxis\":\"y\",\"type\":\"bar\"}],                        {\"template\":{\"data\":{\"histogram2dcontour\":[{\"type\":\"histogram2dcontour\",\"colorbar\":{\"outlinewidth\":0,\"ticks\":\"\"},\"colorscale\":[[0.0,\"#0d0887\"],[0.1111111111111111,\"#46039f\"],[0.2222222222222222,\"#7201a8\"],[0.3333333333333333,\"#9c179e\"],[0.4444444444444444,\"#bd3786\"],[0.5555555555555556,\"#d8576b\"],[0.6666666666666666,\"#ed7953\"],[0.7777777777777778,\"#fb9f3a\"],[0.8888888888888888,\"#fdca26\"],[1.0,\"#f0f921\"]]}],\"choropleth\":[{\"type\":\"choropleth\",\"colorbar\":{\"outlinewidth\":0,\"ticks\":\"\"}}],\"histogram2d\":[{\"type\":\"histogram2d\",\"colorbar\":{\"outlinewidth\":0,\"ticks\":\"\"},\"colorscale\":[[0.0,\"#0d0887\"],[0.1111111111111111,\"#46039f\"],[0.2222222222222222,\"#7201a8\"],[0.3333333333333333,\"#9c179e\"],[0.4444444444444444,\"#bd3786\"],[0.5555555555555556,\"#d8576b\"],[0.6666666666666666,\"#ed7953\"],[0.7777777777777778,\"#fb9f3a\"],[0.8888888888888888,\"#fdca26\"],[1.0,\"#f0f921\"]]}],\"heatmap\":[{\"type\":\"heatmap\",\"colorbar\":{\"outlinewidth\":0,\"ticks\":\"\"},\"colorscale\":[[0.0,\"#0d0887\"],[0.1111111111111111,\"#46039f\"],[0.2222222222222222,\"#7201a8\"],[0.3333333333333333,\"#9c179e\"],[0.4444444444444444,\"#bd3786\"],[0.5555555555555556,\"#d8576b\"],[0.6666666666666666,\"#ed7953\"],[0.7777777777777778,\"#fb9f3a\"],[0.8888888888888888,\"#fdca26\"],[1.0,\"#f0f921\"]]}],\"heatmapgl\":[{\"type\":\"heatmapgl\",\"colorbar\":{\"outlinewidth\":0,\"ticks\":\"\"},\"colorscale\":[[0.0,\"#0d0887\"],[0.1111111111111111,\"#46039f\"],[0.2222222222222222,\"#7201a8\"],[0.3333333333333333,\"#9c179e\"],[0.4444444444444444,\"#bd3786\"],[0.5555555555555556,\"#d8576b\"],[0.6666666666666666,\"#ed7953\"],[0.7777777777777778,\"#fb9f3a\"],[0.8888888888888888,\"#fdca26\"],[1.0,\"#f0f921\"]]}],\"contourcarpet\":[{\"type\":\"contourcarpet\",\"colorbar\":{\"outlinewidth\":0,\"ticks\":\"\"}}],\"contour\":[{\"type\":\"contour\",\"colorbar\":{\"outlinewidth\":0,\"ticks\":\"\"},\"colorscale\":[[0.0,\"#0d0887\"],[0.1111111111111111,\"#46039f\"],[0.2222222222222222,\"#7201a8\"],[0.3333333333333333,\"#9c179e\"],[0.4444444444444444,\"#bd3786\"],[0.5555555555555556,\"#d8576b\"],[0.6666666666666666,\"#ed7953\"],[0.7777777777777778,\"#fb9f3a\"],[0.8888888888888888,\"#fdca26\"],[1.0,\"#f0f921\"]]}],\"surface\":[{\"type\":\"surface\",\"colorbar\":{\"outlinewidth\":0,\"ticks\":\"\"},\"colorscale\":[[0.0,\"#0d0887\"],[0.1111111111111111,\"#46039f\"],[0.2222222222222222,\"#7201a8\"],[0.3333333333333333,\"#9c179e\"],[0.4444444444444444,\"#bd3786\"],[0.5555555555555556,\"#d8576b\"],[0.6666666666666666,\"#ed7953\"],[0.7777777777777778,\"#fb9f3a\"],[0.8888888888888888,\"#fdca26\"],[1.0,\"#f0f921\"]]}],\"mesh3d\":[{\"type\":\"mesh3d\",\"colorbar\":{\"outlinewidth\":0,\"ticks\":\"\"}}],\"scatter\":[{\"fillpattern\":{\"fillmode\":\"overlay\",\"size\":10,\"solidity\":0.2},\"type\":\"scatter\"}],\"parcoords\":[{\"type\":\"parcoords\",\"line\":{\"colorbar\":{\"outlinewidth\":0,\"ticks\":\"\"}}}],\"scatterpolargl\":[{\"type\":\"scatterpolargl\",\"marker\":{\"colorbar\":{\"outlinewidth\":0,\"ticks\":\"\"}}}],\"bar\":[{\"error_x\":{\"color\":\"#2a3f5f\"},\"error_y\":{\"color\":\"#2a3f5f\"},\"marker\":{\"line\":{\"color\":\"#E5ECF6\",\"width\":0.5},\"pattern\":{\"fillmode\":\"overlay\",\"size\":10,\"solidity\":0.2}},\"type\":\"bar\"}],\"scattergeo\":[{\"type\":\"scattergeo\",\"marker\":{\"colorbar\":{\"outlinewidth\":0,\"ticks\":\"\"}}}],\"scatterpolar\":[{\"type\":\"scatterpolar\",\"marker\":{\"colorbar\":{\"outlinewidth\":0,\"ticks\":\"\"}}}],\"histogram\":[{\"marker\":{\"pattern\":{\"fillmode\":\"overlay\",\"size\":10,\"solidity\":0.2}},\"type\":\"histogram\"}],\"scattergl\":[{\"type\":\"scattergl\",\"marker\":{\"colorbar\":{\"outlinewidth\":0,\"ticks\":\"\"}}}],\"scatter3d\":[{\"type\":\"scatter3d\",\"line\":{\"colorbar\":{\"outlinewidth\":0,\"ticks\":\"\"}},\"marker\":{\"colorbar\":{\"outlinewidth\":0,\"ticks\":\"\"}}}],\"scattermapbox\":[{\"type\":\"scattermapbox\",\"marker\":{\"colorbar\":{\"outlinewidth\":0,\"ticks\":\"\"}}}],\"scatterternary\":[{\"type\":\"scatterternary\",\"marker\":{\"colorbar\":{\"outlinewidth\":0,\"ticks\":\"\"}}}],\"scattercarpet\":[{\"type\":\"scattercarpet\",\"marker\":{\"colorbar\":{\"outlinewidth\":0,\"ticks\":\"\"}}}],\"carpet\":[{\"aaxis\":{\"endlinecolor\":\"#2a3f5f\",\"gridcolor\":\"white\",\"linecolor\":\"white\",\"minorgridcolor\":\"white\",\"startlinecolor\":\"#2a3f5f\"},\"baxis\":{\"endlinecolor\":\"#2a3f5f\",\"gridcolor\":\"white\",\"linecolor\":\"white\",\"minorgridcolor\":\"white\",\"startlinecolor\":\"#2a3f5f\"},\"type\":\"carpet\"}],\"table\":[{\"cells\":{\"fill\":{\"color\":\"#EBF0F8\"},\"line\":{\"color\":\"white\"}},\"header\":{\"fill\":{\"color\":\"#C8D4E3\"},\"line\":{\"color\":\"white\"}},\"type\":\"table\"}],\"barpolar\":[{\"marker\":{\"line\":{\"color\":\"#E5ECF6\",\"width\":0.5},\"pattern\":{\"fillmode\":\"overlay\",\"size\":10,\"solidity\":0.2}},\"type\":\"barpolar\"}],\"pie\":[{\"automargin\":true,\"type\":\"pie\"}]},\"layout\":{\"autotypenumbers\":\"strict\",\"colorway\":[\"#636efa\",\"#EF553B\",\"#00cc96\",\"#ab63fa\",\"#FFA15A\",\"#19d3f3\",\"#FF6692\",\"#B6E880\",\"#FF97FF\",\"#FECB52\"],\"font\":{\"color\":\"#2a3f5f\"},\"hovermode\":\"closest\",\"hoverlabel\":{\"align\":\"left\"},\"paper_bgcolor\":\"white\",\"plot_bgcolor\":\"#E5ECF6\",\"polar\":{\"bgcolor\":\"#E5ECF6\",\"angularaxis\":{\"gridcolor\":\"white\",\"linecolor\":\"white\",\"ticks\":\"\"},\"radialaxis\":{\"gridcolor\":\"white\",\"linecolor\":\"white\",\"ticks\":\"\"}},\"ternary\":{\"bgcolor\":\"#E5ECF6\",\"aaxis\":{\"gridcolor\":\"white\",\"linecolor\":\"white\",\"ticks\":\"\"},\"baxis\":{\"gridcolor\":\"white\",\"linecolor\":\"white\",\"ticks\":\"\"},\"caxis\":{\"gridcolor\":\"white\",\"linecolor\":\"white\",\"ticks\":\"\"}},\"coloraxis\":{\"colorbar\":{\"outlinewidth\":0,\"ticks\":\"\"}},\"colorscale\":{\"sequential\":[[0.0,\"#0d0887\"],[0.1111111111111111,\"#46039f\"],[0.2222222222222222,\"#7201a8\"],[0.3333333333333333,\"#9c179e\"],[0.4444444444444444,\"#bd3786\"],[0.5555555555555556,\"#d8576b\"],[0.6666666666666666,\"#ed7953\"],[0.7777777777777778,\"#fb9f3a\"],[0.8888888888888888,\"#fdca26\"],[1.0,\"#f0f921\"]],\"sequentialminus\":[[0.0,\"#0d0887\"],[0.1111111111111111,\"#46039f\"],[0.2222222222222222,\"#7201a8\"],[0.3333333333333333,\"#9c179e\"],[0.4444444444444444,\"#bd3786\"],[0.5555555555555556,\"#d8576b\"],[0.6666666666666666,\"#ed7953\"],[0.7777777777777778,\"#fb9f3a\"],[0.8888888888888888,\"#fdca26\"],[1.0,\"#f0f921\"]],\"diverging\":[[0,\"#8e0152\"],[0.1,\"#c51b7d\"],[0.2,\"#de77ae\"],[0.3,\"#f1b6da\"],[0.4,\"#fde0ef\"],[0.5,\"#f7f7f7\"],[0.6,\"#e6f5d0\"],[0.7,\"#b8e186\"],[0.8,\"#7fbc41\"],[0.9,\"#4d9221\"],[1,\"#276419\"]]},\"xaxis\":{\"gridcolor\":\"white\",\"linecolor\":\"white\",\"ticks\":\"\",\"title\":{\"standoff\":15},\"zerolinecolor\":\"white\",\"automargin\":true,\"zerolinewidth\":2},\"yaxis\":{\"gridcolor\":\"white\",\"linecolor\":\"white\",\"ticks\":\"\",\"title\":{\"standoff\":15},\"zerolinecolor\":\"white\",\"automargin\":true,\"zerolinewidth\":2},\"scene\":{\"xaxis\":{\"backgroundcolor\":\"#E5ECF6\",\"gridcolor\":\"white\",\"linecolor\":\"white\",\"showbackground\":true,\"ticks\":\"\",\"zerolinecolor\":\"white\",\"gridwidth\":2},\"yaxis\":{\"backgroundcolor\":\"#E5ECF6\",\"gridcolor\":\"white\",\"linecolor\":\"white\",\"showbackground\":true,\"ticks\":\"\",\"zerolinecolor\":\"white\",\"gridwidth\":2},\"zaxis\":{\"backgroundcolor\":\"#E5ECF6\",\"gridcolor\":\"white\",\"linecolor\":\"white\",\"showbackground\":true,\"ticks\":\"\",\"zerolinecolor\":\"white\",\"gridwidth\":2}},\"shapedefaults\":{\"line\":{\"color\":\"#2a3f5f\"}},\"annotationdefaults\":{\"arrowcolor\":\"#2a3f5f\",\"arrowhead\":0,\"arrowwidth\":1},\"geo\":{\"bgcolor\":\"white\",\"landcolor\":\"#E5ECF6\",\"subunitcolor\":\"white\",\"showland\":true,\"showlakes\":true,\"lakecolor\":\"white\"},\"title\":{\"x\":0.05},\"mapbox\":{\"style\":\"light\"}}},\"xaxis\":{\"anchor\":\"y\",\"domain\":[0.0,1.0],\"title\":{\"text\":\"x\"}},\"yaxis\":{\"anchor\":\"x\",\"domain\":[0.0,1.0],\"title\":{\"text\":\"y\"}},\"coloraxis\":{\"colorbar\":{\"title\":{\"text\":\"color\"}},\"colorscale\":[[0.0,\"#440154\"],[0.1111111111111111,\"#482878\"],[0.2222222222222222,\"#3e4989\"],[0.3333333333333333,\"#31688e\"],[0.4444444444444444,\"#26828e\"],[0.5555555555555556,\"#1f9e89\"],[0.6666666666666666,\"#35b779\"],[0.7777777777777778,\"#6ece58\"],[0.8888888888888888,\"#b5de2b\"],[1.0,\"#fde725\"]]},\"legend\":{\"tracegroupgap\":0},\"title\":{\"text\":\"sales rate of books\"},\"barmode\":\"relative\"},                        {\"responsive\": true}                    ).then(function(){\n",
       "                            \n",
       "var gd = document.getElementById('0d551fcb-1edd-482d-8a1a-8d378564cd45');\n",
       "var x = new MutationObserver(function (mutations, observer) {{\n",
       "        var display = window.getComputedStyle(gd).display;\n",
       "        if (!display || display === 'none') {{\n",
       "            console.log([gd, 'removed!']);\n",
       "            Plotly.purge(gd);\n",
       "            observer.disconnect();\n",
       "        }}\n",
       "}});\n",
       "\n",
       "// Listen for the removal of the full notebook cells\n",
       "var notebookContainer = gd.closest('#notebook-container');\n",
       "if (notebookContainer) {{\n",
       "    x.observe(notebookContainer, {childList: true});\n",
       "}}\n",
       "\n",
       "// Listen for the clearing of the current output cell\n",
       "var outputEl = gd.closest('.output');\n",
       "if (outputEl) {{\n",
       "    x.observe(outputEl, {childList: true});\n",
       "}}\n",
       "\n",
       "                        })                };                });            </script>        </div>"
      ]
     },
     "metadata": {},
     "output_type": "display_data"
    }
   ],
   "source": [
    "#visualizing the rate of purchase by barplot \n",
    "px.bar(x=df1.columns,y=count,text=df1.sum(),color=count,\n",
    "      title= 'sales rate of books',color_continuous_scale='viridis',hover_name=df1.columns,orientation='v',)"
   ]
  },
  {
   "cell_type": "code",
   "execution_count": 105,
   "id": "597f88de",
   "metadata": {},
   "outputs": [
    {
     "data": {
      "image/png": "[encoded data removed]",
      "text/plain": [
       "<Figure size 1600x900 with 1 Axes>"
      ]
     },
     "metadata": {},
     "output_type": "display_data"
    }
   ],
   "source": [
    "plt.figure(figsize = (16,9))\n",
    "ax = sn.barplot(x = 'count', y = 'items', data= count)\n",
    "plt.yticks(rotation = 0, fontsize = 14)\n",
    "plt.xticks(rotation = 45, fontsize = 12)\n",
    "plt.title('sales rate of books',  fontsize = 18, fontweight = 'bold')\n",
    "for i in ax.containers:\n",
    "    ax.bar_label(i,)"
   ]
  },
  {
   "cell_type": "markdown",
   "id": "d2ae2a83",
   "metadata": {},
   "source": [
    "its very evidently clear that our highest sales of books are child and youth books and are lowest sales are ItalAtlas and ItalArt Books"
   ]
  },
  {
   "cell_type": "markdown",
   "id": "4772fc57",
   "metadata": {},
   "source": [
    "## Apriori Algorithm"
   ]
  },
  {
   "cell_type": "code",
   "execution_count": 48,
   "id": "30c3aaa4",
   "metadata": {},
   "outputs": [
    {
     "data": {
      "text/html": [
       "<div>\n",
       "<style scoped>\n",
       "    .dataframe tbody tr th:only-of-type {\n",
       "        vertical-align: middle;\n",
       "    }\n",
       "\n",
       "    .dataframe tbody tr th {\n",
       "        vertical-align: top;\n",
       "    }\n",
       "\n",
       "    .dataframe thead th {\n",
       "        text-align: right;\n",
       "    }\n",
       "</style>\n",
       "<table border=\"1\" class=\"dataframe\">\n",
       "  <thead>\n",
       "    <tr style=\"text-align: right;\">\n",
       "      <th></th>\n",
       "      <th>support</th>\n",
       "      <th>itemsets</th>\n",
       "    </tr>\n",
       "  </thead>\n",
       "  <tbody>\n",
       "    <tr>\n",
       "      <th>0</th>\n",
       "      <td>0.4230</td>\n",
       "      <td>(ChildBks)</td>\n",
       "    </tr>\n",
       "    <tr>\n",
       "      <th>1</th>\n",
       "      <td>0.2475</td>\n",
       "      <td>(YouthBks)</td>\n",
       "    </tr>\n",
       "    <tr>\n",
       "      <th>2</th>\n",
       "      <td>0.4310</td>\n",
       "      <td>(CookBks)</td>\n",
       "    </tr>\n",
       "    <tr>\n",
       "      <th>3</th>\n",
       "      <td>0.2820</td>\n",
       "      <td>(DoItYBks)</td>\n",
       "    </tr>\n",
       "    <tr>\n",
       "      <th>4</th>\n",
       "      <td>0.2145</td>\n",
       "      <td>(RefBks)</td>\n",
       "    </tr>\n",
       "    <tr>\n",
       "      <th>5</th>\n",
       "      <td>0.2410</td>\n",
       "      <td>(ArtBks)</td>\n",
       "    </tr>\n",
       "    <tr>\n",
       "      <th>6</th>\n",
       "      <td>0.2760</td>\n",
       "      <td>(GeogBks)</td>\n",
       "    </tr>\n",
       "    <tr>\n",
       "      <th>7</th>\n",
       "      <td>0.2560</td>\n",
       "      <td>(ChildBks, CookBks)</td>\n",
       "    </tr>\n",
       "  </tbody>\n",
       "</table>\n",
       "</div>"
      ],
      "text/plain": [
       "   support             itemsets\n",
       "0   0.4230           (ChildBks)\n",
       "1   0.2475           (YouthBks)\n",
       "2   0.4310            (CookBks)\n",
       "3   0.2820           (DoItYBks)\n",
       "4   0.2145             (RefBks)\n",
       "5   0.2410             (ArtBks)\n",
       "6   0.2760            (GeogBks)\n",
       "7   0.2560  (ChildBks, CookBks)"
      ]
     },
     "execution_count": 48,
     "metadata": {},
     "output_type": "execute_result"
    }
   ],
   "source": [
    "#fitting our support at 20%\n",
    "freq_books = apriori(df,min_support=0.2,use_colnames=True)\n",
    "freq_books"
   ]
  },
  {
   "cell_type": "code",
   "execution_count": 49,
   "id": "39136fb9",
   "metadata": {
    "scrolled": true
   },
   "outputs": [
    {
     "data": {
      "text/html": [
       "<div>\n",
       "<style scoped>\n",
       "    .dataframe tbody tr th:only-of-type {\n",
       "        vertical-align: middle;\n",
       "    }\n",
       "\n",
       "    .dataframe tbody tr th {\n",
       "        vertical-align: top;\n",
       "    }\n",
       "\n",
       "    .dataframe thead th {\n",
       "        text-align: right;\n",
       "    }\n",
       "</style>\n",
       "<table border=\"1\" class=\"dataframe\">\n",
       "  <thead>\n",
       "    <tr style=\"text-align: right;\">\n",
       "      <th></th>\n",
       "      <th>antecedents</th>\n",
       "      <th>consequents</th>\n",
       "      <th>antecedent support</th>\n",
       "      <th>consequent support</th>\n",
       "      <th>support</th>\n",
       "      <th>confidence</th>\n",
       "      <th>lift</th>\n",
       "      <th>leverage</th>\n",
       "      <th>conviction</th>\n",
       "    </tr>\n",
       "  </thead>\n",
       "  <tbody>\n",
       "    <tr>\n",
       "      <th>0</th>\n",
       "      <td>(ChildBks)</td>\n",
       "      <td>(CookBks)</td>\n",
       "      <td>0.423</td>\n",
       "      <td>0.431</td>\n",
       "      <td>0.256</td>\n",
       "      <td>0.605201</td>\n",
       "      <td>1.404179</td>\n",
       "      <td>0.073687</td>\n",
       "      <td>1.441240</td>\n",
       "    </tr>\n",
       "    <tr>\n",
       "      <th>1</th>\n",
       "      <td>(CookBks)</td>\n",
       "      <td>(ChildBks)</td>\n",
       "      <td>0.431</td>\n",
       "      <td>0.423</td>\n",
       "      <td>0.256</td>\n",
       "      <td>0.593968</td>\n",
       "      <td>1.404179</td>\n",
       "      <td>0.073687</td>\n",
       "      <td>1.421069</td>\n",
       "    </tr>\n",
       "  </tbody>\n",
       "</table>\n",
       "</div>"
      ],
      "text/plain": [
       "  antecedents consequents  antecedent support  consequent support  support  \\\n",
       "0  (ChildBks)   (CookBks)               0.423               0.431    0.256   \n",
       "1   (CookBks)  (ChildBks)               0.431               0.423    0.256   \n",
       "\n",
       "   confidence      lift  leverage  conviction  \n",
       "0    0.605201  1.404179  0.073687    1.441240  \n",
       "1    0.593968  1.404179  0.073687    1.421069  "
      ]
     },
     "execution_count": 49,
     "metadata": {},
     "output_type": "execute_result"
    }
   ],
   "source": [
    "#fitting our association rule with confidence 75%\n",
    "rules_1 = association_rules(freq_books,metric='lift',min_threshold=0.75)\n",
    "rules_1.sort_values('lift',ascending=False)\n",
    "rules_1"
   ]
  },
  {
   "cell_type": "code",
   "execution_count": 50,
   "id": "4ed4cf71",
   "metadata": {},
   "outputs": [
    {
     "data": {
      "text/html": [
       "<div>\n",
       "<style scoped>\n",
       "    .dataframe tbody tr th:only-of-type {\n",
       "        vertical-align: middle;\n",
       "    }\n",
       "\n",
       "    .dataframe tbody tr th {\n",
       "        vertical-align: top;\n",
       "    }\n",
       "\n",
       "    .dataframe thead th {\n",
       "        text-align: right;\n",
       "    }\n",
       "</style>\n",
       "<table border=\"1\" class=\"dataframe\">\n",
       "  <thead>\n",
       "    <tr style=\"text-align: right;\">\n",
       "      <th></th>\n",
       "      <th>antecedents</th>\n",
       "      <th>consequents</th>\n",
       "      <th>antecedent support</th>\n",
       "      <th>consequent support</th>\n",
       "      <th>support</th>\n",
       "      <th>confidence</th>\n",
       "      <th>lift</th>\n",
       "      <th>leverage</th>\n",
       "      <th>conviction</th>\n",
       "    </tr>\n",
       "  </thead>\n",
       "  <tbody>\n",
       "    <tr>\n",
       "      <th>0</th>\n",
       "      <td>(ChildBks)</td>\n",
       "      <td>(CookBks)</td>\n",
       "      <td>0.423</td>\n",
       "      <td>0.431</td>\n",
       "      <td>0.256</td>\n",
       "      <td>0.605201</td>\n",
       "      <td>1.404179</td>\n",
       "      <td>0.073687</td>\n",
       "      <td>1.441240</td>\n",
       "    </tr>\n",
       "    <tr>\n",
       "      <th>1</th>\n",
       "      <td>(CookBks)</td>\n",
       "      <td>(ChildBks)</td>\n",
       "      <td>0.431</td>\n",
       "      <td>0.423</td>\n",
       "      <td>0.256</td>\n",
       "      <td>0.593968</td>\n",
       "      <td>1.404179</td>\n",
       "      <td>0.073687</td>\n",
       "      <td>1.421069</td>\n",
       "    </tr>\n",
       "  </tbody>\n",
       "</table>\n",
       "</div>"
      ],
      "text/plain": [
       "  antecedents consequents  antecedent support  consequent support  support  \\\n",
       "0  (ChildBks)   (CookBks)               0.423               0.431    0.256   \n",
       "1   (CookBks)  (ChildBks)               0.431               0.423    0.256   \n",
       "\n",
       "   confidence      lift  leverage  conviction  \n",
       "0    0.605201  1.404179  0.073687    1.441240  \n",
       "1    0.593968  1.404179  0.073687    1.421069  "
      ]
     },
     "execution_count": 50,
     "metadata": {},
     "output_type": "execute_result"
    }
   ],
   "source": [
    "rules_1[rules_1.lift>=1]"
   ]
  },
  {
   "cell_type": "code",
   "execution_count": 106,
   "id": "8797f573",
   "metadata": {},
   "outputs": [
    {
     "data": {
      "image/png": "[encoded data removed]",
      "text/plain": [
       "<Figure size 1600x900 with 1 Axes>"
      ]
     },
     "metadata": {},
     "output_type": "display_data"
    }
   ],
   "source": [
    "# visualization of obtained rule 1\n",
    "plt.figure(figsize=(16,9))\n",
    "plt.scatter(rules_1['support'],rules_1['confidence'])\n",
    "plt.xlabel('support')\n",
    "plt.ylabel('confidence') \n",
    "plt.show()"
   ]
  },
  {
   "cell_type": "markdown",
   "id": "9ea24bc3",
   "metadata": {},
   "source": [
    "We can observe that at 20% support and 75% confidence we can say that people are interested purchasing cooking books and children books.this tells us that parents with their children or for their children are purchasing books for themselves "
   ]
  },
  {
   "cell_type": "code",
   "execution_count": 52,
   "id": "92adc5af",
   "metadata": {
    "scrolled": true
   },
   "outputs": [
    {
     "data": {
      "text/html": [
       "<div>\n",
       "<style scoped>\n",
       "    .dataframe tbody tr th:only-of-type {\n",
       "        vertical-align: middle;\n",
       "    }\n",
       "\n",
       "    .dataframe tbody tr th {\n",
       "        vertical-align: top;\n",
       "    }\n",
       "\n",
       "    .dataframe thead th {\n",
       "        text-align: right;\n",
       "    }\n",
       "</style>\n",
       "<table border=\"1\" class=\"dataframe\">\n",
       "  <thead>\n",
       "    <tr style=\"text-align: right;\">\n",
       "      <th></th>\n",
       "      <th>support</th>\n",
       "      <th>itemsets</th>\n",
       "    </tr>\n",
       "  </thead>\n",
       "  <tbody>\n",
       "    <tr>\n",
       "      <th>0</th>\n",
       "      <td>0.4230</td>\n",
       "      <td>(ChildBks)</td>\n",
       "    </tr>\n",
       "    <tr>\n",
       "      <th>1</th>\n",
       "      <td>0.2475</td>\n",
       "      <td>(YouthBks)</td>\n",
       "    </tr>\n",
       "    <tr>\n",
       "      <th>2</th>\n",
       "      <td>0.4310</td>\n",
       "      <td>(CookBks)</td>\n",
       "    </tr>\n",
       "    <tr>\n",
       "      <th>3</th>\n",
       "      <td>0.2820</td>\n",
       "      <td>(DoItYBks)</td>\n",
       "    </tr>\n",
       "    <tr>\n",
       "      <th>4</th>\n",
       "      <td>0.2145</td>\n",
       "      <td>(RefBks)</td>\n",
       "    </tr>\n",
       "    <tr>\n",
       "      <th>5</th>\n",
       "      <td>0.2410</td>\n",
       "      <td>(ArtBks)</td>\n",
       "    </tr>\n",
       "    <tr>\n",
       "      <th>6</th>\n",
       "      <td>0.2760</td>\n",
       "      <td>(GeogBks)</td>\n",
       "    </tr>\n",
       "    <tr>\n",
       "      <th>7</th>\n",
       "      <td>0.1135</td>\n",
       "      <td>(ItalCook)</td>\n",
       "    </tr>\n",
       "    <tr>\n",
       "      <th>8</th>\n",
       "      <td>0.1085</td>\n",
       "      <td>(Florence)</td>\n",
       "    </tr>\n",
       "    <tr>\n",
       "      <th>9</th>\n",
       "      <td>0.1650</td>\n",
       "      <td>(ChildBks, YouthBks)</td>\n",
       "    </tr>\n",
       "    <tr>\n",
       "      <th>10</th>\n",
       "      <td>0.2560</td>\n",
       "      <td>(ChildBks, CookBks)</td>\n",
       "    </tr>\n",
       "    <tr>\n",
       "      <th>11</th>\n",
       "      <td>0.1840</td>\n",
       "      <td>(ChildBks, DoItYBks)</td>\n",
       "    </tr>\n",
       "    <tr>\n",
       "      <th>12</th>\n",
       "      <td>0.1515</td>\n",
       "      <td>(ChildBks, RefBks)</td>\n",
       "    </tr>\n",
       "    <tr>\n",
       "      <th>13</th>\n",
       "      <td>0.1625</td>\n",
       "      <td>(ChildBks, ArtBks)</td>\n",
       "    </tr>\n",
       "    <tr>\n",
       "      <th>14</th>\n",
       "      <td>0.1950</td>\n",
       "      <td>(ChildBks, GeogBks)</td>\n",
       "    </tr>\n",
       "    <tr>\n",
       "      <th>15</th>\n",
       "      <td>0.1620</td>\n",
       "      <td>(YouthBks, CookBks)</td>\n",
       "    </tr>\n",
       "    <tr>\n",
       "      <th>16</th>\n",
       "      <td>0.1155</td>\n",
       "      <td>(YouthBks, DoItYBks)</td>\n",
       "    </tr>\n",
       "    <tr>\n",
       "      <th>17</th>\n",
       "      <td>0.1010</td>\n",
       "      <td>(YouthBks, ArtBks)</td>\n",
       "    </tr>\n",
       "    <tr>\n",
       "      <th>18</th>\n",
       "      <td>0.1205</td>\n",
       "      <td>(YouthBks, GeogBks)</td>\n",
       "    </tr>\n",
       "    <tr>\n",
       "      <th>19</th>\n",
       "      <td>0.1875</td>\n",
       "      <td>(DoItYBks, CookBks)</td>\n",
       "    </tr>\n",
       "    <tr>\n",
       "      <th>20</th>\n",
       "      <td>0.1525</td>\n",
       "      <td>(RefBks, CookBks)</td>\n",
       "    </tr>\n",
       "    <tr>\n",
       "      <th>21</th>\n",
       "      <td>0.1670</td>\n",
       "      <td>(ArtBks, CookBks)</td>\n",
       "    </tr>\n",
       "    <tr>\n",
       "      <th>22</th>\n",
       "      <td>0.1925</td>\n",
       "      <td>(GeogBks, CookBks)</td>\n",
       "    </tr>\n",
       "    <tr>\n",
       "      <th>23</th>\n",
       "      <td>0.1135</td>\n",
       "      <td>(ItalCook, CookBks)</td>\n",
       "    </tr>\n",
       "    <tr>\n",
       "      <th>24</th>\n",
       "      <td>0.1055</td>\n",
       "      <td>(RefBks, DoItYBks)</td>\n",
       "    </tr>\n",
       "    <tr>\n",
       "      <th>25</th>\n",
       "      <td>0.1235</td>\n",
       "      <td>(DoItYBks, ArtBks)</td>\n",
       "    </tr>\n",
       "    <tr>\n",
       "      <th>26</th>\n",
       "      <td>0.1325</td>\n",
       "      <td>(DoItYBks, GeogBks)</td>\n",
       "    </tr>\n",
       "    <tr>\n",
       "      <th>27</th>\n",
       "      <td>0.1105</td>\n",
       "      <td>(RefBks, GeogBks)</td>\n",
       "    </tr>\n",
       "    <tr>\n",
       "      <th>28</th>\n",
       "      <td>0.1275</td>\n",
       "      <td>(GeogBks, ArtBks)</td>\n",
       "    </tr>\n",
       "    <tr>\n",
       "      <th>29</th>\n",
       "      <td>0.1290</td>\n",
       "      <td>(ChildBks, YouthBks, CookBks)</td>\n",
       "    </tr>\n",
       "    <tr>\n",
       "      <th>30</th>\n",
       "      <td>0.1460</td>\n",
       "      <td>(ChildBks, DoItYBks, CookBks)</td>\n",
       "    </tr>\n",
       "    <tr>\n",
       "      <th>31</th>\n",
       "      <td>0.1225</td>\n",
       "      <td>(ChildBks, RefBks, CookBks)</td>\n",
       "    </tr>\n",
       "    <tr>\n",
       "      <th>32</th>\n",
       "      <td>0.1265</td>\n",
       "      <td>(ChildBks, ArtBks, CookBks)</td>\n",
       "    </tr>\n",
       "    <tr>\n",
       "      <th>33</th>\n",
       "      <td>0.1495</td>\n",
       "      <td>(ChildBks, GeogBks, CookBks)</td>\n",
       "    </tr>\n",
       "    <tr>\n",
       "      <th>34</th>\n",
       "      <td>0.1045</td>\n",
       "      <td>(ChildBks, DoItYBks, GeogBks)</td>\n",
       "    </tr>\n",
       "    <tr>\n",
       "      <th>35</th>\n",
       "      <td>0.1020</td>\n",
       "      <td>(ChildBks, GeogBks, ArtBks)</td>\n",
       "    </tr>\n",
       "    <tr>\n",
       "      <th>36</th>\n",
       "      <td>0.1015</td>\n",
       "      <td>(DoItYBks, ArtBks, CookBks)</td>\n",
       "    </tr>\n",
       "    <tr>\n",
       "      <th>37</th>\n",
       "      <td>0.1085</td>\n",
       "      <td>(DoItYBks, GeogBks, CookBks)</td>\n",
       "    </tr>\n",
       "    <tr>\n",
       "      <th>38</th>\n",
       "      <td>0.1035</td>\n",
       "      <td>(GeogBks, ArtBks, CookBks)</td>\n",
       "    </tr>\n",
       "  </tbody>\n",
       "</table>\n",
       "</div>"
      ],
      "text/plain": [
       "    support                       itemsets\n",
       "0    0.4230                     (ChildBks)\n",
       "1    0.2475                     (YouthBks)\n",
       "2    0.4310                      (CookBks)\n",
       "3    0.2820                     (DoItYBks)\n",
       "4    0.2145                       (RefBks)\n",
       "5    0.2410                       (ArtBks)\n",
       "6    0.2760                      (GeogBks)\n",
       "7    0.1135                     (ItalCook)\n",
       "8    0.1085                     (Florence)\n",
       "9    0.1650           (ChildBks, YouthBks)\n",
       "10   0.2560            (ChildBks, CookBks)\n",
       "11   0.1840           (ChildBks, DoItYBks)\n",
       "12   0.1515             (ChildBks, RefBks)\n",
       "13   0.1625             (ChildBks, ArtBks)\n",
       "14   0.1950            (ChildBks, GeogBks)\n",
       "15   0.1620            (YouthBks, CookBks)\n",
       "16   0.1155           (YouthBks, DoItYBks)\n",
       "17   0.1010             (YouthBks, ArtBks)\n",
       "18   0.1205            (YouthBks, GeogBks)\n",
       "19   0.1875            (DoItYBks, CookBks)\n",
       "20   0.1525              (RefBks, CookBks)\n",
       "21   0.1670              (ArtBks, CookBks)\n",
       "22   0.1925             (GeogBks, CookBks)\n",
       "23   0.1135            (ItalCook, CookBks)\n",
       "24   0.1055             (RefBks, DoItYBks)\n",
       "25   0.1235             (DoItYBks, ArtBks)\n",
       "26   0.1325            (DoItYBks, GeogBks)\n",
       "27   0.1105              (RefBks, GeogBks)\n",
       "28   0.1275              (GeogBks, ArtBks)\n",
       "29   0.1290  (ChildBks, YouthBks, CookBks)\n",
       "30   0.1460  (ChildBks, DoItYBks, CookBks)\n",
       "31   0.1225    (ChildBks, RefBks, CookBks)\n",
       "32   0.1265    (ChildBks, ArtBks, CookBks)\n",
       "33   0.1495   (ChildBks, GeogBks, CookBks)\n",
       "34   0.1045  (ChildBks, DoItYBks, GeogBks)\n",
       "35   0.1020    (ChildBks, GeogBks, ArtBks)\n",
       "36   0.1015    (DoItYBks, ArtBks, CookBks)\n",
       "37   0.1085   (DoItYBks, GeogBks, CookBks)\n",
       "38   0.1035     (GeogBks, ArtBks, CookBks)"
      ]
     },
     "execution_count": 52,
     "metadata": {},
     "output_type": "execute_result"
    }
   ],
   "source": [
    "#fitting our association rules at 10% support \n",
    "freq_books_2 = apriori(df,min_support=0.1,use_colnames=True)\n",
    "freq_books_2"
   ]
  },
  {
   "cell_type": "code",
   "execution_count": 53,
   "id": "53b01071",
   "metadata": {},
   "outputs": [
    {
     "data": {
      "text/html": [
       "<div>\n",
       "<style scoped>\n",
       "    .dataframe tbody tr th:only-of-type {\n",
       "        vertical-align: middle;\n",
       "    }\n",
       "\n",
       "    .dataframe tbody tr th {\n",
       "        vertical-align: top;\n",
       "    }\n",
       "\n",
       "    .dataframe thead th {\n",
       "        text-align: right;\n",
       "    }\n",
       "</style>\n",
       "<table border=\"1\" class=\"dataframe\">\n",
       "  <thead>\n",
       "    <tr style=\"text-align: right;\">\n",
       "      <th></th>\n",
       "      <th>antecedents</th>\n",
       "      <th>consequents</th>\n",
       "      <th>antecedent support</th>\n",
       "      <th>consequent support</th>\n",
       "      <th>support</th>\n",
       "      <th>confidence</th>\n",
       "      <th>lift</th>\n",
       "      <th>leverage</th>\n",
       "      <th>conviction</th>\n",
       "    </tr>\n",
       "  </thead>\n",
       "  <tbody>\n",
       "    <tr>\n",
       "      <th>29</th>\n",
       "      <td>(CookBks)</td>\n",
       "      <td>(ItalCook)</td>\n",
       "      <td>0.4310</td>\n",
       "      <td>0.1135</td>\n",
       "      <td>0.1135</td>\n",
       "      <td>0.263341</td>\n",
       "      <td>2.320186</td>\n",
       "      <td>0.064582</td>\n",
       "      <td>1.203406</td>\n",
       "    </tr>\n",
       "    <tr>\n",
       "      <th>28</th>\n",
       "      <td>(ItalCook)</td>\n",
       "      <td>(CookBks)</td>\n",
       "      <td>0.1135</td>\n",
       "      <td>0.4310</td>\n",
       "      <td>0.1135</td>\n",
       "      <td>1.000000</td>\n",
       "      <td>2.320186</td>\n",
       "      <td>0.064582</td>\n",
       "      <td>inf</td>\n",
       "    </tr>\n",
       "    <tr>\n",
       "      <th>77</th>\n",
       "      <td>(ChildBks, ArtBks)</td>\n",
       "      <td>(GeogBks)</td>\n",
       "      <td>0.1625</td>\n",
       "      <td>0.2760</td>\n",
       "      <td>0.1020</td>\n",
       "      <td>0.627692</td>\n",
       "      <td>2.274247</td>\n",
       "      <td>0.057150</td>\n",
       "      <td>1.944628</td>\n",
       "    </tr>\n",
       "    <tr>\n",
       "      <th>80</th>\n",
       "      <td>(GeogBks)</td>\n",
       "      <td>(ChildBks, ArtBks)</td>\n",
       "      <td>0.2760</td>\n",
       "      <td>0.1625</td>\n",
       "      <td>0.1020</td>\n",
       "      <td>0.369565</td>\n",
       "      <td>2.274247</td>\n",
       "      <td>0.057150</td>\n",
       "      <td>1.328448</td>\n",
       "    </tr>\n",
       "    <tr>\n",
       "      <th>86</th>\n",
       "      <td>(ArtBks)</td>\n",
       "      <td>(DoItYBks, CookBks)</td>\n",
       "      <td>0.2410</td>\n",
       "      <td>0.1875</td>\n",
       "      <td>0.1015</td>\n",
       "      <td>0.421162</td>\n",
       "      <td>2.246196</td>\n",
       "      <td>0.056313</td>\n",
       "      <td>1.403674</td>\n",
       "    </tr>\n",
       "    <tr>\n",
       "      <th>...</th>\n",
       "      <td>...</td>\n",
       "      <td>...</td>\n",
       "      <td>...</td>\n",
       "      <td>...</td>\n",
       "      <td>...</td>\n",
       "      <td>...</td>\n",
       "      <td>...</td>\n",
       "      <td>...</td>\n",
       "      <td>...</td>\n",
       "    </tr>\n",
       "    <tr>\n",
       "      <th>5</th>\n",
       "      <td>(DoItYBks)</td>\n",
       "      <td>(ChildBks)</td>\n",
       "      <td>0.2820</td>\n",
       "      <td>0.4230</td>\n",
       "      <td>0.1840</td>\n",
       "      <td>0.652482</td>\n",
       "      <td>1.542511</td>\n",
       "      <td>0.064714</td>\n",
       "      <td>1.660347</td>\n",
       "    </tr>\n",
       "    <tr>\n",
       "      <th>13</th>\n",
       "      <td>(CookBks)</td>\n",
       "      <td>(YouthBks)</td>\n",
       "      <td>0.4310</td>\n",
       "      <td>0.2475</td>\n",
       "      <td>0.1620</td>\n",
       "      <td>0.375870</td>\n",
       "      <td>1.518667</td>\n",
       "      <td>0.055328</td>\n",
       "      <td>1.205678</td>\n",
       "    </tr>\n",
       "    <tr>\n",
       "      <th>12</th>\n",
       "      <td>(YouthBks)</td>\n",
       "      <td>(CookBks)</td>\n",
       "      <td>0.2475</td>\n",
       "      <td>0.4310</td>\n",
       "      <td>0.1620</td>\n",
       "      <td>0.654545</td>\n",
       "      <td>1.518667</td>\n",
       "      <td>0.055328</td>\n",
       "      <td>1.647105</td>\n",
       "    </tr>\n",
       "    <tr>\n",
       "      <th>3</th>\n",
       "      <td>(CookBks)</td>\n",
       "      <td>(ChildBks)</td>\n",
       "      <td>0.4310</td>\n",
       "      <td>0.4230</td>\n",
       "      <td>0.2560</td>\n",
       "      <td>0.593968</td>\n",
       "      <td>1.404179</td>\n",
       "      <td>0.073687</td>\n",
       "      <td>1.421069</td>\n",
       "    </tr>\n",
       "    <tr>\n",
       "      <th>2</th>\n",
       "      <td>(ChildBks)</td>\n",
       "      <td>(CookBks)</td>\n",
       "      <td>0.4230</td>\n",
       "      <td>0.4310</td>\n",
       "      <td>0.2560</td>\n",
       "      <td>0.605201</td>\n",
       "      <td>1.404179</td>\n",
       "      <td>0.073687</td>\n",
       "      <td>1.441240</td>\n",
       "    </tr>\n",
       "  </tbody>\n",
       "</table>\n",
       "<p>100 rows × 9 columns</p>\n",
       "</div>"
      ],
      "text/plain": [
       "           antecedents          consequents  antecedent support  \\\n",
       "29           (CookBks)           (ItalCook)              0.4310   \n",
       "28          (ItalCook)            (CookBks)              0.1135   \n",
       "77  (ChildBks, ArtBks)            (GeogBks)              0.1625   \n",
       "80           (GeogBks)   (ChildBks, ArtBks)              0.2760   \n",
       "86            (ArtBks)  (DoItYBks, CookBks)              0.2410   \n",
       "..                 ...                  ...                 ...   \n",
       "5           (DoItYBks)           (ChildBks)              0.2820   \n",
       "13           (CookBks)           (YouthBks)              0.4310   \n",
       "12          (YouthBks)            (CookBks)              0.2475   \n",
       "3            (CookBks)           (ChildBks)              0.4310   \n",
       "2           (ChildBks)            (CookBks)              0.4230   \n",
       "\n",
       "    consequent support  support  confidence      lift  leverage  conviction  \n",
       "29              0.1135   0.1135    0.263341  2.320186  0.064582    1.203406  \n",
       "28              0.4310   0.1135    1.000000  2.320186  0.064582         inf  \n",
       "77              0.2760   0.1020    0.627692  2.274247  0.057150    1.944628  \n",
       "80              0.1625   0.1020    0.369565  2.274247  0.057150    1.328448  \n",
       "86              0.1875   0.1015    0.421162  2.246196  0.056313    1.403674  \n",
       "..                 ...      ...         ...       ...       ...         ...  \n",
       "5               0.4230   0.1840    0.652482  1.542511  0.064714    1.660347  \n",
       "13              0.2475   0.1620    0.375870  1.518667  0.055328    1.205678  \n",
       "12              0.4310   0.1620    0.654545  1.518667  0.055328    1.647105  \n",
       "3               0.4230   0.2560    0.593968  1.404179  0.073687    1.421069  \n",
       "2               0.4310   0.2560    0.605201  1.404179  0.073687    1.441240  \n",
       "\n",
       "[100 rows x 9 columns]"
      ]
     },
     "execution_count": 53,
     "metadata": {},
     "output_type": "execute_result"
    }
   ],
   "source": [
    "#fitting our association rule with confidence 70%\n",
    "rules_2 = association_rules(freq_books_2,metric='lift',min_threshold=0.7)\n",
    "rules_2.sort_values('lift',ascending=False,inplace=True)\n",
    "rules_2"
   ]
  },
  {
   "cell_type": "code",
   "execution_count": 54,
   "id": "1388944a",
   "metadata": {
    "scrolled": true
   },
   "outputs": [
    {
     "data": {
      "text/html": [
       "<div>\n",
       "<style scoped>\n",
       "    .dataframe tbody tr th:only-of-type {\n",
       "        vertical-align: middle;\n",
       "    }\n",
       "\n",
       "    .dataframe tbody tr th {\n",
       "        vertical-align: top;\n",
       "    }\n",
       "\n",
       "    .dataframe thead th {\n",
       "        text-align: right;\n",
       "    }\n",
       "</style>\n",
       "<table border=\"1\" class=\"dataframe\">\n",
       "  <thead>\n",
       "    <tr style=\"text-align: right;\">\n",
       "      <th></th>\n",
       "      <th>antecedents</th>\n",
       "      <th>consequents</th>\n",
       "      <th>antecedent support</th>\n",
       "      <th>consequent support</th>\n",
       "      <th>support</th>\n",
       "      <th>confidence</th>\n",
       "      <th>lift</th>\n",
       "      <th>leverage</th>\n",
       "      <th>conviction</th>\n",
       "    </tr>\n",
       "  </thead>\n",
       "  <tbody>\n",
       "    <tr>\n",
       "      <th>29</th>\n",
       "      <td>(CookBks)</td>\n",
       "      <td>(ItalCook)</td>\n",
       "      <td>0.4310</td>\n",
       "      <td>0.1135</td>\n",
       "      <td>0.1135</td>\n",
       "      <td>0.263341</td>\n",
       "      <td>2.320186</td>\n",
       "      <td>0.064582</td>\n",
       "      <td>1.203406</td>\n",
       "    </tr>\n",
       "    <tr>\n",
       "      <th>28</th>\n",
       "      <td>(ItalCook)</td>\n",
       "      <td>(CookBks)</td>\n",
       "      <td>0.1135</td>\n",
       "      <td>0.4310</td>\n",
       "      <td>0.1135</td>\n",
       "      <td>1.000000</td>\n",
       "      <td>2.320186</td>\n",
       "      <td>0.064582</td>\n",
       "      <td>inf</td>\n",
       "    </tr>\n",
       "    <tr>\n",
       "      <th>77</th>\n",
       "      <td>(ChildBks, ArtBks)</td>\n",
       "      <td>(GeogBks)</td>\n",
       "      <td>0.1625</td>\n",
       "      <td>0.2760</td>\n",
       "      <td>0.1020</td>\n",
       "      <td>0.627692</td>\n",
       "      <td>2.274247</td>\n",
       "      <td>0.057150</td>\n",
       "      <td>1.944628</td>\n",
       "    </tr>\n",
       "    <tr>\n",
       "      <th>80</th>\n",
       "      <td>(GeogBks)</td>\n",
       "      <td>(ChildBks, ArtBks)</td>\n",
       "      <td>0.2760</td>\n",
       "      <td>0.1625</td>\n",
       "      <td>0.1020</td>\n",
       "      <td>0.369565</td>\n",
       "      <td>2.274247</td>\n",
       "      <td>0.057150</td>\n",
       "      <td>1.328448</td>\n",
       "    </tr>\n",
       "    <tr>\n",
       "      <th>86</th>\n",
       "      <td>(ArtBks)</td>\n",
       "      <td>(DoItYBks, CookBks)</td>\n",
       "      <td>0.2410</td>\n",
       "      <td>0.1875</td>\n",
       "      <td>0.1015</td>\n",
       "      <td>0.421162</td>\n",
       "      <td>2.246196</td>\n",
       "      <td>0.056313</td>\n",
       "      <td>1.403674</td>\n",
       "    </tr>\n",
       "    <tr>\n",
       "      <th>...</th>\n",
       "      <td>...</td>\n",
       "      <td>...</td>\n",
       "      <td>...</td>\n",
       "      <td>...</td>\n",
       "      <td>...</td>\n",
       "      <td>...</td>\n",
       "      <td>...</td>\n",
       "      <td>...</td>\n",
       "      <td>...</td>\n",
       "    </tr>\n",
       "    <tr>\n",
       "      <th>21</th>\n",
       "      <td>(CookBks)</td>\n",
       "      <td>(DoItYBks)</td>\n",
       "      <td>0.4310</td>\n",
       "      <td>0.2820</td>\n",
       "      <td>0.1875</td>\n",
       "      <td>0.435035</td>\n",
       "      <td>1.542677</td>\n",
       "      <td>0.065958</td>\n",
       "      <td>1.270875</td>\n",
       "    </tr>\n",
       "    <tr>\n",
       "      <th>4</th>\n",
       "      <td>(ChildBks)</td>\n",
       "      <td>(DoItYBks)</td>\n",
       "      <td>0.4230</td>\n",
       "      <td>0.2820</td>\n",
       "      <td>0.1840</td>\n",
       "      <td>0.434988</td>\n",
       "      <td>1.542511</td>\n",
       "      <td>0.064714</td>\n",
       "      <td>1.270770</td>\n",
       "    </tr>\n",
       "    <tr>\n",
       "      <th>5</th>\n",
       "      <td>(DoItYBks)</td>\n",
       "      <td>(ChildBks)</td>\n",
       "      <td>0.2820</td>\n",
       "      <td>0.4230</td>\n",
       "      <td>0.1840</td>\n",
       "      <td>0.652482</td>\n",
       "      <td>1.542511</td>\n",
       "      <td>0.064714</td>\n",
       "      <td>1.660347</td>\n",
       "    </tr>\n",
       "    <tr>\n",
       "      <th>13</th>\n",
       "      <td>(CookBks)</td>\n",
       "      <td>(YouthBks)</td>\n",
       "      <td>0.4310</td>\n",
       "      <td>0.2475</td>\n",
       "      <td>0.1620</td>\n",
       "      <td>0.375870</td>\n",
       "      <td>1.518667</td>\n",
       "      <td>0.055328</td>\n",
       "      <td>1.205678</td>\n",
       "    </tr>\n",
       "    <tr>\n",
       "      <th>12</th>\n",
       "      <td>(YouthBks)</td>\n",
       "      <td>(CookBks)</td>\n",
       "      <td>0.2475</td>\n",
       "      <td>0.4310</td>\n",
       "      <td>0.1620</td>\n",
       "      <td>0.654545</td>\n",
       "      <td>1.518667</td>\n",
       "      <td>0.055328</td>\n",
       "      <td>1.647105</td>\n",
       "    </tr>\n",
       "  </tbody>\n",
       "</table>\n",
       "<p>98 rows × 9 columns</p>\n",
       "</div>"
      ],
      "text/plain": [
       "           antecedents          consequents  antecedent support  \\\n",
       "29           (CookBks)           (ItalCook)              0.4310   \n",
       "28          (ItalCook)            (CookBks)              0.1135   \n",
       "77  (ChildBks, ArtBks)            (GeogBks)              0.1625   \n",
       "80           (GeogBks)   (ChildBks, ArtBks)              0.2760   \n",
       "86            (ArtBks)  (DoItYBks, CookBks)              0.2410   \n",
       "..                 ...                  ...                 ...   \n",
       "21           (CookBks)           (DoItYBks)              0.4310   \n",
       "4           (ChildBks)           (DoItYBks)              0.4230   \n",
       "5           (DoItYBks)           (ChildBks)              0.2820   \n",
       "13           (CookBks)           (YouthBks)              0.4310   \n",
       "12          (YouthBks)            (CookBks)              0.2475   \n",
       "\n",
       "    consequent support  support  confidence      lift  leverage  conviction  \n",
       "29              0.1135   0.1135    0.263341  2.320186  0.064582    1.203406  \n",
       "28              0.4310   0.1135    1.000000  2.320186  0.064582         inf  \n",
       "77              0.2760   0.1020    0.627692  2.274247  0.057150    1.944628  \n",
       "80              0.1625   0.1020    0.369565  2.274247  0.057150    1.328448  \n",
       "86              0.1875   0.1015    0.421162  2.246196  0.056313    1.403674  \n",
       "..                 ...      ...         ...       ...       ...         ...  \n",
       "21              0.2820   0.1875    0.435035  1.542677  0.065958    1.270875  \n",
       "4               0.2820   0.1840    0.434988  1.542511  0.064714    1.270770  \n",
       "5               0.4230   0.1840    0.652482  1.542511  0.064714    1.660347  \n",
       "13              0.2475   0.1620    0.375870  1.518667  0.055328    1.205678  \n",
       "12              0.4310   0.1620    0.654545  1.518667  0.055328    1.647105  \n",
       "\n",
       "[98 rows x 9 columns]"
      ]
     },
     "execution_count": 54,
     "metadata": {},
     "output_type": "execute_result"
    }
   ],
   "source": [
    "#checking for the association of items \n",
    "rules_2[rules_2.lift>=1.5]"
   ]
  },
  {
   "cell_type": "code",
   "execution_count": 55,
   "id": "f0abe84b",
   "metadata": {
    "scrolled": true
   },
   "outputs": [
    {
     "data": {
      "text/html": [
       "<div>\n",
       "<style scoped>\n",
       "    .dataframe tbody tr th:only-of-type {\n",
       "        vertical-align: middle;\n",
       "    }\n",
       "\n",
       "    .dataframe tbody tr th {\n",
       "        vertical-align: top;\n",
       "    }\n",
       "\n",
       "    .dataframe thead th {\n",
       "        text-align: right;\n",
       "    }\n",
       "</style>\n",
       "<table border=\"1\" class=\"dataframe\">\n",
       "  <thead>\n",
       "    <tr style=\"text-align: right;\">\n",
       "      <th></th>\n",
       "      <th>antecedents</th>\n",
       "      <th>consequents</th>\n",
       "      <th>antecedent support</th>\n",
       "      <th>consequent support</th>\n",
       "      <th>support</th>\n",
       "      <th>confidence</th>\n",
       "      <th>lift</th>\n",
       "      <th>leverage</th>\n",
       "      <th>conviction</th>\n",
       "    </tr>\n",
       "  </thead>\n",
       "  <tbody>\n",
       "    <tr>\n",
       "      <th>3</th>\n",
       "      <td>(CookBks)</td>\n",
       "      <td>(ChildBks)</td>\n",
       "      <td>0.431</td>\n",
       "      <td>0.423</td>\n",
       "      <td>0.256</td>\n",
       "      <td>0.593968</td>\n",
       "      <td>1.404179</td>\n",
       "      <td>0.073687</td>\n",
       "      <td>1.421069</td>\n",
       "    </tr>\n",
       "    <tr>\n",
       "      <th>2</th>\n",
       "      <td>(ChildBks)</td>\n",
       "      <td>(CookBks)</td>\n",
       "      <td>0.423</td>\n",
       "      <td>0.431</td>\n",
       "      <td>0.256</td>\n",
       "      <td>0.605201</td>\n",
       "      <td>1.404179</td>\n",
       "      <td>0.073687</td>\n",
       "      <td>1.441240</td>\n",
       "    </tr>\n",
       "  </tbody>\n",
       "</table>\n",
       "</div>"
      ],
      "text/plain": [
       "  antecedents consequents  antecedent support  consequent support  support  \\\n",
       "3   (CookBks)  (ChildBks)               0.431               0.423    0.256   \n",
       "2  (ChildBks)   (CookBks)               0.423               0.431    0.256   \n",
       "\n",
       "   confidence      lift  leverage  conviction  \n",
       "3    0.593968  1.404179  0.073687    1.421069  \n",
       "2    0.605201  1.404179  0.073687    1.441240  "
      ]
     },
     "execution_count": 55,
     "metadata": {},
     "output_type": "execute_result"
    }
   ],
   "source": [
    "#checking for the association of items \n",
    "rules_2[rules_2.lift<=1.5]"
   ]
  },
  {
   "cell_type": "code",
   "execution_count": 56,
   "id": "d3320480",
   "metadata": {},
   "outputs": [
    {
     "data": {
      "text/html": [
       "<div>\n",
       "<style scoped>\n",
       "    .dataframe tbody tr th:only-of-type {\n",
       "        vertical-align: middle;\n",
       "    }\n",
       "\n",
       "    .dataframe tbody tr th {\n",
       "        vertical-align: top;\n",
       "    }\n",
       "\n",
       "    .dataframe thead th {\n",
       "        text-align: right;\n",
       "    }\n",
       "</style>\n",
       "<table border=\"1\" class=\"dataframe\">\n",
       "  <thead>\n",
       "    <tr style=\"text-align: right;\">\n",
       "      <th></th>\n",
       "      <th>antecedents</th>\n",
       "      <th>consequents</th>\n",
       "      <th>antecedent support</th>\n",
       "      <th>consequent support</th>\n",
       "      <th>support</th>\n",
       "      <th>confidence</th>\n",
       "      <th>lift</th>\n",
       "      <th>leverage</th>\n",
       "      <th>conviction</th>\n",
       "    </tr>\n",
       "  </thead>\n",
       "  <tbody>\n",
       "    <tr>\n",
       "      <th>28</th>\n",
       "      <td>(ItalCook)</td>\n",
       "      <td>(CookBks)</td>\n",
       "      <td>0.1135</td>\n",
       "      <td>0.431</td>\n",
       "      <td>0.1135</td>\n",
       "      <td>1.000000</td>\n",
       "      <td>2.320186</td>\n",
       "      <td>0.064582</td>\n",
       "      <td>inf</td>\n",
       "    </tr>\n",
       "    <tr>\n",
       "      <th>82</th>\n",
       "      <td>(DoItYBks, ArtBks)</td>\n",
       "      <td>(CookBks)</td>\n",
       "      <td>0.1235</td>\n",
       "      <td>0.431</td>\n",
       "      <td>0.1015</td>\n",
       "      <td>0.821862</td>\n",
       "      <td>1.906873</td>\n",
       "      <td>0.048272</td>\n",
       "      <td>3.194159</td>\n",
       "    </tr>\n",
       "    <tr>\n",
       "      <th>88</th>\n",
       "      <td>(DoItYBks, GeogBks)</td>\n",
       "      <td>(CookBks)</td>\n",
       "      <td>0.1325</td>\n",
       "      <td>0.431</td>\n",
       "      <td>0.1085</td>\n",
       "      <td>0.818868</td>\n",
       "      <td>1.899926</td>\n",
       "      <td>0.051392</td>\n",
       "      <td>3.141354</td>\n",
       "    </tr>\n",
       "    <tr>\n",
       "      <th>54</th>\n",
       "      <td>(RefBks, CookBks)</td>\n",
       "      <td>(ChildBks)</td>\n",
       "      <td>0.1525</td>\n",
       "      <td>0.423</td>\n",
       "      <td>0.1225</td>\n",
       "      <td>0.803279</td>\n",
       "      <td>1.899004</td>\n",
       "      <td>0.057993</td>\n",
       "      <td>2.933083</td>\n",
       "    </tr>\n",
       "    <tr>\n",
       "      <th>78</th>\n",
       "      <td>(GeogBks, ArtBks)</td>\n",
       "      <td>(ChildBks)</td>\n",
       "      <td>0.1275</td>\n",
       "      <td>0.423</td>\n",
       "      <td>0.1020</td>\n",
       "      <td>0.800000</td>\n",
       "      <td>1.891253</td>\n",
       "      <td>0.048067</td>\n",
       "      <td>2.885000</td>\n",
       "    </tr>\n",
       "    <tr>\n",
       "      <th>94</th>\n",
       "      <td>(GeogBks, ArtBks)</td>\n",
       "      <td>(CookBks)</td>\n",
       "      <td>0.1275</td>\n",
       "      <td>0.431</td>\n",
       "      <td>0.1035</td>\n",
       "      <td>0.811765</td>\n",
       "      <td>1.883445</td>\n",
       "      <td>0.048547</td>\n",
       "      <td>3.022812</td>\n",
       "    </tr>\n",
       "    <tr>\n",
       "      <th>42</th>\n",
       "      <td>(YouthBks, CookBks)</td>\n",
       "      <td>(ChildBks)</td>\n",
       "      <td>0.1620</td>\n",
       "      <td>0.423</td>\n",
       "      <td>0.1290</td>\n",
       "      <td>0.796296</td>\n",
       "      <td>1.882497</td>\n",
       "      <td>0.060474</td>\n",
       "      <td>2.832545</td>\n",
       "    </tr>\n",
       "    <tr>\n",
       "      <th>52</th>\n",
       "      <td>(ChildBks, RefBks)</td>\n",
       "      <td>(CookBks)</td>\n",
       "      <td>0.1515</td>\n",
       "      <td>0.431</td>\n",
       "      <td>0.1225</td>\n",
       "      <td>0.808581</td>\n",
       "      <td>1.876058</td>\n",
       "      <td>0.057204</td>\n",
       "      <td>2.972534</td>\n",
       "    </tr>\n",
       "    <tr>\n",
       "      <th>72</th>\n",
       "      <td>(DoItYBks, GeogBks)</td>\n",
       "      <td>(ChildBks)</td>\n",
       "      <td>0.1325</td>\n",
       "      <td>0.423</td>\n",
       "      <td>0.1045</td>\n",
       "      <td>0.788679</td>\n",
       "      <td>1.864490</td>\n",
       "      <td>0.048452</td>\n",
       "      <td>2.730446</td>\n",
       "    </tr>\n",
       "    <tr>\n",
       "      <th>46</th>\n",
       "      <td>(ChildBks, DoItYBks)</td>\n",
       "      <td>(CookBks)</td>\n",
       "      <td>0.1840</td>\n",
       "      <td>0.431</td>\n",
       "      <td>0.1460</td>\n",
       "      <td>0.793478</td>\n",
       "      <td>1.841017</td>\n",
       "      <td>0.066696</td>\n",
       "      <td>2.755158</td>\n",
       "    </tr>\n",
       "    <tr>\n",
       "      <th>48</th>\n",
       "      <td>(DoItYBks, CookBks)</td>\n",
       "      <td>(ChildBks)</td>\n",
       "      <td>0.1875</td>\n",
       "      <td>0.423</td>\n",
       "      <td>0.1460</td>\n",
       "      <td>0.778667</td>\n",
       "      <td>1.840820</td>\n",
       "      <td>0.066687</td>\n",
       "      <td>2.606928</td>\n",
       "    </tr>\n",
       "    <tr>\n",
       "      <th>66</th>\n",
       "      <td>(GeogBks, CookBks)</td>\n",
       "      <td>(ChildBks)</td>\n",
       "      <td>0.1925</td>\n",
       "      <td>0.423</td>\n",
       "      <td>0.1495</td>\n",
       "      <td>0.776623</td>\n",
       "      <td>1.835989</td>\n",
       "      <td>0.068072</td>\n",
       "      <td>2.583081</td>\n",
       "    </tr>\n",
       "    <tr>\n",
       "      <th>40</th>\n",
       "      <td>(ChildBks, YouthBks)</td>\n",
       "      <td>(CookBks)</td>\n",
       "      <td>0.1650</td>\n",
       "      <td>0.431</td>\n",
       "      <td>0.1290</td>\n",
       "      <td>0.781818</td>\n",
       "      <td>1.813963</td>\n",
       "      <td>0.057885</td>\n",
       "      <td>2.607917</td>\n",
       "    </tr>\n",
       "    <tr>\n",
       "      <th>58</th>\n",
       "      <td>(ChildBks, ArtBks)</td>\n",
       "      <td>(CookBks)</td>\n",
       "      <td>0.1625</td>\n",
       "      <td>0.431</td>\n",
       "      <td>0.1265</td>\n",
       "      <td>0.778462</td>\n",
       "      <td>1.806175</td>\n",
       "      <td>0.056462</td>\n",
       "      <td>2.568403</td>\n",
       "    </tr>\n",
       "    <tr>\n",
       "      <th>60</th>\n",
       "      <td>(CookBks, ArtBks)</td>\n",
       "      <td>(ChildBks)</td>\n",
       "      <td>0.1670</td>\n",
       "      <td>0.423</td>\n",
       "      <td>0.1265</td>\n",
       "      <td>0.757485</td>\n",
       "      <td>1.790745</td>\n",
       "      <td>0.055859</td>\n",
       "      <td>2.379235</td>\n",
       "    </tr>\n",
       "    <tr>\n",
       "      <th>64</th>\n",
       "      <td>(ChildBks, GeogBks)</td>\n",
       "      <td>(CookBks)</td>\n",
       "      <td>0.1950</td>\n",
       "      <td>0.431</td>\n",
       "      <td>0.1495</td>\n",
       "      <td>0.766667</td>\n",
       "      <td>1.778809</td>\n",
       "      <td>0.065455</td>\n",
       "      <td>2.438571</td>\n",
       "    </tr>\n",
       "    <tr>\n",
       "      <th>11</th>\n",
       "      <td>(GeogBks)</td>\n",
       "      <td>(ChildBks)</td>\n",
       "      <td>0.2760</td>\n",
       "      <td>0.423</td>\n",
       "      <td>0.1950</td>\n",
       "      <td>0.706522</td>\n",
       "      <td>1.670264</td>\n",
       "      <td>0.078252</td>\n",
       "      <td>1.966074</td>\n",
       "    </tr>\n",
       "    <tr>\n",
       "      <th>7</th>\n",
       "      <td>(RefBks)</td>\n",
       "      <td>(ChildBks)</td>\n",
       "      <td>0.2145</td>\n",
       "      <td>0.423</td>\n",
       "      <td>0.1515</td>\n",
       "      <td>0.706294</td>\n",
       "      <td>1.669725</td>\n",
       "      <td>0.060767</td>\n",
       "      <td>1.964548</td>\n",
       "    </tr>\n",
       "    <tr>\n",
       "      <th>22</th>\n",
       "      <td>(RefBks)</td>\n",
       "      <td>(CookBks)</td>\n",
       "      <td>0.2145</td>\n",
       "      <td>0.431</td>\n",
       "      <td>0.1525</td>\n",
       "      <td>0.710956</td>\n",
       "      <td>1.649549</td>\n",
       "      <td>0.060050</td>\n",
       "      <td>1.968556</td>\n",
       "    </tr>\n",
       "  </tbody>\n",
       "</table>\n",
       "</div>"
      ],
      "text/plain": [
       "             antecedents consequents  antecedent support  consequent support  \\\n",
       "28            (ItalCook)   (CookBks)              0.1135               0.431   \n",
       "82    (DoItYBks, ArtBks)   (CookBks)              0.1235               0.431   \n",
       "88   (DoItYBks, GeogBks)   (CookBks)              0.1325               0.431   \n",
       "54     (RefBks, CookBks)  (ChildBks)              0.1525               0.423   \n",
       "78     (GeogBks, ArtBks)  (ChildBks)              0.1275               0.423   \n",
       "94     (GeogBks, ArtBks)   (CookBks)              0.1275               0.431   \n",
       "42   (YouthBks, CookBks)  (ChildBks)              0.1620               0.423   \n",
       "52    (ChildBks, RefBks)   (CookBks)              0.1515               0.431   \n",
       "72   (DoItYBks, GeogBks)  (ChildBks)              0.1325               0.423   \n",
       "46  (ChildBks, DoItYBks)   (CookBks)              0.1840               0.431   \n",
       "48   (DoItYBks, CookBks)  (ChildBks)              0.1875               0.423   \n",
       "66    (GeogBks, CookBks)  (ChildBks)              0.1925               0.423   \n",
       "40  (ChildBks, YouthBks)   (CookBks)              0.1650               0.431   \n",
       "58    (ChildBks, ArtBks)   (CookBks)              0.1625               0.431   \n",
       "60     (CookBks, ArtBks)  (ChildBks)              0.1670               0.423   \n",
       "64   (ChildBks, GeogBks)   (CookBks)              0.1950               0.431   \n",
       "11             (GeogBks)  (ChildBks)              0.2760               0.423   \n",
       "7               (RefBks)  (ChildBks)              0.2145               0.423   \n",
       "22              (RefBks)   (CookBks)              0.2145               0.431   \n",
       "\n",
       "    support  confidence      lift  leverage  conviction  \n",
       "28   0.1135    1.000000  2.320186  0.064582         inf  \n",
       "82   0.1015    0.821862  1.906873  0.048272    3.194159  \n",
       "88   0.1085    0.818868  1.899926  0.051392    3.141354  \n",
       "54   0.1225    0.803279  1.899004  0.057993    2.933083  \n",
       "78   0.1020    0.800000  1.891253  0.048067    2.885000  \n",
       "94   0.1035    0.811765  1.883445  0.048547    3.022812  \n",
       "42   0.1290    0.796296  1.882497  0.060474    2.832545  \n",
       "52   0.1225    0.808581  1.876058  0.057204    2.972534  \n",
       "72   0.1045    0.788679  1.864490  0.048452    2.730446  \n",
       "46   0.1460    0.793478  1.841017  0.066696    2.755158  \n",
       "48   0.1460    0.778667  1.840820  0.066687    2.606928  \n",
       "66   0.1495    0.776623  1.835989  0.068072    2.583081  \n",
       "40   0.1290    0.781818  1.813963  0.057885    2.607917  \n",
       "58   0.1265    0.778462  1.806175  0.056462    2.568403  \n",
       "60   0.1265    0.757485  1.790745  0.055859    2.379235  \n",
       "64   0.1495    0.766667  1.778809  0.065455    2.438571  \n",
       "11   0.1950    0.706522  1.670264  0.078252    1.966074  \n",
       "7    0.1515    0.706294  1.669725  0.060767    1.964548  \n",
       "22   0.1525    0.710956  1.649549  0.060050    1.968556  "
      ]
     },
     "execution_count": 56,
     "metadata": {},
     "output_type": "execute_result"
    }
   ],
   "source": [
    "#checking for association of items at 90% confidence\n",
    "rules_2[rules_2.confidence>=0.7]"
   ]
  },
  {
   "cell_type": "code",
   "execution_count": 107,
   "id": "fa3df14f",
   "metadata": {},
   "outputs": [
    {
     "data": {
      "image/png": "[encoded data removed]",
      "text/plain": [
       "<Figure size 1600x900 with 1 Axes>"
      ]
     },
     "metadata": {},
     "output_type": "display_data"
    }
   ],
   "source": [
    "# visualization of obtained rule 2\n",
    "plt.figure(figsize=(16,9))\n",
    "plt.scatter(rules_2['support'],rules_2['confidence'])\n",
    "plt.xlabel('support')\n",
    "plt.ylabel('confidence') \n",
    "plt.show()"
   ]
  },
  {
   "cell_type": "markdown",
   "id": "d25a7ecb",
   "metadata": {},
   "source": [
    "After observation of lift ratios and plot we observe that people who are interested in cooking books are also interested into italian cooking books,also people purchasing artbooks and child books are purchasing geography books, at 10% suport and 70% confidence we have good association with a good lift ratio,the least association we can find is with youth books and child books also doltybooks with cookbooks "
   ]
  },
  {
   "cell_type": "code",
   "execution_count": 58,
   "id": "dd83d54b",
   "metadata": {},
   "outputs": [
    {
     "data": {
      "text/html": [
       "<div>\n",
       "<style scoped>\n",
       "    .dataframe tbody tr th:only-of-type {\n",
       "        vertical-align: middle;\n",
       "    }\n",
       "\n",
       "    .dataframe tbody tr th {\n",
       "        vertical-align: top;\n",
       "    }\n",
       "\n",
       "    .dataframe thead th {\n",
       "        text-align: right;\n",
       "    }\n",
       "</style>\n",
       "<table border=\"1\" class=\"dataframe\">\n",
       "  <thead>\n",
       "    <tr style=\"text-align: right;\">\n",
       "      <th></th>\n",
       "      <th>support</th>\n",
       "      <th>itemsets</th>\n",
       "    </tr>\n",
       "  </thead>\n",
       "  <tbody>\n",
       "    <tr>\n",
       "      <th>0</th>\n",
       "      <td>0.4230</td>\n",
       "      <td>(ChildBks)</td>\n",
       "    </tr>\n",
       "    <tr>\n",
       "      <th>1</th>\n",
       "      <td>0.2475</td>\n",
       "      <td>(YouthBks)</td>\n",
       "    </tr>\n",
       "    <tr>\n",
       "      <th>2</th>\n",
       "      <td>0.4310</td>\n",
       "      <td>(CookBks)</td>\n",
       "    </tr>\n",
       "    <tr>\n",
       "      <th>3</th>\n",
       "      <td>0.2820</td>\n",
       "      <td>(DoItYBks)</td>\n",
       "    </tr>\n",
       "    <tr>\n",
       "      <th>4</th>\n",
       "      <td>0.2145</td>\n",
       "      <td>(RefBks)</td>\n",
       "    </tr>\n",
       "    <tr>\n",
       "      <th>...</th>\n",
       "      <td>...</td>\n",
       "      <td>...</td>\n",
       "    </tr>\n",
       "    <tr>\n",
       "      <th>95</th>\n",
       "      <td>0.0600</td>\n",
       "      <td>(YouthBks, DoItYBks, GeogBks, CookBks)</td>\n",
       "    </tr>\n",
       "    <tr>\n",
       "      <th>96</th>\n",
       "      <td>0.0560</td>\n",
       "      <td>(YouthBks, GeogBks, ArtBks, CookBks)</td>\n",
       "    </tr>\n",
       "    <tr>\n",
       "      <th>97</th>\n",
       "      <td>0.0650</td>\n",
       "      <td>(GeogBks, DoItYBks, ArtBks, CookBks)</td>\n",
       "    </tr>\n",
       "    <tr>\n",
       "      <th>98</th>\n",
       "      <td>0.0510</td>\n",
       "      <td>(GeogBks, DoItYBks, ChildBks, YouthBks, CookBks)</td>\n",
       "    </tr>\n",
       "    <tr>\n",
       "      <th>99</th>\n",
       "      <td>0.0535</td>\n",
       "      <td>(ArtBks, GeogBks, DoItYBks, ChildBks, CookBks)</td>\n",
       "    </tr>\n",
       "  </tbody>\n",
       "</table>\n",
       "<p>100 rows × 2 columns</p>\n",
       "</div>"
      ],
      "text/plain": [
       "    support                                          itemsets\n",
       "0    0.4230                                        (ChildBks)\n",
       "1    0.2475                                        (YouthBks)\n",
       "2    0.4310                                         (CookBks)\n",
       "3    0.2820                                        (DoItYBks)\n",
       "4    0.2145                                          (RefBks)\n",
       "..      ...                                               ...\n",
       "95   0.0600            (YouthBks, DoItYBks, GeogBks, CookBks)\n",
       "96   0.0560              (YouthBks, GeogBks, ArtBks, CookBks)\n",
       "97   0.0650              (GeogBks, DoItYBks, ArtBks, CookBks)\n",
       "98   0.0510  (GeogBks, DoItYBks, ChildBks, YouthBks, CookBks)\n",
       "99   0.0535    (ArtBks, GeogBks, DoItYBks, ChildBks, CookBks)\n",
       "\n",
       "[100 rows x 2 columns]"
      ]
     },
     "execution_count": 58,
     "metadata": {},
     "output_type": "execute_result"
    }
   ],
   "source": [
    "#fitting our support at 5% support and 90% confidence\n",
    "freq_books_3 = apriori(df,min_support=0.05,use_colnames=True)\n",
    "freq_books_3"
   ]
  },
  {
   "cell_type": "code",
   "execution_count": 59,
   "id": "9c03a348",
   "metadata": {},
   "outputs": [
    {
     "data": {
      "text/html": [
       "<div>\n",
       "<style scoped>\n",
       "    .dataframe tbody tr th:only-of-type {\n",
       "        vertical-align: middle;\n",
       "    }\n",
       "\n",
       "    .dataframe tbody tr th {\n",
       "        vertical-align: top;\n",
       "    }\n",
       "\n",
       "    .dataframe thead th {\n",
       "        text-align: right;\n",
       "    }\n",
       "</style>\n",
       "<table border=\"1\" class=\"dataframe\">\n",
       "  <thead>\n",
       "    <tr style=\"text-align: right;\">\n",
       "      <th></th>\n",
       "      <th>antecedents</th>\n",
       "      <th>consequents</th>\n",
       "      <th>antecedent support</th>\n",
       "      <th>consequent support</th>\n",
       "      <th>support</th>\n",
       "      <th>confidence</th>\n",
       "      <th>lift</th>\n",
       "      <th>leverage</th>\n",
       "      <th>conviction</th>\n",
       "    </tr>\n",
       "  </thead>\n",
       "  <tbody>\n",
       "    <tr>\n",
       "      <th>184</th>\n",
       "      <td>(ItalCook)</td>\n",
       "      <td>(YouthBks, CookBks)</td>\n",
       "      <td>0.1135</td>\n",
       "      <td>0.1620</td>\n",
       "      <td>0.0590</td>\n",
       "      <td>0.519824</td>\n",
       "      <td>3.208789</td>\n",
       "      <td>0.040613</td>\n",
       "      <td>1.745193</td>\n",
       "    </tr>\n",
       "    <tr>\n",
       "      <th>181</th>\n",
       "      <td>(YouthBks, CookBks)</td>\n",
       "      <td>(ItalCook)</td>\n",
       "      <td>0.1620</td>\n",
       "      <td>0.1135</td>\n",
       "      <td>0.0590</td>\n",
       "      <td>0.364198</td>\n",
       "      <td>3.208789</td>\n",
       "      <td>0.040613</td>\n",
       "      <td>1.394301</td>\n",
       "    </tr>\n",
       "    <tr>\n",
       "      <th>508</th>\n",
       "      <td>(ChildBks, ItalCook)</td>\n",
       "      <td>(GeogBks, CookBks)</td>\n",
       "      <td>0.0850</td>\n",
       "      <td>0.1925</td>\n",
       "      <td>0.0525</td>\n",
       "      <td>0.617647</td>\n",
       "      <td>3.208556</td>\n",
       "      <td>0.036137</td>\n",
       "      <td>2.111923</td>\n",
       "    </tr>\n",
       "    <tr>\n",
       "      <th>513</th>\n",
       "      <td>(GeogBks, CookBks)</td>\n",
       "      <td>(ChildBks, ItalCook)</td>\n",
       "      <td>0.1925</td>\n",
       "      <td>0.0850</td>\n",
       "      <td>0.0525</td>\n",
       "      <td>0.272727</td>\n",
       "      <td>3.208556</td>\n",
       "      <td>0.036137</td>\n",
       "      <td>1.258125</td>\n",
       "    </tr>\n",
       "    <tr>\n",
       "      <th>511</th>\n",
       "      <td>(GeogBks, ItalCook)</td>\n",
       "      <td>(ChildBks, CookBks)</td>\n",
       "      <td>0.0640</td>\n",
       "      <td>0.2560</td>\n",
       "      <td>0.0525</td>\n",
       "      <td>0.820312</td>\n",
       "      <td>3.204346</td>\n",
       "      <td>0.036116</td>\n",
       "      <td>4.140522</td>\n",
       "    </tr>\n",
       "    <tr>\n",
       "      <th>...</th>\n",
       "      <td>...</td>\n",
       "      <td>...</td>\n",
       "      <td>...</td>\n",
       "      <td>...</td>\n",
       "      <td>...</td>\n",
       "      <td>...</td>\n",
       "      <td>...</td>\n",
       "      <td>...</td>\n",
       "      <td>...</td>\n",
       "    </tr>\n",
       "    <tr>\n",
       "      <th>5</th>\n",
       "      <td>(DoItYBks)</td>\n",
       "      <td>(ChildBks)</td>\n",
       "      <td>0.2820</td>\n",
       "      <td>0.4230</td>\n",
       "      <td>0.1840</td>\n",
       "      <td>0.652482</td>\n",
       "      <td>1.542511</td>\n",
       "      <td>0.064714</td>\n",
       "      <td>1.660347</td>\n",
       "    </tr>\n",
       "    <tr>\n",
       "      <th>15</th>\n",
       "      <td>(CookBks)</td>\n",
       "      <td>(YouthBks)</td>\n",
       "      <td>0.4310</td>\n",
       "      <td>0.2475</td>\n",
       "      <td>0.1620</td>\n",
       "      <td>0.375870</td>\n",
       "      <td>1.518667</td>\n",
       "      <td>0.055328</td>\n",
       "      <td>1.205678</td>\n",
       "    </tr>\n",
       "    <tr>\n",
       "      <th>14</th>\n",
       "      <td>(YouthBks)</td>\n",
       "      <td>(CookBks)</td>\n",
       "      <td>0.2475</td>\n",
       "      <td>0.4310</td>\n",
       "      <td>0.1620</td>\n",
       "      <td>0.654545</td>\n",
       "      <td>1.518667</td>\n",
       "      <td>0.055328</td>\n",
       "      <td>1.647105</td>\n",
       "    </tr>\n",
       "    <tr>\n",
       "      <th>3</th>\n",
       "      <td>(CookBks)</td>\n",
       "      <td>(ChildBks)</td>\n",
       "      <td>0.4310</td>\n",
       "      <td>0.4230</td>\n",
       "      <td>0.2560</td>\n",
       "      <td>0.593968</td>\n",
       "      <td>1.404179</td>\n",
       "      <td>0.073687</td>\n",
       "      <td>1.421069</td>\n",
       "    </tr>\n",
       "    <tr>\n",
       "      <th>2</th>\n",
       "      <td>(ChildBks)</td>\n",
       "      <td>(CookBks)</td>\n",
       "      <td>0.4230</td>\n",
       "      <td>0.4310</td>\n",
       "      <td>0.2560</td>\n",
       "      <td>0.605201</td>\n",
       "      <td>1.404179</td>\n",
       "      <td>0.073687</td>\n",
       "      <td>1.441240</td>\n",
       "    </tr>\n",
       "  </tbody>\n",
       "</table>\n",
       "<p>662 rows × 9 columns</p>\n",
       "</div>"
      ],
      "text/plain": [
       "              antecedents           consequents  antecedent support  \\\n",
       "184            (ItalCook)   (YouthBks, CookBks)              0.1135   \n",
       "181   (YouthBks, CookBks)            (ItalCook)              0.1620   \n",
       "508  (ChildBks, ItalCook)    (GeogBks, CookBks)              0.0850   \n",
       "513    (GeogBks, CookBks)  (ChildBks, ItalCook)              0.1925   \n",
       "511   (GeogBks, ItalCook)   (ChildBks, CookBks)              0.0640   \n",
       "..                    ...                   ...                 ...   \n",
       "5              (DoItYBks)            (ChildBks)              0.2820   \n",
       "15              (CookBks)            (YouthBks)              0.4310   \n",
       "14             (YouthBks)             (CookBks)              0.2475   \n",
       "3               (CookBks)            (ChildBks)              0.4310   \n",
       "2              (ChildBks)             (CookBks)              0.4230   \n",
       "\n",
       "     consequent support  support  confidence      lift  leverage  conviction  \n",
       "184              0.1620   0.0590    0.519824  3.208789  0.040613    1.745193  \n",
       "181              0.1135   0.0590    0.364198  3.208789  0.040613    1.394301  \n",
       "508              0.1925   0.0525    0.617647  3.208556  0.036137    2.111923  \n",
       "513              0.0850   0.0525    0.272727  3.208556  0.036137    1.258125  \n",
       "511              0.2560   0.0525    0.820312  3.204346  0.036116    4.140522  \n",
       "..                  ...      ...         ...       ...       ...         ...  \n",
       "5                0.4230   0.1840    0.652482  1.542511  0.064714    1.660347  \n",
       "15               0.2475   0.1620    0.375870  1.518667  0.055328    1.205678  \n",
       "14               0.4310   0.1620    0.654545  1.518667  0.055328    1.647105  \n",
       "3                0.4230   0.2560    0.593968  1.404179  0.073687    1.421069  \n",
       "2                0.4310   0.2560    0.605201  1.404179  0.073687    1.441240  \n",
       "\n",
       "[662 rows x 9 columns]"
      ]
     },
     "execution_count": 59,
     "metadata": {},
     "output_type": "execute_result"
    }
   ],
   "source": [
    "#fitting our association rule with confidence 90%\n",
    "rules_3 = association_rules(freq_books_3,metric='lift',min_threshold=0.9)\n",
    "rules_3.sort_values('lift',ascending=False,inplace=True)\n",
    "rules_3"
   ]
  },
  {
   "cell_type": "code",
   "execution_count": 60,
   "id": "5ded8a9f",
   "metadata": {},
   "outputs": [
    {
     "data": {
      "text/html": [
       "<div>\n",
       "<style scoped>\n",
       "    .dataframe tbody tr th:only-of-type {\n",
       "        vertical-align: middle;\n",
       "    }\n",
       "\n",
       "    .dataframe tbody tr th {\n",
       "        vertical-align: top;\n",
       "    }\n",
       "\n",
       "    .dataframe thead th {\n",
       "        text-align: right;\n",
       "    }\n",
       "</style>\n",
       "<table border=\"1\" class=\"dataframe\">\n",
       "  <thead>\n",
       "    <tr style=\"text-align: right;\">\n",
       "      <th></th>\n",
       "      <th>antecedents</th>\n",
       "      <th>consequents</th>\n",
       "      <th>antecedent support</th>\n",
       "      <th>consequent support</th>\n",
       "      <th>support</th>\n",
       "      <th>confidence</th>\n",
       "      <th>lift</th>\n",
       "      <th>leverage</th>\n",
       "      <th>conviction</th>\n",
       "    </tr>\n",
       "  </thead>\n",
       "  <tbody>\n",
       "    <tr>\n",
       "      <th>184</th>\n",
       "      <td>(ItalCook)</td>\n",
       "      <td>(YouthBks, CookBks)</td>\n",
       "      <td>0.1135</td>\n",
       "      <td>0.1620</td>\n",
       "      <td>0.0590</td>\n",
       "      <td>0.519824</td>\n",
       "      <td>3.208789</td>\n",
       "      <td>0.040613</td>\n",
       "      <td>1.745193</td>\n",
       "    </tr>\n",
       "    <tr>\n",
       "      <th>181</th>\n",
       "      <td>(YouthBks, CookBks)</td>\n",
       "      <td>(ItalCook)</td>\n",
       "      <td>0.1620</td>\n",
       "      <td>0.1135</td>\n",
       "      <td>0.0590</td>\n",
       "      <td>0.364198</td>\n",
       "      <td>3.208789</td>\n",
       "      <td>0.040613</td>\n",
       "      <td>1.394301</td>\n",
       "    </tr>\n",
       "    <tr>\n",
       "      <th>508</th>\n",
       "      <td>(ChildBks, ItalCook)</td>\n",
       "      <td>(GeogBks, CookBks)</td>\n",
       "      <td>0.0850</td>\n",
       "      <td>0.1925</td>\n",
       "      <td>0.0525</td>\n",
       "      <td>0.617647</td>\n",
       "      <td>3.208556</td>\n",
       "      <td>0.036137</td>\n",
       "      <td>2.111923</td>\n",
       "    </tr>\n",
       "    <tr>\n",
       "      <th>513</th>\n",
       "      <td>(GeogBks, CookBks)</td>\n",
       "      <td>(ChildBks, ItalCook)</td>\n",
       "      <td>0.1925</td>\n",
       "      <td>0.0850</td>\n",
       "      <td>0.0525</td>\n",
       "      <td>0.272727</td>\n",
       "      <td>3.208556</td>\n",
       "      <td>0.036137</td>\n",
       "      <td>1.258125</td>\n",
       "    </tr>\n",
       "    <tr>\n",
       "      <th>511</th>\n",
       "      <td>(GeogBks, ItalCook)</td>\n",
       "      <td>(ChildBks, CookBks)</td>\n",
       "      <td>0.0640</td>\n",
       "      <td>0.2560</td>\n",
       "      <td>0.0525</td>\n",
       "      <td>0.820312</td>\n",
       "      <td>3.204346</td>\n",
       "      <td>0.036116</td>\n",
       "      <td>4.140522</td>\n",
       "    </tr>\n",
       "    <tr>\n",
       "      <th>...</th>\n",
       "      <td>...</td>\n",
       "      <td>...</td>\n",
       "      <td>...</td>\n",
       "      <td>...</td>\n",
       "      <td>...</td>\n",
       "      <td>...</td>\n",
       "      <td>...</td>\n",
       "      <td>...</td>\n",
       "      <td>...</td>\n",
       "    </tr>\n",
       "    <tr>\n",
       "      <th>26</th>\n",
       "      <td>(DoItYBks)</td>\n",
       "      <td>(CookBks)</td>\n",
       "      <td>0.2820</td>\n",
       "      <td>0.4310</td>\n",
       "      <td>0.1875</td>\n",
       "      <td>0.664894</td>\n",
       "      <td>1.542677</td>\n",
       "      <td>0.065958</td>\n",
       "      <td>1.697968</td>\n",
       "    </tr>\n",
       "    <tr>\n",
       "      <th>4</th>\n",
       "      <td>(ChildBks)</td>\n",
       "      <td>(DoItYBks)</td>\n",
       "      <td>0.4230</td>\n",
       "      <td>0.2820</td>\n",
       "      <td>0.1840</td>\n",
       "      <td>0.434988</td>\n",
       "      <td>1.542511</td>\n",
       "      <td>0.064714</td>\n",
       "      <td>1.270770</td>\n",
       "    </tr>\n",
       "    <tr>\n",
       "      <th>5</th>\n",
       "      <td>(DoItYBks)</td>\n",
       "      <td>(ChildBks)</td>\n",
       "      <td>0.2820</td>\n",
       "      <td>0.4230</td>\n",
       "      <td>0.1840</td>\n",
       "      <td>0.652482</td>\n",
       "      <td>1.542511</td>\n",
       "      <td>0.064714</td>\n",
       "      <td>1.660347</td>\n",
       "    </tr>\n",
       "    <tr>\n",
       "      <th>15</th>\n",
       "      <td>(CookBks)</td>\n",
       "      <td>(YouthBks)</td>\n",
       "      <td>0.4310</td>\n",
       "      <td>0.2475</td>\n",
       "      <td>0.1620</td>\n",
       "      <td>0.375870</td>\n",
       "      <td>1.518667</td>\n",
       "      <td>0.055328</td>\n",
       "      <td>1.205678</td>\n",
       "    </tr>\n",
       "    <tr>\n",
       "      <th>14</th>\n",
       "      <td>(YouthBks)</td>\n",
       "      <td>(CookBks)</td>\n",
       "      <td>0.2475</td>\n",
       "      <td>0.4310</td>\n",
       "      <td>0.1620</td>\n",
       "      <td>0.654545</td>\n",
       "      <td>1.518667</td>\n",
       "      <td>0.055328</td>\n",
       "      <td>1.647105</td>\n",
       "    </tr>\n",
       "  </tbody>\n",
       "</table>\n",
       "<p>660 rows × 9 columns</p>\n",
       "</div>"
      ],
      "text/plain": [
       "              antecedents           consequents  antecedent support  \\\n",
       "184            (ItalCook)   (YouthBks, CookBks)              0.1135   \n",
       "181   (YouthBks, CookBks)            (ItalCook)              0.1620   \n",
       "508  (ChildBks, ItalCook)    (GeogBks, CookBks)              0.0850   \n",
       "513    (GeogBks, CookBks)  (ChildBks, ItalCook)              0.1925   \n",
       "511   (GeogBks, ItalCook)   (ChildBks, CookBks)              0.0640   \n",
       "..                    ...                   ...                 ...   \n",
       "26             (DoItYBks)             (CookBks)              0.2820   \n",
       "4              (ChildBks)            (DoItYBks)              0.4230   \n",
       "5              (DoItYBks)            (ChildBks)              0.2820   \n",
       "15              (CookBks)            (YouthBks)              0.4310   \n",
       "14             (YouthBks)             (CookBks)              0.2475   \n",
       "\n",
       "     consequent support  support  confidence      lift  leverage  conviction  \n",
       "184              0.1620   0.0590    0.519824  3.208789  0.040613    1.745193  \n",
       "181              0.1135   0.0590    0.364198  3.208789  0.040613    1.394301  \n",
       "508              0.1925   0.0525    0.617647  3.208556  0.036137    2.111923  \n",
       "513              0.0850   0.0525    0.272727  3.208556  0.036137    1.258125  \n",
       "511              0.2560   0.0525    0.820312  3.204346  0.036116    4.140522  \n",
       "..                  ...      ...         ...       ...       ...         ...  \n",
       "26               0.4310   0.1875    0.664894  1.542677  0.065958    1.697968  \n",
       "4                0.2820   0.1840    0.434988  1.542511  0.064714    1.270770  \n",
       "5                0.4230   0.1840    0.652482  1.542511  0.064714    1.660347  \n",
       "15               0.2475   0.1620    0.375870  1.518667  0.055328    1.205678  \n",
       "14               0.4310   0.1620    0.654545  1.518667  0.055328    1.647105  \n",
       "\n",
       "[660 rows x 9 columns]"
      ]
     },
     "execution_count": 60,
     "metadata": {},
     "output_type": "execute_result"
    }
   ],
   "source": [
    "rules_3[rules_3.lift>=1.5]"
   ]
  },
  {
   "cell_type": "code",
   "execution_count": 61,
   "id": "ca8fbbca",
   "metadata": {},
   "outputs": [
    {
     "data": {
      "text/html": [
       "<div>\n",
       "<style scoped>\n",
       "    .dataframe tbody tr th:only-of-type {\n",
       "        vertical-align: middle;\n",
       "    }\n",
       "\n",
       "    .dataframe tbody tr th {\n",
       "        vertical-align: top;\n",
       "    }\n",
       "\n",
       "    .dataframe thead th {\n",
       "        text-align: right;\n",
       "    }\n",
       "</style>\n",
       "<table border=\"1\" class=\"dataframe\">\n",
       "  <thead>\n",
       "    <tr style=\"text-align: right;\">\n",
       "      <th></th>\n",
       "      <th>antecedents</th>\n",
       "      <th>consequents</th>\n",
       "      <th>antecedent support</th>\n",
       "      <th>consequent support</th>\n",
       "      <th>support</th>\n",
       "      <th>confidence</th>\n",
       "      <th>lift</th>\n",
       "      <th>leverage</th>\n",
       "      <th>conviction</th>\n",
       "    </tr>\n",
       "  </thead>\n",
       "  <tbody>\n",
       "    <tr>\n",
       "      <th>3</th>\n",
       "      <td>(CookBks)</td>\n",
       "      <td>(ChildBks)</td>\n",
       "      <td>0.431</td>\n",
       "      <td>0.423</td>\n",
       "      <td>0.256</td>\n",
       "      <td>0.593968</td>\n",
       "      <td>1.404179</td>\n",
       "      <td>0.073687</td>\n",
       "      <td>1.421069</td>\n",
       "    </tr>\n",
       "    <tr>\n",
       "      <th>2</th>\n",
       "      <td>(ChildBks)</td>\n",
       "      <td>(CookBks)</td>\n",
       "      <td>0.423</td>\n",
       "      <td>0.431</td>\n",
       "      <td>0.256</td>\n",
       "      <td>0.605201</td>\n",
       "      <td>1.404179</td>\n",
       "      <td>0.073687</td>\n",
       "      <td>1.441240</td>\n",
       "    </tr>\n",
       "  </tbody>\n",
       "</table>\n",
       "</div>"
      ],
      "text/plain": [
       "  antecedents consequents  antecedent support  consequent support  support  \\\n",
       "3   (CookBks)  (ChildBks)               0.431               0.423    0.256   \n",
       "2  (ChildBks)   (CookBks)               0.423               0.431    0.256   \n",
       "\n",
       "   confidence      lift  leverage  conviction  \n",
       "3    0.593968  1.404179  0.073687    1.421069  \n",
       "2    0.605201  1.404179  0.073687    1.441240  "
      ]
     },
     "execution_count": 61,
     "metadata": {},
     "output_type": "execute_result"
    }
   ],
   "source": [
    "rules_3[rules_3.lift<=1.5]"
   ]
  },
  {
   "cell_type": "code",
   "execution_count": 62,
   "id": "c5a5e201",
   "metadata": {
    "scrolled": false
   },
   "outputs": [
    {
     "data": {
      "text/html": [
       "<div>\n",
       "<style scoped>\n",
       "    .dataframe tbody tr th:only-of-type {\n",
       "        vertical-align: middle;\n",
       "    }\n",
       "\n",
       "    .dataframe tbody tr th {\n",
       "        vertical-align: top;\n",
       "    }\n",
       "\n",
       "    .dataframe thead th {\n",
       "        text-align: right;\n",
       "    }\n",
       "</style>\n",
       "<table border=\"1\" class=\"dataframe\">\n",
       "  <thead>\n",
       "    <tr style=\"text-align: right;\">\n",
       "      <th></th>\n",
       "      <th>antecedents</th>\n",
       "      <th>consequents</th>\n",
       "      <th>antecedent support</th>\n",
       "      <th>consequent support</th>\n",
       "      <th>support</th>\n",
       "      <th>confidence</th>\n",
       "      <th>lift</th>\n",
       "      <th>leverage</th>\n",
       "      <th>conviction</th>\n",
       "    </tr>\n",
       "  </thead>\n",
       "  <tbody>\n",
       "    <tr>\n",
       "      <th>34</th>\n",
       "      <td>(ItalCook)</td>\n",
       "      <td>(CookBks)</td>\n",
       "      <td>0.1135</td>\n",
       "      <td>0.431</td>\n",
       "      <td>0.1135</td>\n",
       "      <td>1.000000</td>\n",
       "      <td>2.320186</td>\n",
       "      <td>0.064582</td>\n",
       "      <td>inf</td>\n",
       "    </tr>\n",
       "    <tr>\n",
       "      <th>264</th>\n",
       "      <td>(GeogBks, ItalCook)</td>\n",
       "      <td>(CookBks)</td>\n",
       "      <td>0.0640</td>\n",
       "      <td>0.431</td>\n",
       "      <td>0.0640</td>\n",
       "      <td>1.000000</td>\n",
       "      <td>2.320186</td>\n",
       "      <td>0.036416</td>\n",
       "      <td>inf</td>\n",
       "    </tr>\n",
       "    <tr>\n",
       "      <th>258</th>\n",
       "      <td>(ArtBks, ItalCook)</td>\n",
       "      <td>(CookBks)</td>\n",
       "      <td>0.0565</td>\n",
       "      <td>0.431</td>\n",
       "      <td>0.0565</td>\n",
       "      <td>1.000000</td>\n",
       "      <td>2.320186</td>\n",
       "      <td>0.032148</td>\n",
       "      <td>inf</td>\n",
       "    </tr>\n",
       "    <tr>\n",
       "      <th>108</th>\n",
       "      <td>(ChildBks, ItalCook)</td>\n",
       "      <td>(CookBks)</td>\n",
       "      <td>0.0850</td>\n",
       "      <td>0.431</td>\n",
       "      <td>0.0850</td>\n",
       "      <td>1.000000</td>\n",
       "      <td>2.320186</td>\n",
       "      <td>0.048365</td>\n",
       "      <td>inf</td>\n",
       "    </tr>\n",
       "    <tr>\n",
       "      <th>504</th>\n",
       "      <td>(ChildBks, GeogBks, ItalCook)</td>\n",
       "      <td>(CookBks)</td>\n",
       "      <td>0.0525</td>\n",
       "      <td>0.431</td>\n",
       "      <td>0.0525</td>\n",
       "      <td>1.000000</td>\n",
       "      <td>2.320186</td>\n",
       "      <td>0.029872</td>\n",
       "      <td>inf</td>\n",
       "    </tr>\n",
       "    <tr>\n",
       "      <th>234</th>\n",
       "      <td>(DoItYBks, ItalCook)</td>\n",
       "      <td>(CookBks)</td>\n",
       "      <td>0.0585</td>\n",
       "      <td>0.431</td>\n",
       "      <td>0.0585</td>\n",
       "      <td>1.000000</td>\n",
       "      <td>2.320186</td>\n",
       "      <td>0.033287</td>\n",
       "      <td>inf</td>\n",
       "    </tr>\n",
       "    <tr>\n",
       "      <th>180</th>\n",
       "      <td>(YouthBks, ItalCook)</td>\n",
       "      <td>(CookBks)</td>\n",
       "      <td>0.0590</td>\n",
       "      <td>0.431</td>\n",
       "      <td>0.0590</td>\n",
       "      <td>1.000000</td>\n",
       "      <td>2.320186</td>\n",
       "      <td>0.033571</td>\n",
       "      <td>inf</td>\n",
       "    </tr>\n",
       "    <tr>\n",
       "      <th>353</th>\n",
       "      <td>(YouthBks, RefBks, DoItYBks)</td>\n",
       "      <td>(ChildBks)</td>\n",
       "      <td>0.0580</td>\n",
       "      <td>0.423</td>\n",
       "      <td>0.0530</td>\n",
       "      <td>0.913793</td>\n",
       "      <td>2.160267</td>\n",
       "      <td>0.028466</td>\n",
       "      <td>6.693200</td>\n",
       "    </tr>\n",
       "    <tr>\n",
       "      <th>395</th>\n",
       "      <td>(YouthBks, RefBks, GeogBks)</td>\n",
       "      <td>(ChildBks)</td>\n",
       "      <td>0.0570</td>\n",
       "      <td>0.423</td>\n",
       "      <td>0.0515</td>\n",
       "      <td>0.903509</td>\n",
       "      <td>2.135955</td>\n",
       "      <td>0.027389</td>\n",
       "      <td>5.979818</td>\n",
       "    </tr>\n",
       "    <tr>\n",
       "      <th>602</th>\n",
       "      <td>(ChildBks, YouthBks, DoItYBks, GeogBks)</td>\n",
       "      <td>(CookBks)</td>\n",
       "      <td>0.0565</td>\n",
       "      <td>0.431</td>\n",
       "      <td>0.0510</td>\n",
       "      <td>0.902655</td>\n",
       "      <td>2.094327</td>\n",
       "      <td>0.026648</td>\n",
       "      <td>5.845182</td>\n",
       "    </tr>\n",
       "  </tbody>\n",
       "</table>\n",
       "</div>"
      ],
      "text/plain": [
       "                                 antecedents consequents  antecedent support  \\\n",
       "34                                (ItalCook)   (CookBks)              0.1135   \n",
       "264                      (GeogBks, ItalCook)   (CookBks)              0.0640   \n",
       "258                       (ArtBks, ItalCook)   (CookBks)              0.0565   \n",
       "108                     (ChildBks, ItalCook)   (CookBks)              0.0850   \n",
       "504            (ChildBks, GeogBks, ItalCook)   (CookBks)              0.0525   \n",
       "234                     (DoItYBks, ItalCook)   (CookBks)              0.0585   \n",
       "180                     (YouthBks, ItalCook)   (CookBks)              0.0590   \n",
       "353             (YouthBks, RefBks, DoItYBks)  (ChildBks)              0.0580   \n",
       "395              (YouthBks, RefBks, GeogBks)  (ChildBks)              0.0570   \n",
       "602  (ChildBks, YouthBks, DoItYBks, GeogBks)   (CookBks)              0.0565   \n",
       "\n",
       "     consequent support  support  confidence      lift  leverage  conviction  \n",
       "34                0.431   0.1135    1.000000  2.320186  0.064582         inf  \n",
       "264               0.431   0.0640    1.000000  2.320186  0.036416         inf  \n",
       "258               0.431   0.0565    1.000000  2.320186  0.032148         inf  \n",
       "108               0.431   0.0850    1.000000  2.320186  0.048365         inf  \n",
       "504               0.431   0.0525    1.000000  2.320186  0.029872         inf  \n",
       "234               0.431   0.0585    1.000000  2.320186  0.033287         inf  \n",
       "180               0.431   0.0590    1.000000  2.320186  0.033571         inf  \n",
       "353               0.423   0.0530    0.913793  2.160267  0.028466    6.693200  \n",
       "395               0.423   0.0515    0.903509  2.135955  0.027389    5.979818  \n",
       "602               0.431   0.0510    0.902655  2.094327  0.026648    5.845182  "
      ]
     },
     "execution_count": 62,
     "metadata": {},
     "output_type": "execute_result"
    }
   ],
   "source": [
    "#checking for association of items at 90% confidence\n",
    "rules_3[rules_3.confidence>=0.9]"
   ]
  },
  {
   "cell_type": "code",
   "execution_count": 108,
   "id": "60dc24e4",
   "metadata": {},
   "outputs": [
    {
     "data": {
      "image/png": "[encoded data removed]",
      "text/plain": [
       "<Figure size 1600x900 with 1 Axes>"
      ]
     },
     "metadata": {},
     "output_type": "display_data"
    }
   ],
   "source": [
    "# visualization of obtained rule 3\n",
    "plt.figure(figsize=(16,9))\n",
    "plt.scatter(rules_3['support'],rules_3['confidence'])\n",
    "plt.xlabel('support')\n",
    "plt.ylabel('confidence') \n",
    "plt.show()"
   ]
  },
  {
   "cell_type": "markdown",
   "id": "ea07cdb8",
   "metadata": {},
   "source": [
    "With 5% support and 90% confidence we observe that people that are interested in italian cooking and childbooks are also interested in cooking books and people who are purchasing cooking books are also interested in geography,dolty and youth books "
   ]
  },
  {
   "cell_type": "code",
   "execution_count": 75,
   "id": "bce1763c",
   "metadata": {},
   "outputs": [
    {
     "data": {
      "image/png": "[encoded data removed]",
      "text/plain": [
       "<Figure size 1000x1000 with 1 Axes>"
      ]
     },
     "metadata": {},
     "output_type": "display_data"
    }
   ],
   "source": [
    "#wordcloud to just see the most frequent types of books \n",
    "plt.rcParams['figure.figsize'] = (10, 10)\n",
    "wordcloud = WordCloud(background_color = '#172026',colormap='RdBu_r' ,width = 800,  height = 800, max_words = 121).generate(str(df.sum()))\n",
    "plt.imshow(wordcloud)\n",
    "plt.axis('off')\n",
    "plt.title('Items',fontsize = 20)\n",
    "plt.show()"
   ]
  },
  {
   "cell_type": "markdown",
   "id": "944752f9",
   "metadata": {},
   "source": [
    "## Clustering for customers vision"
   ]
  },
  {
   "cell_type": "markdown",
   "id": "2aed8443",
   "metadata": {},
   "source": [
    "KMeans"
   ]
  },
  {
   "cell_type": "code",
   "execution_count": 65,
   "id": "8a5a9256",
   "metadata": {},
   "outputs": [],
   "source": [
    "#elbow method for determining the K value \n",
    "wcss = []\n",
    "for i in range(1,10):\n",
    "    kmeans = KMeans(n_clusters = i,random_state = 0)\n",
    "    kmeans.fit(df)\n",
    "    wcss.append(kmeans.inertia_)"
   ]
  },
  {
   "cell_type": "code",
   "execution_count": 66,
   "id": "702e0649",
   "metadata": {},
   "outputs": [
    {
     "data": {
      "image/png": "[encoded data removed]",
      "text/plain": [
       "<Figure size 1000x1000 with 1 Axes>"
      ]
     },
     "metadata": {},
     "output_type": "display_data"
    }
   ],
   "source": [
    "#plotting the slbow graph \n",
    "plt.plot(range(1,10),wcss)\n",
    "plt.title('elbow method')\n",
    "plt.xlabel('number of clusters')\n",
    "plt.ylabel('wcss')\n",
    "plt.show()"
   ]
  },
  {
   "cell_type": "code",
   "execution_count": 67,
   "id": "6925af21",
   "metadata": {},
   "outputs": [
    {
     "data": {
      "text/plain": [
       "KMeans(n_clusters=3, random_state=100)"
      ]
     },
     "execution_count": 67,
     "metadata": {},
     "output_type": "execute_result"
    }
   ],
   "source": [
    "clusters_new = KMeans(3, random_state= 100)\n",
    "clusters_new.fit(df)"
   ]
  },
  {
   "cell_type": "code",
   "execution_count": 68,
   "id": "d3a4df31",
   "metadata": {},
   "outputs": [
    {
     "data": {
      "text/plain": [
       "array([1, 1, 1, ..., 1, 2, 1])"
      ]
     },
     "execution_count": 68,
     "metadata": {},
     "output_type": "execute_result"
    }
   ],
   "source": [
    "clusters_new.labels_"
   ]
  },
  {
   "cell_type": "code",
   "execution_count": 69,
   "id": "0ff5552b",
   "metadata": {},
   "outputs": [
    {
     "data": {
      "text/html": [
       "<div>\n",
       "<style scoped>\n",
       "    .dataframe tbody tr th:only-of-type {\n",
       "        vertical-align: middle;\n",
       "    }\n",
       "\n",
       "    .dataframe tbody tr th {\n",
       "        vertical-align: top;\n",
       "    }\n",
       "\n",
       "    .dataframe thead th {\n",
       "        text-align: right;\n",
       "    }\n",
       "</style>\n",
       "<table border=\"1\" class=\"dataframe\">\n",
       "  <thead>\n",
       "    <tr style=\"text-align: right;\">\n",
       "      <th></th>\n",
       "      <th>ChildBks</th>\n",
       "      <th>YouthBks</th>\n",
       "      <th>CookBks</th>\n",
       "      <th>DoItYBks</th>\n",
       "      <th>RefBks</th>\n",
       "      <th>ArtBks</th>\n",
       "      <th>GeogBks</th>\n",
       "      <th>ItalCook</th>\n",
       "      <th>ItalAtlas</th>\n",
       "      <th>ItalArt</th>\n",
       "      <th>Florence</th>\n",
       "      <th>clusterid_new</th>\n",
       "    </tr>\n",
       "  </thead>\n",
       "  <tbody>\n",
       "    <tr>\n",
       "      <th>0</th>\n",
       "      <td>0</td>\n",
       "      <td>1</td>\n",
       "      <td>0</td>\n",
       "      <td>1</td>\n",
       "      <td>0</td>\n",
       "      <td>0</td>\n",
       "      <td>1</td>\n",
       "      <td>0</td>\n",
       "      <td>0</td>\n",
       "      <td>0</td>\n",
       "      <td>0</td>\n",
       "      <td>1</td>\n",
       "    </tr>\n",
       "    <tr>\n",
       "      <th>1</th>\n",
       "      <td>1</td>\n",
       "      <td>0</td>\n",
       "      <td>0</td>\n",
       "      <td>0</td>\n",
       "      <td>0</td>\n",
       "      <td>0</td>\n",
       "      <td>0</td>\n",
       "      <td>0</td>\n",
       "      <td>0</td>\n",
       "      <td>0</td>\n",
       "      <td>0</td>\n",
       "      <td>1</td>\n",
       "    </tr>\n",
       "    <tr>\n",
       "      <th>2</th>\n",
       "      <td>0</td>\n",
       "      <td>0</td>\n",
       "      <td>0</td>\n",
       "      <td>0</td>\n",
       "      <td>0</td>\n",
       "      <td>0</td>\n",
       "      <td>0</td>\n",
       "      <td>0</td>\n",
       "      <td>0</td>\n",
       "      <td>0</td>\n",
       "      <td>0</td>\n",
       "      <td>1</td>\n",
       "    </tr>\n",
       "    <tr>\n",
       "      <th>3</th>\n",
       "      <td>1</td>\n",
       "      <td>1</td>\n",
       "      <td>1</td>\n",
       "      <td>0</td>\n",
       "      <td>1</td>\n",
       "      <td>0</td>\n",
       "      <td>1</td>\n",
       "      <td>0</td>\n",
       "      <td>0</td>\n",
       "      <td>0</td>\n",
       "      <td>0</td>\n",
       "      <td>0</td>\n",
       "    </tr>\n",
       "    <tr>\n",
       "      <th>4</th>\n",
       "      <td>0</td>\n",
       "      <td>0</td>\n",
       "      <td>1</td>\n",
       "      <td>0</td>\n",
       "      <td>0</td>\n",
       "      <td>0</td>\n",
       "      <td>1</td>\n",
       "      <td>0</td>\n",
       "      <td>0</td>\n",
       "      <td>0</td>\n",
       "      <td>0</td>\n",
       "      <td>2</td>\n",
       "    </tr>\n",
       "  </tbody>\n",
       "</table>\n",
       "</div>"
      ],
      "text/plain": [
       "   ChildBks  YouthBks  CookBks  DoItYBks  RefBks  ArtBks  GeogBks  ItalCook  \\\n",
       "0         0         1        0         1       0       0        1         0   \n",
       "1         1         0        0         0       0       0        0         0   \n",
       "2         0         0        0         0       0       0        0         0   \n",
       "3         1         1        1         0       1       0        1         0   \n",
       "4         0         0        1         0       0       0        1         0   \n",
       "\n",
       "   ItalAtlas  ItalArt  Florence  clusterid_new  \n",
       "0          0        0         0              1  \n",
       "1          0        0         0              1  \n",
       "2          0        0         0              1  \n",
       "3          0        0         0              0  \n",
       "4          0        0         0              2  "
      ]
     },
     "execution_count": 69,
     "metadata": {},
     "output_type": "execute_result"
    }
   ],
   "source": [
    "df['clusterid_new'] = clusters_new.labels_\n",
    "df.head()"
   ]
  },
  {
   "cell_type": "code",
   "execution_count": 70,
   "id": "6dd81ad6",
   "metadata": {},
   "outputs": [
    {
     "data": {
      "text/plain": [
       "array([[8.98686679e-01, 5.98499062e-01, 8.72420263e-01, 6.81050657e-01,\n",
       "        5.70356473e-01, 6.15384615e-01, 7.20450281e-01, 3.05816135e-01,\n",
       "        1.14446529e-01, 1.55722326e-01, 1.68855535e-01],\n",
       "       [2.52336449e-01, 1.22429907e-01, 1.72084569e-15, 1.36448598e-01,\n",
       "        7.10280374e-02, 9.43925234e-02, 1.06542056e-01, 6.10622664e-16,\n",
       "        3.73831776e-03, 3.73831776e-03, 9.90654206e-02],\n",
       "       [2.44332494e-01, 1.13350126e-01, 1.00000000e+00, 1.38539043e-01,\n",
       "        1.23425693e-01, 1.33501259e-01, 1.36020151e-01, 1.61209068e-01,\n",
       "        2.26700252e-02, 2.51889169e-02, 5.28967254e-02]])"
      ]
     },
     "execution_count": 70,
     "metadata": {},
     "output_type": "execute_result"
    }
   ],
   "source": [
    "clusters_new.cluster_centers_"
   ]
  },
  {
   "cell_type": "code",
   "execution_count": 71,
   "id": "839626ce",
   "metadata": {},
   "outputs": [
    {
     "data": {
      "text/html": [
       "<div>\n",
       "<style scoped>\n",
       "    .dataframe tbody tr th:only-of-type {\n",
       "        vertical-align: middle;\n",
       "    }\n",
       "\n",
       "    .dataframe tbody tr th {\n",
       "        vertical-align: top;\n",
       "    }\n",
       "\n",
       "    .dataframe thead th {\n",
       "        text-align: right;\n",
       "    }\n",
       "</style>\n",
       "<table border=\"1\" class=\"dataframe\">\n",
       "  <thead>\n",
       "    <tr style=\"text-align: right;\">\n",
       "      <th></th>\n",
       "      <th>ChildBks</th>\n",
       "      <th>YouthBks</th>\n",
       "      <th>CookBks</th>\n",
       "      <th>DoItYBks</th>\n",
       "      <th>RefBks</th>\n",
       "      <th>ArtBks</th>\n",
       "      <th>GeogBks</th>\n",
       "      <th>ItalCook</th>\n",
       "      <th>ItalAtlas</th>\n",
       "      <th>ItalArt</th>\n",
       "      <th>Florence</th>\n",
       "      <th>clusterid_new</th>\n",
       "    </tr>\n",
       "  </thead>\n",
       "  <tbody>\n",
       "    <tr>\n",
       "      <th>3</th>\n",
       "      <td>1</td>\n",
       "      <td>1</td>\n",
       "      <td>1</td>\n",
       "      <td>0</td>\n",
       "      <td>1</td>\n",
       "      <td>0</td>\n",
       "      <td>1</td>\n",
       "      <td>0</td>\n",
       "      <td>0</td>\n",
       "      <td>0</td>\n",
       "      <td>0</td>\n",
       "      <td>0</td>\n",
       "    </tr>\n",
       "    <tr>\n",
       "      <th>9</th>\n",
       "      <td>1</td>\n",
       "      <td>1</td>\n",
       "      <td>1</td>\n",
       "      <td>0</td>\n",
       "      <td>0</td>\n",
       "      <td>0</td>\n",
       "      <td>1</td>\n",
       "      <td>0</td>\n",
       "      <td>0</td>\n",
       "      <td>0</td>\n",
       "      <td>0</td>\n",
       "      <td>0</td>\n",
       "    </tr>\n",
       "    <tr>\n",
       "      <th>13</th>\n",
       "      <td>1</td>\n",
       "      <td>1</td>\n",
       "      <td>0</td>\n",
       "      <td>1</td>\n",
       "      <td>1</td>\n",
       "      <td>1</td>\n",
       "      <td>0</td>\n",
       "      <td>0</td>\n",
       "      <td>1</td>\n",
       "      <td>1</td>\n",
       "      <td>0</td>\n",
       "      <td>0</td>\n",
       "    </tr>\n",
       "    <tr>\n",
       "      <th>15</th>\n",
       "      <td>1</td>\n",
       "      <td>1</td>\n",
       "      <td>1</td>\n",
       "      <td>0</td>\n",
       "      <td>0</td>\n",
       "      <td>0</td>\n",
       "      <td>1</td>\n",
       "      <td>0</td>\n",
       "      <td>0</td>\n",
       "      <td>0</td>\n",
       "      <td>0</td>\n",
       "      <td>0</td>\n",
       "    </tr>\n",
       "    <tr>\n",
       "      <th>18</th>\n",
       "      <td>1</td>\n",
       "      <td>1</td>\n",
       "      <td>1</td>\n",
       "      <td>1</td>\n",
       "      <td>1</td>\n",
       "      <td>1</td>\n",
       "      <td>1</td>\n",
       "      <td>0</td>\n",
       "      <td>0</td>\n",
       "      <td>0</td>\n",
       "      <td>0</td>\n",
       "      <td>0</td>\n",
       "    </tr>\n",
       "    <tr>\n",
       "      <th>...</th>\n",
       "      <td>...</td>\n",
       "      <td>...</td>\n",
       "      <td>...</td>\n",
       "      <td>...</td>\n",
       "      <td>...</td>\n",
       "      <td>...</td>\n",
       "      <td>...</td>\n",
       "      <td>...</td>\n",
       "      <td>...</td>\n",
       "      <td>...</td>\n",
       "      <td>...</td>\n",
       "      <td>...</td>\n",
       "    </tr>\n",
       "    <tr>\n",
       "      <th>1983</th>\n",
       "      <td>1</td>\n",
       "      <td>1</td>\n",
       "      <td>1</td>\n",
       "      <td>0</td>\n",
       "      <td>1</td>\n",
       "      <td>1</td>\n",
       "      <td>0</td>\n",
       "      <td>1</td>\n",
       "      <td>1</td>\n",
       "      <td>1</td>\n",
       "      <td>0</td>\n",
       "      <td>0</td>\n",
       "    </tr>\n",
       "    <tr>\n",
       "      <th>1987</th>\n",
       "      <td>1</td>\n",
       "      <td>1</td>\n",
       "      <td>1</td>\n",
       "      <td>1</td>\n",
       "      <td>0</td>\n",
       "      <td>1</td>\n",
       "      <td>1</td>\n",
       "      <td>0</td>\n",
       "      <td>0</td>\n",
       "      <td>0</td>\n",
       "      <td>0</td>\n",
       "      <td>0</td>\n",
       "    </tr>\n",
       "    <tr>\n",
       "      <th>1990</th>\n",
       "      <td>1</td>\n",
       "      <td>0</td>\n",
       "      <td>1</td>\n",
       "      <td>1</td>\n",
       "      <td>0</td>\n",
       "      <td>0</td>\n",
       "      <td>1</td>\n",
       "      <td>1</td>\n",
       "      <td>0</td>\n",
       "      <td>0</td>\n",
       "      <td>0</td>\n",
       "      <td>0</td>\n",
       "    </tr>\n",
       "    <tr>\n",
       "      <th>1992</th>\n",
       "      <td>0</td>\n",
       "      <td>1</td>\n",
       "      <td>1</td>\n",
       "      <td>1</td>\n",
       "      <td>0</td>\n",
       "      <td>1</td>\n",
       "      <td>1</td>\n",
       "      <td>1</td>\n",
       "      <td>0</td>\n",
       "      <td>1</td>\n",
       "      <td>0</td>\n",
       "      <td>0</td>\n",
       "    </tr>\n",
       "    <tr>\n",
       "      <th>1995</th>\n",
       "      <td>0</td>\n",
       "      <td>0</td>\n",
       "      <td>1</td>\n",
       "      <td>0</td>\n",
       "      <td>0</td>\n",
       "      <td>1</td>\n",
       "      <td>1</td>\n",
       "      <td>1</td>\n",
       "      <td>0</td>\n",
       "      <td>1</td>\n",
       "      <td>1</td>\n",
       "      <td>0</td>\n",
       "    </tr>\n",
       "  </tbody>\n",
       "</table>\n",
       "<p>533 rows × 12 columns</p>\n",
       "</div>"
      ],
      "text/plain": [
       "      ChildBks  YouthBks  CookBks  DoItYBks  RefBks  ArtBks  GeogBks  \\\n",
       "3            1         1        1         0       1       0        1   \n",
       "9            1         1        1         0       0       0        1   \n",
       "13           1         1        0         1       1       1        0   \n",
       "15           1         1        1         0       0       0        1   \n",
       "18           1         1        1         1       1       1        1   \n",
       "...        ...       ...      ...       ...     ...     ...      ...   \n",
       "1983         1         1        1         0       1       1        0   \n",
       "1987         1         1        1         1       0       1        1   \n",
       "1990         1         0        1         1       0       0        1   \n",
       "1992         0         1        1         1       0       1        1   \n",
       "1995         0         0        1         0       0       1        1   \n",
       "\n",
       "      ItalCook  ItalAtlas  ItalArt  Florence  clusterid_new  \n",
       "3            0          0        0         0              0  \n",
       "9            0          0        0         0              0  \n",
       "13           0          1        1         0              0  \n",
       "15           0          0        0         0              0  \n",
       "18           0          0        0         0              0  \n",
       "...        ...        ...      ...       ...            ...  \n",
       "1983         1          1        1         0              0  \n",
       "1987         0          0        0         0              0  \n",
       "1990         1          0        0         0              0  \n",
       "1992         1          0        1         0              0  \n",
       "1995         1          0        1         1              0  \n",
       "\n",
       "[533 rows x 12 columns]"
      ]
     },
     "execution_count": 71,
     "metadata": {},
     "output_type": "execute_result"
    }
   ],
   "source": [
    "df[df['clusterid_new']==0]"
   ]
  },
  {
   "cell_type": "code",
   "execution_count": 72,
   "id": "37374172",
   "metadata": {},
   "outputs": [
    {
     "data": {
      "text/html": [
       "<div>\n",
       "<style scoped>\n",
       "    .dataframe tbody tr th:only-of-type {\n",
       "        vertical-align: middle;\n",
       "    }\n",
       "\n",
       "    .dataframe tbody tr th {\n",
       "        vertical-align: top;\n",
       "    }\n",
       "\n",
       "    .dataframe thead th {\n",
       "        text-align: right;\n",
       "    }\n",
       "</style>\n",
       "<table border=\"1\" class=\"dataframe\">\n",
       "  <thead>\n",
       "    <tr style=\"text-align: right;\">\n",
       "      <th></th>\n",
       "      <th>ChildBks</th>\n",
       "      <th>YouthBks</th>\n",
       "      <th>CookBks</th>\n",
       "      <th>DoItYBks</th>\n",
       "      <th>RefBks</th>\n",
       "      <th>ArtBks</th>\n",
       "      <th>GeogBks</th>\n",
       "      <th>ItalCook</th>\n",
       "      <th>ItalAtlas</th>\n",
       "      <th>ItalArt</th>\n",
       "      <th>Florence</th>\n",
       "      <th>clusterid_new</th>\n",
       "    </tr>\n",
       "  </thead>\n",
       "  <tbody>\n",
       "    <tr>\n",
       "      <th>0</th>\n",
       "      <td>0</td>\n",
       "      <td>1</td>\n",
       "      <td>0</td>\n",
       "      <td>1</td>\n",
       "      <td>0</td>\n",
       "      <td>0</td>\n",
       "      <td>1</td>\n",
       "      <td>0</td>\n",
       "      <td>0</td>\n",
       "      <td>0</td>\n",
       "      <td>0</td>\n",
       "      <td>1</td>\n",
       "    </tr>\n",
       "    <tr>\n",
       "      <th>1</th>\n",
       "      <td>1</td>\n",
       "      <td>0</td>\n",
       "      <td>0</td>\n",
       "      <td>0</td>\n",
       "      <td>0</td>\n",
       "      <td>0</td>\n",
       "      <td>0</td>\n",
       "      <td>0</td>\n",
       "      <td>0</td>\n",
       "      <td>0</td>\n",
       "      <td>0</td>\n",
       "      <td>1</td>\n",
       "    </tr>\n",
       "    <tr>\n",
       "      <th>2</th>\n",
       "      <td>0</td>\n",
       "      <td>0</td>\n",
       "      <td>0</td>\n",
       "      <td>0</td>\n",
       "      <td>0</td>\n",
       "      <td>0</td>\n",
       "      <td>0</td>\n",
       "      <td>0</td>\n",
       "      <td>0</td>\n",
       "      <td>0</td>\n",
       "      <td>0</td>\n",
       "      <td>1</td>\n",
       "    </tr>\n",
       "    <tr>\n",
       "      <th>5</th>\n",
       "      <td>1</td>\n",
       "      <td>0</td>\n",
       "      <td>0</td>\n",
       "      <td>0</td>\n",
       "      <td>0</td>\n",
       "      <td>1</td>\n",
       "      <td>0</td>\n",
       "      <td>0</td>\n",
       "      <td>0</td>\n",
       "      <td>0</td>\n",
       "      <td>1</td>\n",
       "      <td>1</td>\n",
       "    </tr>\n",
       "    <tr>\n",
       "      <th>6</th>\n",
       "      <td>0</td>\n",
       "      <td>1</td>\n",
       "      <td>0</td>\n",
       "      <td>0</td>\n",
       "      <td>0</td>\n",
       "      <td>0</td>\n",
       "      <td>0</td>\n",
       "      <td>0</td>\n",
       "      <td>0</td>\n",
       "      <td>0</td>\n",
       "      <td>0</td>\n",
       "      <td>1</td>\n",
       "    </tr>\n",
       "    <tr>\n",
       "      <th>...</th>\n",
       "      <td>...</td>\n",
       "      <td>...</td>\n",
       "      <td>...</td>\n",
       "      <td>...</td>\n",
       "      <td>...</td>\n",
       "      <td>...</td>\n",
       "      <td>...</td>\n",
       "      <td>...</td>\n",
       "      <td>...</td>\n",
       "      <td>...</td>\n",
       "      <td>...</td>\n",
       "      <td>...</td>\n",
       "    </tr>\n",
       "    <tr>\n",
       "      <th>1993</th>\n",
       "      <td>0</td>\n",
       "      <td>0</td>\n",
       "      <td>0</td>\n",
       "      <td>0</td>\n",
       "      <td>0</td>\n",
       "      <td>0</td>\n",
       "      <td>0</td>\n",
       "      <td>0</td>\n",
       "      <td>0</td>\n",
       "      <td>0</td>\n",
       "      <td>0</td>\n",
       "      <td>1</td>\n",
       "    </tr>\n",
       "    <tr>\n",
       "      <th>1994</th>\n",
       "      <td>0</td>\n",
       "      <td>0</td>\n",
       "      <td>0</td>\n",
       "      <td>0</td>\n",
       "      <td>0</td>\n",
       "      <td>0</td>\n",
       "      <td>0</td>\n",
       "      <td>0</td>\n",
       "      <td>0</td>\n",
       "      <td>0</td>\n",
       "      <td>0</td>\n",
       "      <td>1</td>\n",
       "    </tr>\n",
       "    <tr>\n",
       "      <th>1996</th>\n",
       "      <td>0</td>\n",
       "      <td>0</td>\n",
       "      <td>0</td>\n",
       "      <td>0</td>\n",
       "      <td>0</td>\n",
       "      <td>0</td>\n",
       "      <td>0</td>\n",
       "      <td>0</td>\n",
       "      <td>0</td>\n",
       "      <td>0</td>\n",
       "      <td>0</td>\n",
       "      <td>1</td>\n",
       "    </tr>\n",
       "    <tr>\n",
       "      <th>1997</th>\n",
       "      <td>0</td>\n",
       "      <td>0</td>\n",
       "      <td>0</td>\n",
       "      <td>0</td>\n",
       "      <td>0</td>\n",
       "      <td>0</td>\n",
       "      <td>0</td>\n",
       "      <td>0</td>\n",
       "      <td>0</td>\n",
       "      <td>0</td>\n",
       "      <td>0</td>\n",
       "      <td>1</td>\n",
       "    </tr>\n",
       "    <tr>\n",
       "      <th>1999</th>\n",
       "      <td>0</td>\n",
       "      <td>0</td>\n",
       "      <td>0</td>\n",
       "      <td>0</td>\n",
       "      <td>0</td>\n",
       "      <td>0</td>\n",
       "      <td>0</td>\n",
       "      <td>0</td>\n",
       "      <td>0</td>\n",
       "      <td>0</td>\n",
       "      <td>0</td>\n",
       "      <td>1</td>\n",
       "    </tr>\n",
       "  </tbody>\n",
       "</table>\n",
       "<p>1070 rows × 12 columns</p>\n",
       "</div>"
      ],
      "text/plain": [
       "      ChildBks  YouthBks  CookBks  DoItYBks  RefBks  ArtBks  GeogBks  \\\n",
       "0            0         1        0         1       0       0        1   \n",
       "1            1         0        0         0       0       0        0   \n",
       "2            0         0        0         0       0       0        0   \n",
       "5            1         0        0         0       0       1        0   \n",
       "6            0         1        0         0       0       0        0   \n",
       "...        ...       ...      ...       ...     ...     ...      ...   \n",
       "1993         0         0        0         0       0       0        0   \n",
       "1994         0         0        0         0       0       0        0   \n",
       "1996         0         0        0         0       0       0        0   \n",
       "1997         0         0        0         0       0       0        0   \n",
       "1999         0         0        0         0       0       0        0   \n",
       "\n",
       "      ItalCook  ItalAtlas  ItalArt  Florence  clusterid_new  \n",
       "0            0          0        0         0              1  \n",
       "1            0          0        0         0              1  \n",
       "2            0          0        0         0              1  \n",
       "5            0          0        0         1              1  \n",
       "6            0          0        0         0              1  \n",
       "...        ...        ...      ...       ...            ...  \n",
       "1993         0          0        0         0              1  \n",
       "1994         0          0        0         0              1  \n",
       "1996         0          0        0         0              1  \n",
       "1997         0          0        0         0              1  \n",
       "1999         0          0        0         0              1  \n",
       "\n",
       "[1070 rows x 12 columns]"
      ]
     },
     "execution_count": 72,
     "metadata": {},
     "output_type": "execute_result"
    }
   ],
   "source": [
    "df[df['clusterid_new']==1]"
   ]
  },
  {
   "cell_type": "code",
   "execution_count": 73,
   "id": "9b80b079",
   "metadata": {},
   "outputs": [
    {
     "data": {
      "text/html": [
       "<div>\n",
       "<style scoped>\n",
       "    .dataframe tbody tr th:only-of-type {\n",
       "        vertical-align: middle;\n",
       "    }\n",
       "\n",
       "    .dataframe tbody tr th {\n",
       "        vertical-align: top;\n",
       "    }\n",
       "\n",
       "    .dataframe thead th {\n",
       "        text-align: right;\n",
       "    }\n",
       "</style>\n",
       "<table border=\"1\" class=\"dataframe\">\n",
       "  <thead>\n",
       "    <tr style=\"text-align: right;\">\n",
       "      <th></th>\n",
       "      <th>ChildBks</th>\n",
       "      <th>YouthBks</th>\n",
       "      <th>CookBks</th>\n",
       "      <th>DoItYBks</th>\n",
       "      <th>RefBks</th>\n",
       "      <th>ArtBks</th>\n",
       "      <th>GeogBks</th>\n",
       "      <th>ItalCook</th>\n",
       "      <th>ItalAtlas</th>\n",
       "      <th>ItalArt</th>\n",
       "      <th>Florence</th>\n",
       "      <th>clusterid_new</th>\n",
       "    </tr>\n",
       "  </thead>\n",
       "  <tbody>\n",
       "    <tr>\n",
       "      <th>4</th>\n",
       "      <td>0</td>\n",
       "      <td>0</td>\n",
       "      <td>1</td>\n",
       "      <td>0</td>\n",
       "      <td>0</td>\n",
       "      <td>0</td>\n",
       "      <td>1</td>\n",
       "      <td>0</td>\n",
       "      <td>0</td>\n",
       "      <td>0</td>\n",
       "      <td>0</td>\n",
       "      <td>2</td>\n",
       "    </tr>\n",
       "    <tr>\n",
       "      <th>11</th>\n",
       "      <td>0</td>\n",
       "      <td>0</td>\n",
       "      <td>1</td>\n",
       "      <td>0</td>\n",
       "      <td>0</td>\n",
       "      <td>0</td>\n",
       "      <td>1</td>\n",
       "      <td>0</td>\n",
       "      <td>0</td>\n",
       "      <td>0</td>\n",
       "      <td>0</td>\n",
       "      <td>2</td>\n",
       "    </tr>\n",
       "    <tr>\n",
       "      <th>14</th>\n",
       "      <td>1</td>\n",
       "      <td>1</td>\n",
       "      <td>1</td>\n",
       "      <td>0</td>\n",
       "      <td>0</td>\n",
       "      <td>0</td>\n",
       "      <td>0</td>\n",
       "      <td>0</td>\n",
       "      <td>0</td>\n",
       "      <td>0</td>\n",
       "      <td>0</td>\n",
       "      <td>2</td>\n",
       "    </tr>\n",
       "    <tr>\n",
       "      <th>16</th>\n",
       "      <td>0</td>\n",
       "      <td>0</td>\n",
       "      <td>1</td>\n",
       "      <td>0</td>\n",
       "      <td>0</td>\n",
       "      <td>0</td>\n",
       "      <td>0</td>\n",
       "      <td>0</td>\n",
       "      <td>0</td>\n",
       "      <td>0</td>\n",
       "      <td>0</td>\n",
       "      <td>2</td>\n",
       "    </tr>\n",
       "    <tr>\n",
       "      <th>17</th>\n",
       "      <td>0</td>\n",
       "      <td>0</td>\n",
       "      <td>1</td>\n",
       "      <td>0</td>\n",
       "      <td>0</td>\n",
       "      <td>0</td>\n",
       "      <td>0</td>\n",
       "      <td>0</td>\n",
       "      <td>0</td>\n",
       "      <td>0</td>\n",
       "      <td>0</td>\n",
       "      <td>2</td>\n",
       "    </tr>\n",
       "    <tr>\n",
       "      <th>...</th>\n",
       "      <td>...</td>\n",
       "      <td>...</td>\n",
       "      <td>...</td>\n",
       "      <td>...</td>\n",
       "      <td>...</td>\n",
       "      <td>...</td>\n",
       "      <td>...</td>\n",
       "      <td>...</td>\n",
       "      <td>...</td>\n",
       "      <td>...</td>\n",
       "      <td>...</td>\n",
       "      <td>...</td>\n",
       "    </tr>\n",
       "    <tr>\n",
       "      <th>1976</th>\n",
       "      <td>0</td>\n",
       "      <td>0</td>\n",
       "      <td>1</td>\n",
       "      <td>0</td>\n",
       "      <td>0</td>\n",
       "      <td>0</td>\n",
       "      <td>0</td>\n",
       "      <td>0</td>\n",
       "      <td>0</td>\n",
       "      <td>0</td>\n",
       "      <td>0</td>\n",
       "      <td>2</td>\n",
       "    </tr>\n",
       "    <tr>\n",
       "      <th>1979</th>\n",
       "      <td>0</td>\n",
       "      <td>0</td>\n",
       "      <td>1</td>\n",
       "      <td>1</td>\n",
       "      <td>0</td>\n",
       "      <td>1</td>\n",
       "      <td>0</td>\n",
       "      <td>0</td>\n",
       "      <td>0</td>\n",
       "      <td>0</td>\n",
       "      <td>0</td>\n",
       "      <td>2</td>\n",
       "    </tr>\n",
       "    <tr>\n",
       "      <th>1980</th>\n",
       "      <td>0</td>\n",
       "      <td>0</td>\n",
       "      <td>1</td>\n",
       "      <td>1</td>\n",
       "      <td>0</td>\n",
       "      <td>1</td>\n",
       "      <td>0</td>\n",
       "      <td>1</td>\n",
       "      <td>0</td>\n",
       "      <td>0</td>\n",
       "      <td>0</td>\n",
       "      <td>2</td>\n",
       "    </tr>\n",
       "    <tr>\n",
       "      <th>1982</th>\n",
       "      <td>0</td>\n",
       "      <td>0</td>\n",
       "      <td>1</td>\n",
       "      <td>0</td>\n",
       "      <td>0</td>\n",
       "      <td>0</td>\n",
       "      <td>0</td>\n",
       "      <td>0</td>\n",
       "      <td>0</td>\n",
       "      <td>0</td>\n",
       "      <td>0</td>\n",
       "      <td>2</td>\n",
       "    </tr>\n",
       "    <tr>\n",
       "      <th>1998</th>\n",
       "      <td>0</td>\n",
       "      <td>0</td>\n",
       "      <td>1</td>\n",
       "      <td>0</td>\n",
       "      <td>0</td>\n",
       "      <td>0</td>\n",
       "      <td>0</td>\n",
       "      <td>0</td>\n",
       "      <td>0</td>\n",
       "      <td>0</td>\n",
       "      <td>0</td>\n",
       "      <td>2</td>\n",
       "    </tr>\n",
       "  </tbody>\n",
       "</table>\n",
       "<p>397 rows × 12 columns</p>\n",
       "</div>"
      ],
      "text/plain": [
       "      ChildBks  YouthBks  CookBks  DoItYBks  RefBks  ArtBks  GeogBks  \\\n",
       "4            0         0        1         0       0       0        1   \n",
       "11           0         0        1         0       0       0        1   \n",
       "14           1         1        1         0       0       0        0   \n",
       "16           0         0        1         0       0       0        0   \n",
       "17           0         0        1         0       0       0        0   \n",
       "...        ...       ...      ...       ...     ...     ...      ...   \n",
       "1976         0         0        1         0       0       0        0   \n",
       "1979         0         0        1         1       0       1        0   \n",
       "1980         0         0        1         1       0       1        0   \n",
       "1982         0         0        1         0       0       0        0   \n",
       "1998         0         0        1         0       0       0        0   \n",
       "\n",
       "      ItalCook  ItalAtlas  ItalArt  Florence  clusterid_new  \n",
       "4            0          0        0         0              2  \n",
       "11           0          0        0         0              2  \n",
       "14           0          0        0         0              2  \n",
       "16           0          0        0         0              2  \n",
       "17           0          0        0         0              2  \n",
       "...        ...        ...      ...       ...            ...  \n",
       "1976         0          0        0         0              2  \n",
       "1979         0          0        0         0              2  \n",
       "1980         1          0        0         0              2  \n",
       "1982         0          0        0         0              2  \n",
       "1998         0          0        0         0              2  \n",
       "\n",
       "[397 rows x 12 columns]"
      ]
     },
     "execution_count": 73,
     "metadata": {},
     "output_type": "execute_result"
    }
   ],
   "source": [
    "df[df['clusterid_new']==2]"
   ]
  },
  {
   "cell_type": "code",
   "execution_count": 74,
   "id": "da2f4221",
   "metadata": {},
   "outputs": [
    {
     "data": {
      "text/html": [
       "<div>\n",
       "<style scoped>\n",
       "    .dataframe tbody tr th:only-of-type {\n",
       "        vertical-align: middle;\n",
       "    }\n",
       "\n",
       "    .dataframe tbody tr th {\n",
       "        vertical-align: top;\n",
       "    }\n",
       "\n",
       "    .dataframe thead tr th {\n",
       "        text-align: left;\n",
       "    }\n",
       "</style>\n",
       "<table border=\"1\" class=\"dataframe\">\n",
       "  <thead>\n",
       "    <tr>\n",
       "      <th></th>\n",
       "      <th>clusterid_new</th>\n",
       "      <th>ChildBks</th>\n",
       "      <th>YouthBks</th>\n",
       "      <th>CookBks</th>\n",
       "      <th>DoItYBks</th>\n",
       "      <th>RefBks</th>\n",
       "      <th>ArtBks</th>\n",
       "      <th>GeogBks</th>\n",
       "      <th>ItalCook</th>\n",
       "      <th>ItalAtlas</th>\n",
       "      <th>ItalArt</th>\n",
       "      <th>Florence</th>\n",
       "    </tr>\n",
       "    <tr>\n",
       "      <th></th>\n",
       "      <th></th>\n",
       "      <th>mean</th>\n",
       "      <th>mean</th>\n",
       "      <th>mean</th>\n",
       "      <th>mean</th>\n",
       "      <th>mean</th>\n",
       "      <th>mean</th>\n",
       "      <th>mean</th>\n",
       "      <th>mean</th>\n",
       "      <th>mean</th>\n",
       "      <th>mean</th>\n",
       "      <th>mean</th>\n",
       "    </tr>\n",
       "  </thead>\n",
       "  <tbody>\n",
       "    <tr>\n",
       "      <th>0</th>\n",
       "      <td>0</td>\n",
       "      <td>0.898687</td>\n",
       "      <td>0.598499</td>\n",
       "      <td>0.87242</td>\n",
       "      <td>0.681051</td>\n",
       "      <td>0.570356</td>\n",
       "      <td>0.615385</td>\n",
       "      <td>0.720450</td>\n",
       "      <td>0.305816</td>\n",
       "      <td>0.114447</td>\n",
       "      <td>0.155722</td>\n",
       "      <td>0.168856</td>\n",
       "    </tr>\n",
       "    <tr>\n",
       "      <th>1</th>\n",
       "      <td>1</td>\n",
       "      <td>0.252336</td>\n",
       "      <td>0.122430</td>\n",
       "      <td>0.00000</td>\n",
       "      <td>0.136449</td>\n",
       "      <td>0.071028</td>\n",
       "      <td>0.094393</td>\n",
       "      <td>0.106542</td>\n",
       "      <td>0.000000</td>\n",
       "      <td>0.003738</td>\n",
       "      <td>0.003738</td>\n",
       "      <td>0.099065</td>\n",
       "    </tr>\n",
       "    <tr>\n",
       "      <th>2</th>\n",
       "      <td>2</td>\n",
       "      <td>0.244332</td>\n",
       "      <td>0.113350</td>\n",
       "      <td>1.00000</td>\n",
       "      <td>0.138539</td>\n",
       "      <td>0.123426</td>\n",
       "      <td>0.133501</td>\n",
       "      <td>0.136020</td>\n",
       "      <td>0.161209</td>\n",
       "      <td>0.022670</td>\n",
       "      <td>0.025189</td>\n",
       "      <td>0.052897</td>\n",
       "    </tr>\n",
       "  </tbody>\n",
       "</table>\n",
       "</div>"
      ],
      "text/plain": [
       "  clusterid_new  ChildBks  YouthBks  CookBks  DoItYBks    RefBks    ArtBks  \\\n",
       "                     mean      mean     mean      mean      mean      mean   \n",
       "0             0  0.898687  0.598499  0.87242  0.681051  0.570356  0.615385   \n",
       "1             1  0.252336  0.122430  0.00000  0.136449  0.071028  0.094393   \n",
       "2             2  0.244332  0.113350  1.00000  0.138539  0.123426  0.133501   \n",
       "\n",
       "    GeogBks  ItalCook ItalAtlas   ItalArt  Florence  \n",
       "       mean      mean      mean      mean      mean  \n",
       "0  0.720450  0.305816  0.114447  0.155722  0.168856  \n",
       "1  0.106542  0.000000  0.003738  0.003738  0.099065  \n",
       "2  0.136020  0.161209  0.022670  0.025189  0.052897  "
      ]
     },
     "execution_count": 74,
     "metadata": {},
     "output_type": "execute_result"
    }
   ],
   "source": [
    "df.groupby('clusterid_new').agg(['mean']).reset_index()"
   ]
  },
  {
   "cell_type": "markdown",
   "id": "d5b9d9e1",
   "metadata": {},
   "source": [
    "Conclusions with Clustering"
   ]
  },
  {
   "cell_type": "markdown",
   "id": "fdf71960",
   "metadata": {},
   "source": [
    "1)After clustering we have know that transactions happened in cluster id 0 are most of the customers interested purchasing \n",
    "most of types of books, evidently the association of childbooks and cookBooks.\n",
    "\n",
    "2)when we check with cluster 1  we observe that transaction frequency are very low and hardly customers interaction has been with association of childbooks and youth books \n",
    "\n",
    "3)when we check cluster 2 the highest transactions have been with cookbooks in association with youth books,dolty books,artbooks,Refbooks, geographybooks and ital cooking, we can say that these clusters are purchasing book with association to each other "
   ]
  },
  {
   "cell_type": "markdown",
   "id": "f36a3a15",
   "metadata": {},
   "source": [
    "Conclusion with Association Rules\n",
    "\n",
    "1)With 20% support and 75% confidence we have observed that customers have engaged with cooking books and childbooks, we have seen under our first rule that association between these items attract a lot of customers,we can also say that 20% of customers are nly interested with only these two items.\n",
    "\n",
    "2)With 10% support and 70% confidence we have observed that customers have engaged with two or more items like with child books they are purchasing cook books,geogbooks and artbooks.and for the growth of sales we can engage the rate of support with recommendations or discounts \n",
    "\n",
    "3)With 5% support and 90% confidence we have observed  that customers who are purchasing  italbooks are engaging with rest of the books and the purchase rate of other categories also have a good scale,for these kind of customers we could put them in cluster 3 and give them suggestions or offers \n",
    "\n",
    "4)To conclude Association rules is a rule to understand what goes with what, and pattern or trends of transaction and creating different rules according our requirement and visualise the purchases to sell items in combination to one another."
   ]
  }
 ],
 "metadata": {
  "kernelspec": {
   "display_name": "Python 3 (ipykernel)",
   "language": "python",
   "name": "python3"
  },
  "language_info": {
   "codemirror_mode": {
    "name": "ipython",
    "version": 3
   },
   "file_extension": ".py",
   "mimetype": "text/x-python",
   "name": "python",
   "nbconvert_exporter": "python",
   "pygments_lexer": "ipython3",
   "version": "3.9.13"
  }
 },
 "nbformat": 4,
 "nbformat_minor": 5
}
